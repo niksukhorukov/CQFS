{
 "cells": [
  {
   "cell_type": "code",
   "execution_count": 1,
   "metadata": {
    "collapsed": true,
    "deletable": true,
    "editable": true
   },
   "outputs": [],
   "source": [
    "import os\n",
    "dr_xing_results = '/trinity/home/nikita.sukhorukov/CQFS/results/XingChallenge2017/ICM_all'\n",
    "dr_tmd_results = '/trinity/home/nikita.sukhorukov/CQFS/results/TheMoviesDataset/ICM_metadata/'\n",
    "dr_cite_results = '/trinity/home/nikita.sukhorukov/CQFS/results/CiteULike_a/ICM_title_abstract/'"
   ]
  },
  {
   "cell_type": "code",
   "execution_count": 2,
   "metadata": {
    "collapsed": true,
    "deletable": true,
    "editable": true
   },
   "outputs": [],
   "source": [
    "PS = [40, 60, 80, 95]"
   ]
  },
  {
   "cell_type": "code",
   "execution_count": 3,
   "metadata": {
    "collapsed": true,
    "deletable": true,
    "editable": true
   },
   "outputs": [],
   "source": [
    "import re\n",
    "REGEX_RESULTS = re.compile(\n",
    "    r'.*PRECISION: (?P<precision>.*).*'\n",
    "    r'.*RECALL: (?P<recall>.*).*'\n",
    "    r'.*NDCG: (?P<ndcg>.*).*'\n",
    "    r'.*MAP: (?P<map>.*).*'\n",
    "    r'.*COVERAGE_ITEM: (?P<coverage>.*).*'\n",
    "    r'.*DIVERSITY_GINI: (?P<gini>.*).*'\n",
    "    r'.*DIVERSITY_MEAN_INTER_LIST: (?P<mil>.*).*'\n",
    ")"
   ]
  },
  {
   "cell_type": "code",
   "execution_count": 4,
   "metadata": {
    "collapsed": true,
    "deletable": true,
    "editable": true
   },
   "outputs": [],
   "source": [
    "import re\n",
    "\n",
    "CUTOFF = [5, 10, 20, 50]\n",
    "\n",
    "def find_validation_results(fin):\n",
    "    metrics = {}\n",
    "    for line in fin:\n",
    "        if line.startswith('SearchBayesianSkopt: New best config found.'):\n",
    "            metrics = {\n",
    "                metric: float(re.search(rf'{metric}: ([\\.0-9]+)', line).group(1))\n",
    "                for metric in (\n",
    "                    'PRECISION', 'RECALL', 'NDCG', 'MAP', 'COVERAGE_USER',\n",
    "                    'COVERAGE_ITEM', 'DIVERSITY_GINI', 'DIVERSITY_MEAN_INTER_LIST'\n",
    "                )\n",
    "            }\n",
    "    return metrics\n",
    "    \n",
    "def find_test_results(fin):\n",
    "    metrics = {}\n",
    "    for line in fin:\n",
    "        if line.startswith('SearchBayesianSkopt: Best config evaluated with evaluator_test with constructor data for final test'):\n",
    "            break\n",
    "    for cutoff, results in zip(CUTOFF, [fin.readline().strip() for i in range(4)]):\n",
    "        metrics[cutoff] = {\n",
    "            metric: float(re.search(rf'{metric}: ([\\.0-9]+)', results).group(1))\n",
    "            for metric in (\n",
    "                'PRECISION', 'RECALL', 'NDCG', 'MAP', 'COVERAGE_USER',\n",
    "                'COVERAGE_ITEM', 'DIVERSITY_GINI', 'DIVERSITY_MEAN_INTER_LIST'\n",
    "            )\n",
    "        }\n",
    "    return metrics"
   ]
  },
  {
   "cell_type": "code",
   "execution_count": 5,
   "metadata": {
    "collapsed": false,
    "deletable": true,
    "editable": true
   },
   "outputs": [],
   "source": [
    "import re\n",
    "import numpy as np\n",
    "REGEX_EXP_DIR = re.compile('^a0(\\d+)r(\\d+)d([+-]?\\d+)p0(\\d{2})$')\n",
    "\n",
    "def get_baseline_results(dr, *, ICM_name):\n",
    "    dr_knn = os.path.join(dr, 'ItemKNNCBFRecommender')\n",
    "    dr_tfidf = os.path.join(dr, 'TFIDF')\n",
    "    dr_popular = os.path.join(dr, 'popular')\n",
    "    # dr_random = os.path.join(dr, 'random_s0')\n",
    "    dr_cfecbf_knn = os.path.join(dr, 'CFW_D_Similarity_Cython', 'ItemKNNCFRecommender')\n",
    "    dr_cfecbf_puresvd = os.path.join(dr, 'CFW_D_Similarity_Cython', 'PureSVDItemRecommender')\n",
    "    dr_cfecbf_rp3beta = os.path.join(dr, 'CFW_D_Similarity_Cython', 'RP3betaRecommender')\n",
    "    experiments = []\n",
    "    experiments.append(\n",
    "        {\n",
    "            'path': os.path.join(dr_knn, f'ItemKNNCBFRecommender_{ICM_name}_cosine_SearchBayesianSkopt.txt'),\n",
    "            'name': 'ItemKNN CBF',\n",
    "        }\n",
    "    )\n",
    "    experiments.extend([\n",
    "        {\n",
    "            'path': os.path.join(dr_tfidf, 'p%03d' % p, 'ItemKNNCBFRecommender', f'ItemKNNCBFRecommender_{ICM_name}_cosine_SearchBayesianSkopt.txt'),\n",
    "            'name': f'TFIDF {p}%',\n",
    "        }\n",
    "        for p in [5, 20, 40, 60, 80, 95]\n",
    "    ])\n",
    "    experiments.extend([\n",
    "        {\n",
    "            'path': os.path.join(dr_popular, 'p%03d' % p, 'ItemKNNCBFRecommender', f'ItemKNNCBFRecommender_{ICM_name}_cosine_SearchBayesianSkopt.txt'),\n",
    "            'name': f'popular {p}%',\n",
    "        }\n",
    "        for p in [5, 20, 40, 60, 80, 95]\n",
    "    ])\n",
    "\n",
    "    # experiments.extend([\n",
    "    #     {\n",
    "    #         'path': os.path.join(dr_cfecbf_knn, f'CFW_D_Similarity_Cython_{ICM_name}_SearchBayesianSkopt.txt'),\n",
    "    #         'name': 'CFeCBF ItemKNN',\n",
    "    #     },\n",
    "    #     {\n",
    "    #         'path': os.path.join(dr_cfecbf_puresvd, f'CFW_D_Similarity_Cython_{ICM_name}_SearchBayesianSkopt.txt'),\n",
    "    #         'name': 'CFeCBF PureSVD',\n",
    "    #     },\n",
    "    #     {\n",
    "    #         'path': os.path.join(dr_cfecbf_rp3beta, f'CFW_D_Similarity_Cython_{ICM_name}_SearchBayesianSkopt.txt'),\n",
    "    #         'name': 'CFeCBF RP3Beta',\n",
    "    #     },\n",
    "    # ])\n",
    "    \n",
    "    for experiment in experiments:\n",
    "        with open(experiment['path'], 'r') as fin:\n",
    "            experiment.setdefault('metrics', {})['validation'] = find_validation_results(fin)\n",
    "            fin.seek(0)\n",
    "            experiment.setdefault('metrics', {})['test'] = find_test_results(fin)\n",
    "    \n",
    "    return experiments\n",
    "\n",
    "    \n",
    "\n",
    "def get_baseline_results_artyom(dr, *, ICM_name):\n",
    "    dr_knn = os.path.join(dr, 'ItemKNNCBFRecommender')\n",
    "    dr_tfidf = os.path.join(dr, 'TFIDF')\n",
    "    dr_popular = os.path.join(dr, 'popular')\n",
    "    dr_cfecbf_knn = os.path.join(dr, 'CFW_D_Similarity_Cython', 'ItemKNNCFRecommender')\n",
    "    dr_cfecbf_puresvd = os.path.join(dr, 'CFW_D_Similarity_Cython', 'PureSVDItemRecommender')\n",
    "    dr_cfecbf_rp3beta = os.path.join(dr, 'CFW_D_Similarity_Cython', 'RP3betaRecommender')\n",
    "    experiments = []\n",
    "    experiments.append(\n",
    "        {\n",
    "            'path': os.path.join(dr_knn, f'ItemKNNCBFRecommender_{ICM_name}_cosine_SearchBayesianSkopt.txt'),\n",
    "            'name': 'ItemKNN CBF',\n",
    "        }\n",
    "    )\n",
    "    experiments.extend([\n",
    "        {\n",
    "            'path': os.path.join(dr_tfidf, 'p%03d' % p, 'ItemKNNCBFRecommender', f'ItemKNNCBFRecommender_{ICM_name}_cosine_SearchBayesianSkopt.txt'),\n",
    "            'name': f'TFIDF {p}%',\n",
    "        }\n",
    "        for p in [40, 60, 80, 95]\n",
    "    ])\n",
    "    # experiments.extend([\n",
    "    #     {\n",
    "    #         'path': os.path.join(dr_popular, 'p%03d' % p, 'ItemKNNCBFRecommender', f'ItemKNNCBFRecommender_{ICM_name}_cosine_SearchBayesianSkopt.txt'),\n",
    "    #         'name': f'popular {p}%',\n",
    "    #     }\n",
    "    #     for p in [20, 40, 60, 80, 95]\n",
    "    # ])\n",
    "    experiments.extend([\n",
    "        {\n",
    "            'path': os.path.join(dr_cfecbf_knn, f'CFW_D_Similarity_Cython_{ICM_name}_SearchBayesianSkopt.txt'),\n",
    "            'name': 'CFeCBF ItemKNN',\n",
    "        },\n",
    "        {\n",
    "            'path': os.path.join(dr_cfecbf_puresvd, f'CFW_D_Similarity_Cython_{ICM_name}_SearchBayesianSkopt.txt'),\n",
    "            'name': 'CFeCBF PureSVD',\n",
    "        },\n",
    "        {\n",
    "            'path': os.path.join(dr_cfecbf_rp3beta, f'CFW_D_Similarity_Cython_{ICM_name}_SearchBayesianSkopt.txt'),\n",
    "            'name': 'CFeCBF RP3Beta',\n",
    "        },\n",
    "    ])\n",
    "    \n",
    "    for experiment in experiments:\n",
    "        with open(experiment['path'], 'r') as fin:\n",
    "            experiment.setdefault('metrics', {})['validation'] = find_validation_results(fin)\n",
    "            fin.seek(0)\n",
    "            experiment.setdefault('metrics', {})['test'] = find_test_results(fin)\n",
    "    \n",
    "    return experiments\n",
    "\n",
    "    \n",
    "def get_experiment_results(dr, *, ICM_name, recommender='ItemKNNCFRecommender'):\n",
    "    done = 0\n",
    "    not_done = 0\n",
    "    experiments = []\n",
    "    dr_cqfs = os.path.join(dr, recommender)\n",
    "    for file in os.listdir(dr_cqfs):\n",
    "        match = REGEX_EXP_DIR.match(file)\n",
    "        if not match:\n",
    "            continue\n",
    "\n",
    "        a, r, d, p = match.groups()\n",
    "        a = int(a) / 10\n",
    "        r = int(r)\n",
    "        d = int(d) / 10\n",
    "        p = int(p)\n",
    "        # print(a, r, d, p)\n",
    "        path = os.path.join(dr_cqfs, file, 'cqfs_hsvd', 'ItemKNNCBFRecommender', f'ItemKNNCBFRecommender_{ICM_name}_cosine_SearchBayesianSkopt.txt')\n",
    "        \n",
    "        if os.path.exists(path):\n",
    "            with open(path, 'r') as fin:\n",
    "                flag = False\n",
    "                for line in fin:\n",
    "                    if line.startswith('SearchBayesianSkopt: Best config evaluated with evaluator_test with constructor data for final test'):\n",
    "                        flag = True\n",
    "                if not flag:\n",
    "                    not_done += 1\n",
    "                    # print(a, r, d, p)\n",
    "                if flag:\n",
    "                    done += 1\n",
    "                    experiment = {\n",
    "                            'path': os.path.join(\n",
    "                                dr_cqfs,\n",
    "                                file, 'cqfs_hsvd', 'ItemKNNCBFRecommender', f'ItemKNNCBFRecommender_{ICM_name}_cosine_SearchBayesianSkopt.txt'\n",
    "                            ),\n",
    "                            'name': f'CQFS {recommender.replace(\"ItemRecommender\", \"\").replace(\"Recommender\", \"\").replace(\"CF\", \"\").replace(\"RP3beta\", \"RP3Beta\")} {p}%',\n",
    "                            'alpha': a,\n",
    "                            'rank': r,\n",
    "                            'd': d,\n",
    "                            'p': p,\n",
    "                            # '%': f'{sum(selection) / len(selection) * 100:.2f}',\n",
    "                            '%': p,\n",
    "                        }\n",
    "                    with open(experiment['path'], 'r') as fin1:\n",
    "                        experiment.setdefault('metrics', {})['validation'] = find_validation_results(fin1)\n",
    "                        fin1.seek(0)\n",
    "                        experiment.setdefault('metrics', {})['test'] = find_test_results(fin1)\n",
    "            \n",
    "                    experiments.append(experiment)\n",
    "\n",
    "    experiments.sort(key=lambda x: x['p'])\n",
    "    print(f'{done} + {not_done} = {done + not_done} ({done / (done + not_done)})')\n",
    "    return experiments"
   ]
  },
  {
   "cell_type": "code",
   "execution_count": 6,
   "metadata": {},
   "outputs": [],
   "source": [
    "xing_baselines = get_baseline_results(dr_xing_results, ICM_name='ICM_all')"
   ]
  },
  {
   "cell_type": "code",
   "execution_count": 7,
   "metadata": {},
   "outputs": [
    {
     "name": "stdout",
     "output_type": "stream",
     "text": [
      "189 + 276 = 465 (0.4064516129032258)\n"
     ]
    }
   ],
   "source": [
    "xing_experiments_svd = get_experiment_results(\n",
    "    dr_xing_results, ICM_name='ICM_all',\n",
    "    recommender='PureSVDItemRecommender'\n",
    ")"
   ]
  },
  {
   "cell_type": "code",
   "execution_count": 8,
   "metadata": {},
   "outputs": [],
   "source": [
    "cite_baselines = get_baseline_results(dr_cite_results, ICM_name='ICM_title_abstract')"
   ]
  },
  {
   "cell_type": "code",
   "execution_count": 9,
   "metadata": {},
   "outputs": [
    {
     "name": "stdout",
     "output_type": "stream",
     "text": [
      "391 + 113 = 504 (0.7757936507936508)\n"
     ]
    }
   ],
   "source": [
    "cite_experiments_svd = get_experiment_results(\n",
    "    dr_cite_results, ICM_name='ICM_title_abstract',\n",
    "    recommender='PureSVDItemRecommender'\n",
    ")"
   ]
  },
  {
   "cell_type": "code",
   "execution_count": 10,
   "metadata": {},
   "outputs": [],
   "source": [
    "tmd_baselines = get_baseline_results(dr_tmd_results, ICM_name='ICM_metadata')"
   ]
  },
  {
   "cell_type": "code",
   "execution_count": 11,
   "metadata": {},
   "outputs": [
    {
     "name": "stdout",
     "output_type": "stream",
     "text": [
      "361 + 503 = 864 (0.41782407407407407)\n"
     ]
    }
   ],
   "source": [
    "tmd_experiments_svd = get_experiment_results(\n",
    "    dr_tmd_results, ICM_name='ICM_metadata',\n",
    "    recommender='PureSVDItemRecommender'\n",
    ")"
   ]
  },
  {
   "cell_type": "code",
   "execution_count": 12,
   "metadata": {},
   "outputs": [],
   "source": [
    "import json, os\n",
    "results_json = {\n",
    "    'cite': {\n",
    "        'baseline': cite_baselines,\n",
    "        # 'knn': cite_experiments_knn,\n",
    "        'svd': cite_experiments_svd,\n",
    "        # 'rp3b': cite_experiments_rp3b,\n",
    "    },\n",
    "    'tmd': {\n",
    "        'baseline': tmd_baselines,\n",
    "        # 'knn': cite_experiments_knn,\n",
    "        'svd': tmd_experiments_svd,\n",
    "        # 'rp3b': cite_experiments_rp3b,\n",
    "    },\n",
    "    'xing': {\n",
    "        'baseline': xing_baselines,\n",
    "        'svd': xing_experiments_svd\n",
    "    }\n",
    "}\n",
    "with open('results.json', 'w') as fout:\n",
    "    json.dump(results_json, fout)"
   ]
  },
  {
   "cell_type": "code",
   "execution_count": 14,
   "metadata": {},
   "outputs": [
    {
     "data": {
      "text/plain": [
       "{'path': '/trinity/home/nikita.sukhorukov/CQFS/results/CiteULike_a/ICM_title_abstract/PureSVDItemRecommender/a04r100d-15p005/cqfs_hsvd/ItemKNNCBFRecommender/ItemKNNCBFRecommender_ICM_title_abstract_cosine_SearchBayesianSkopt.txt',\n",
       " 'name': 'CQFS PureSVD 5%',\n",
       " 'alpha': 0.4,\n",
       " 'rank': 100,\n",
       " 'd': -1.5,\n",
       " 'p': 5,\n",
       " '%': 5,\n",
       " 'metrics': {'validation': {'PRECISION': 0.0978441,\n",
       "   'RECALL': 0.2615136,\n",
       "   'NDCG': 0.1963239,\n",
       "   'MAP': 0.1289849,\n",
       "   'COVERAGE_USER': 0.8690326,\n",
       "   'COVERAGE_ITEM': 0.3314127,\n",
       "   'DIVERSITY_GINI': 0.1698469,\n",
       "   'DIVERSITY_MEAN_INTER_LIST': 0.9882531},\n",
       "  'test': {5: {'PRECISION': 0.1386489,\n",
       "    'RECALL': 0.1148768,\n",
       "    'NDCG': 0.1217012,\n",
       "    'MAP': 0.105929,\n",
       "    'COVERAGE_USER': 0.9760404,\n",
       "    'COVERAGE_ITEM': 0.7983168,\n",
       "    'DIVERSITY_GINI': 0.346182,\n",
       "    'DIVERSITY_MEAN_INTER_LIST': 0.9947153},\n",
       "   10: {'PRECISION': 0.1186969,\n",
       "    'RECALL': 0.1877255,\n",
       "    'NDCG': 0.162455,\n",
       "    'MAP': 0.1031437,\n",
       "    'COVERAGE_USER': 0.9760404,\n",
       "    'COVERAGE_ITEM': 0.9107304,\n",
       "    'DIVERSITY_GINI': 0.4209075,\n",
       "    'DIVERSITY_MEAN_INTER_LIST': 0.9920932},\n",
       "   20: {'PRECISION': 0.0945736,\n",
       "    'RECALL': 0.2876007,\n",
       "    'NDCG': 0.2067473,\n",
       "    'MAP': 0.1086111,\n",
       "    'COVERAGE_USER': 0.9760404,\n",
       "    'COVERAGE_ITEM': 0.9783589,\n",
       "    'DIVERSITY_GINI': 0.5124596,\n",
       "    'DIVERSITY_MEAN_INTER_LIST': 0.9882805},\n",
       "   50: {'PRECISION': 0.061997,\n",
       "    'RECALL': 0.4469178,\n",
       "    'NDCG': 0.2635973,\n",
       "    'MAP': 0.1202648,\n",
       "    'COVERAGE_USER': 0.9760404,\n",
       "    'COVERAGE_ITEM': 0.9993989,\n",
       "    'DIVERSITY_GINI': 0.6433502,\n",
       "    'DIVERSITY_MEAN_INTER_LIST': 0.9784574}}}}"
      ]
     },
     "execution_count": 14,
     "metadata": {},
     "output_type": "execute_result"
    }
   ],
   "source": [
    "cite_experiments_svd[2]"
   ]
  },
  {
   "cell_type": "code",
   "execution_count": null,
   "metadata": {},
   "outputs": [],
   "source": []
  },
  {
   "cell_type": "code",
   "execution_count": 26,
   "metadata": {},
   "outputs": [],
   "source": [
    "dr_cite_results_artyom = '/mnt/bulky/anikitin/Developer/CQFS/results/CiteULike_a/ICM_title_abstract/'"
   ]
  },
  {
   "cell_type": "code",
   "execution_count": 27,
   "metadata": {},
   "outputs": [],
   "source": [
    "cite_baselines_artyom = get_baseline_results_artyom(dr_cite_results_artyom, ICM_name='ICM_title_abstract')"
   ]
  },
  {
   "cell_type": "code",
   "execution_count": 28,
   "metadata": {},
   "outputs": [],
   "source": [
    "cite_baselines = get_baseline_results(dr_cite_results, ICM_name='ICM_title_abstract')\n"
   ]
  },
  {
   "cell_type": "code",
   "execution_count": 29,
   "metadata": {},
   "outputs": [
    {
     "data": {
      "text/plain": [
       "[{'path': '/mnt/bulky2/nsukhorukov/CQFS/results/CiteULike_a/ICM_title_abstract/popular/p020/ItemKNNCBFRecommender/ItemKNNCBFRecommender_ICM_title_abstract_cosine_SearchBayesianSkopt.txt',\n",
       "  'name': 'popular 20%',\n",
       "  'metrics': {'validation': {'PRECISION': 0.1134768,\n",
       "    'RECALL': 0.3096767,\n",
       "    'NDCG': 0.2372417,\n",
       "    'MAP': 0.1613923,\n",
       "    'COVERAGE_ITEM': 0.3219192,\n",
       "    'DIVERSITY_GINI': 0.1700835,\n",
       "    'DIVERSITY_MEAN_INTER_LIST': 0.9885168},\n",
       "   'test': {5: {'PRECISION': 0.1706534,\n",
       "     'RECALL': 0.1522832,\n",
       "     'NDCG': 0.1596466,\n",
       "     'MAP': 0.1387608,\n",
       "     'COVERAGE_ITEM': 0.7832542,\n",
       "     'DIVERSITY_GINI': 0.3452774,\n",
       "     'DIVERSITY_MEAN_INTER_LIST': 0.9949173},\n",
       "    10: {'PRECISION': 0.1387228,\n",
       "     'RECALL': 0.234395,\n",
       "     'NDCG': 0.2048676,\n",
       "     'MAP': 0.1332815,\n",
       "     'COVERAGE_ITEM': 0.9207245,\n",
       "     'DIVERSITY_GINI': 0.4310629,\n",
       "     'DIVERSITY_MEAN_INTER_LIST': 0.9925847},\n",
       "    20: {'PRECISION': 0.1065707,\n",
       "     'RECALL': 0.3357168,\n",
       "     'NDCG': 0.250566,\n",
       "     'MAP': 0.1397936,\n",
       "     'COVERAGE_ITEM': 0.983076,\n",
       "     'DIVERSITY_GINI': 0.5225938,\n",
       "     'DIVERSITY_MEAN_INTER_LIST': 0.9888186},\n",
       "    50: {'PRECISION': 0.0685419,\n",
       "     'RECALL': 0.5056286,\n",
       "     'NDCG': 0.3115313,\n",
       "     'MAP': 0.153835,\n",
       "     'COVERAGE_ITEM': 0.9994062,\n",
       "     'DIVERSITY_GINI': 0.653699,\n",
       "     'DIVERSITY_MEAN_INTER_LIST': 0.9791871}}}},\n",
       " {'path': '/mnt/bulky2/nsukhorukov/CQFS/results/CiteULike_a/ICM_title_abstract/popular/p040/ItemKNNCBFRecommender/ItemKNNCBFRecommender_ICM_title_abstract_cosine_SearchBayesianSkopt.txt',\n",
       "  'name': 'popular 40%',\n",
       "  'metrics': {'validation': {'PRECISION': 0.1242583,\n",
       "    'RECALL': 0.3448752,\n",
       "    'NDCG': 0.2649606,\n",
       "    'MAP': 0.1839516,\n",
       "    'COVERAGE_ITEM': 0.3251045,\n",
       "    'DIVERSITY_GINI': 0.1782989,\n",
       "    'DIVERSITY_MEAN_INTER_LIST': 0.9892405},\n",
       "   'test': {5: {'PRECISION': 0.1910668,\n",
       "     'RECALL': 0.1724494,\n",
       "     'NDCG': 0.1832607,\n",
       "     'MAP': 0.1636159,\n",
       "     'COVERAGE_ITEM': 0.8064133,\n",
       "     'DIVERSITY_GINI': 0.3677699,\n",
       "     'DIVERSITY_MEAN_INTER_LIST': 0.9953172},\n",
       "    10: {'PRECISION': 0.1530085,\n",
       "     'RECALL': 0.2588862,\n",
       "     'NDCG': 0.2315144,\n",
       "     'MAP': 0.15763,\n",
       "     'COVERAGE_ITEM': 0.9343824,\n",
       "     'DIVERSITY_GINI': 0.4595216,\n",
       "     'DIVERSITY_MEAN_INTER_LIST': 0.9930969},\n",
       "    20: {'PRECISION': 0.1151901,\n",
       "     'RECALL': 0.3652393,\n",
       "     'NDCG': 0.2793694,\n",
       "     'MAP': 0.164134,\n",
       "     'COVERAGE_ITEM': 0.9910926,\n",
       "     'DIVERSITY_GINI': 0.5493034,\n",
       "     'DIVERSITY_MEAN_INTER_LIST': 0.9894146},\n",
       "    50: {'PRECISION': 0.0720819,\n",
       "     'RECALL': 0.5310745,\n",
       "     'NDCG': 0.3395119,\n",
       "     'MAP': 0.1779867,\n",
       "     'COVERAGE_ITEM': 1.0,\n",
       "     'DIVERSITY_GINI': 0.6716879,\n",
       "     'DIVERSITY_MEAN_INTER_LIST': 0.9796889}}}},\n",
       " {'path': '/mnt/bulky2/nsukhorukov/CQFS/results/CiteULike_a/ICM_title_abstract/popular/p060/ItemKNNCBFRecommender/ItemKNNCBFRecommender_ICM_title_abstract_cosine_SearchBayesianSkopt.txt',\n",
       "  'name': 'popular 60%',\n",
       "  'metrics': {'validation': {'PRECISION': 0.1286669,\n",
       "    'RECALL': 0.3582064,\n",
       "    'NDCG': 0.2785856,\n",
       "    'MAP': 0.1961297,\n",
       "    'COVERAGE_ITEM': 0.3257018,\n",
       "    'DIVERSITY_GINI': 0.184655,\n",
       "    'DIVERSITY_MEAN_INTER_LIST': 0.9896689},\n",
       "   'test': {5: {'PRECISION': 0.1984496,\n",
       "     'RECALL': 0.18124,\n",
       "     'NDCG': 0.1900964,\n",
       "     'MAP': 0.168179,\n",
       "     'COVERAGE_ITEM': 0.8316508,\n",
       "     'DIVERSITY_GINI': 0.3858536,\n",
       "     'DIVERSITY_MEAN_INTER_LIST': 0.9956196},\n",
       "    10: {'PRECISION': 0.1591178,\n",
       "     'RECALL': 0.2722977,\n",
       "     'NDCG': 0.2405618,\n",
       "     'MAP': 0.1637488,\n",
       "     'COVERAGE_ITEM': 0.9513064,\n",
       "     'DIVERSITY_GINI': 0.4783331,\n",
       "     'DIVERSITY_MEAN_INTER_LIST': 0.9934937},\n",
       "    20: {'PRECISION': 0.1192783,\n",
       "     'RECALL': 0.3808405,\n",
       "     'NDCG': 0.2895577,\n",
       "     'MAP': 0.1709964,\n",
       "     'COVERAGE_ITEM': 0.9928741,\n",
       "     'DIVERSITY_GINI': 0.5669944,\n",
       "     'DIVERSITY_MEAN_INTER_LIST': 0.9898204},\n",
       "    50: {'PRECISION': 0.0738575,\n",
       "     'RECALL': 0.5445653,\n",
       "     'NDCG': 0.349245,\n",
       "     'MAP': 0.1852117,\n",
       "     'COVERAGE_ITEM': 1.0,\n",
       "     'DIVERSITY_GINI': 0.6869581,\n",
       "     'DIVERSITY_MEAN_INTER_LIST': 0.9801542}}}},\n",
       " {'path': '/mnt/bulky2/nsukhorukov/CQFS/results/CiteULike_a/ICM_title_abstract/popular/p080/ItemKNNCBFRecommender/ItemKNNCBFRecommender_ICM_title_abstract_cosine_SearchBayesianSkopt.txt',\n",
       "  'name': 'popular 80%',\n",
       "  'metrics': {'validation': {'PRECISION': 0.1305683,\n",
       "    'RECALL': 0.3679888,\n",
       "    'NDCG': 0.2867073,\n",
       "    'MAP': 0.2028658,\n",
       "    'COVERAGE_ITEM': 0.3251045,\n",
       "    'DIVERSITY_GINI': 0.180891,\n",
       "    'DIVERSITY_MEAN_INTER_LIST': 0.9893794},\n",
       "   'test': {5: {'PRECISION': 0.2020303,\n",
       "     'RECALL': 0.1860266,\n",
       "     'NDCG': 0.1947111,\n",
       "     'MAP': 0.1726773,\n",
       "     'COVERAGE_ITEM': 0.8245249,\n",
       "     'DIVERSITY_GINI': 0.3785684,\n",
       "     'DIVERSITY_MEAN_INTER_LIST': 0.9954192},\n",
       "    10: {'PRECISION': 0.1619601,\n",
       "     'RECALL': 0.278648,\n",
       "     'NDCG': 0.2462192,\n",
       "     'MAP': 0.1676556,\n",
       "     'COVERAGE_ITEM': 0.9447743,\n",
       "     'DIVERSITY_GINI': 0.468894,\n",
       "     'DIVERSITY_MEAN_INTER_LIST': 0.9932039},\n",
       "    20: {'PRECISION': 0.1213363,\n",
       "     'RECALL': 0.3888178,\n",
       "     'NDCG': 0.2959155,\n",
       "     'MAP': 0.1756771,\n",
       "     'COVERAGE_ITEM': 0.9928741,\n",
       "     'DIVERSITY_GINI': 0.5568792,\n",
       "     'DIVERSITY_MEAN_INTER_LIST': 0.9895285},\n",
       "    50: {'PRECISION': 0.0745995,\n",
       "     'RECALL': 0.5510762,\n",
       "     'NDCG': 0.3553852,\n",
       "     'MAP': 0.1898539,\n",
       "     'COVERAGE_ITEM': 0.9997031,\n",
       "     'DIVERSITY_GINI': 0.6756462,\n",
       "     'DIVERSITY_MEAN_INTER_LIST': 0.979785}}}},\n",
       " {'path': '/mnt/bulky2/nsukhorukov/CQFS/results/CiteULike_a/ICM_title_abstract/popular/p095/ItemKNNCBFRecommender/ItemKNNCBFRecommender_ICM_title_abstract_cosine_SearchBayesianSkopt.txt',\n",
       "  'name': 'popular 95%',\n",
       "  'metrics': {'validation': {'PRECISION': 0.1326786,\n",
       "    'RECALL': 0.3723647,\n",
       "    'NDCG': 0.2916759,\n",
       "    'MAP': 0.2072524,\n",
       "    'COVERAGE_ITEM': 0.3278917,\n",
       "    'DIVERSITY_GINI': 0.1926928,\n",
       "    'DIVERSITY_MEAN_INTER_LIST': 0.9901102},\n",
       "   'test': {5: {'PRECISION': 0.2077519,\n",
       "     'RECALL': 0.1920306,\n",
       "     'NDCG': 0.2011898,\n",
       "     'MAP': 0.1790202,\n",
       "     'COVERAGE_ITEM': 0.8568884,\n",
       "     'DIVERSITY_GINI': 0.4112278,\n",
       "     'DIVERSITY_MEAN_INTER_LIST': 0.9961362},\n",
       "    10: {'PRECISION': 0.1654854,\n",
       "     'RECALL': 0.2867859,\n",
       "     'NDCG': 0.2538794,\n",
       "     'MAP': 0.1729509,\n",
       "     'COVERAGE_ITEM': 0.9587292,\n",
       "     'DIVERSITY_GINI': 0.5039972,\n",
       "     'DIVERSITY_MEAN_INTER_LIST': 0.9940482},\n",
       "    20: {'PRECISION': 0.1238464,\n",
       "     'RECALL': 0.3941194,\n",
       "     'NDCG': 0.3031833,\n",
       "     'MAP': 0.1817664,\n",
       "     'COVERAGE_ITEM': 0.9958432,\n",
       "     'DIVERSITY_GINI': 0.5943726,\n",
       "     'DIVERSITY_MEAN_INTER_LIST': 0.9903914},\n",
       "    50: {'PRECISION': 0.0745995,\n",
       "     'RECALL': 0.5479029,\n",
       "     'NDCG': 0.359706,\n",
       "     'MAP': 0.1952591,\n",
       "     'COVERAGE_ITEM': 1.0,\n",
       "     'DIVERSITY_GINI': 0.7027946,\n",
       "     'DIVERSITY_MEAN_INTER_LIST': 0.9806174}}}},\n",
       " {'path': '/mnt/bulky2/nsukhorukov/CQFS/results/CiteULike_a/ICM_title_abstract/random_s0/p020/ItemKNNCBFRecommender/ItemKNNCBFRecommender_ICM_title_abstract_cosine_SearchBayesianSkopt.txt',\n",
       "  'name': 'random 20%',\n",
       "  'metrics': {'validation': {'PRECISION': 0.0799624,\n",
       "    'RECALL': 0.213924,\n",
       "    'NDCG': 0.1647272,\n",
       "    'MAP': 0.1072236,\n",
       "    'COVERAGE_ITEM': 0.3089787,\n",
       "    'DIVERSITY_GINI': 0.139072,\n",
       "    'DIVERSITY_MEAN_INTER_LIST': 0.9842635},\n",
       "   'test': {5: {'PRECISION': 0.1173496,\n",
       "     'RECALL': 0.0987194,\n",
       "     'NDCG': 0.1069603,\n",
       "     'MAP': 0.0906872,\n",
       "     'COVERAGE_ITEM': 0.6677553,\n",
       "     'DIVERSITY_GINI': 0.2619495,\n",
       "     'DIVERSITY_MEAN_INTER_LIST': 0.9929784},\n",
       "    10: {'PRECISION': 0.0949797,\n",
       "     'RECALL': 0.1502573,\n",
       "     'NDCG': 0.1361225,\n",
       "     'MAP': 0.0851457,\n",
       "     'COVERAGE_ITEM': 0.8212589,\n",
       "     'DIVERSITY_GINI': 0.331777,\n",
       "     'DIVERSITY_MEAN_INTER_LIST': 0.9894836},\n",
       "    20: {'PRECISION': 0.0718715,\n",
       "     'RECALL': 0.2170803,\n",
       "     'NDCG': 0.1661582,\n",
       "     'MAP': 0.0870419,\n",
       "     'COVERAGE_ITEM': 0.9320071,\n",
       "     'DIVERSITY_GINI': 0.4151699,\n",
       "     'DIVERSITY_MEAN_INTER_LIST': 0.984702},\n",
       "    50: {'PRECISION': 0.047811,\n",
       "     'RECALL': 0.3326189,\n",
       "     'NDCG': 0.2086771,\n",
       "     'MAP': 0.0954724,\n",
       "     'COVERAGE_ITEM': 0.9925772,\n",
       "     'DIVERSITY_GINI': 0.5443932,\n",
       "     'DIVERSITY_MEAN_INTER_LIST': 0.9737539}}}},\n",
       " {'path': '/mnt/bulky2/nsukhorukov/CQFS/results/CiteULike_a/ICM_title_abstract/random_s0/p040/ItemKNNCBFRecommender/ItemKNNCBFRecommender_ICM_title_abstract_cosine_SearchBayesianSkopt.txt',\n",
       "  'name': 'random 40%',\n",
       "  'metrics': {'validation': {'PRECISION': 0.1006268,\n",
       "    'RECALL': 0.2768023,\n",
       "    'NDCG': 0.2128156,\n",
       "    'MAP': 0.1423997,\n",
       "    'COVERAGE_ITEM': 0.3237109,\n",
       "    'DIVERSITY_GINI': 0.1559972,\n",
       "    'DIVERSITY_MEAN_INTER_LIST': 0.9867776},\n",
       "   'test': {5: {'PRECISION': 0.1545958,\n",
       "     'RECALL': 0.1374889,\n",
       "     'NDCG': 0.1451903,\n",
       "     'MAP': 0.1237805,\n",
       "     'COVERAGE_ITEM': 0.7811758,\n",
       "     'DIVERSITY_GINI': 0.323503,\n",
       "     'DIVERSITY_MEAN_INTER_LIST': 0.9943174},\n",
       "    10: {'PRECISION': 0.1263381,\n",
       "     'RECALL': 0.2121832,\n",
       "     'NDCG': 0.1866683,\n",
       "     'MAP': 0.1195884,\n",
       "     'COVERAGE_ITEM': 0.9118171,\n",
       "     'DIVERSITY_GINI': 0.3973434,\n",
       "     'DIVERSITY_MEAN_INTER_LIST': 0.9915396},\n",
       "    20: {'PRECISION': 0.0966131,\n",
       "     'RECALL': 0.3033097,\n",
       "     'NDCG': 0.2276502,\n",
       "     'MAP': 0.1250831,\n",
       "     'COVERAGE_ITEM': 0.9833729,\n",
       "     'DIVERSITY_GINI': 0.4809633,\n",
       "     'DIVERSITY_MEAN_INTER_LIST': 0.9872633},\n",
       "    50: {'PRECISION': 0.0612182,\n",
       "     'RECALL': 0.447122,\n",
       "     'NDCG': 0.2797142,\n",
       "     'MAP': 0.1363527,\n",
       "     'COVERAGE_ITEM': 1.0,\n",
       "     'DIVERSITY_GINI': 0.6012597,\n",
       "     'DIVERSITY_MEAN_INTER_LIST': 0.9768129}}}},\n",
       " {'path': '/mnt/bulky2/nsukhorukov/CQFS/results/CiteULike_a/ICM_title_abstract/random_s0/p060/ItemKNNCBFRecommender/ItemKNNCBFRecommender_ICM_title_abstract_cosine_SearchBayesianSkopt.txt',\n",
       "  'name': 'random 60%',\n",
       "  'metrics': {'validation': {'PRECISION': 0.1170288,\n",
       "    'RECALL': 0.3297264,\n",
       "    'NDCG': 0.2522913,\n",
       "    'MAP': 0.1735858,\n",
       "    'COVERAGE_ITEM': 0.3260999,\n",
       "    'DIVERSITY_GINI': 0.1689974,\n",
       "    'DIVERSITY_MEAN_INTER_LIST': 0.9881365},\n",
       "   'test': {5: {'PRECISION': 0.1830934,\n",
       "     'RECALL': 0.1672107,\n",
       "     'NDCG': 0.1767093,\n",
       "     'MAP': 0.1545604,\n",
       "     'COVERAGE_ITEM': 0.817696,\n",
       "     'DIVERSITY_GINI': 0.3600015,\n",
       "     'DIVERSITY_MEAN_INTER_LIST': 0.9948739},\n",
       "    10: {'PRECISION': 0.1442599,\n",
       "     'RECALL': 0.2470615,\n",
       "     'NDCG': 0.221014,\n",
       "     'MAP': 0.1474019,\n",
       "     'COVERAGE_ITEM': 0.9331948,\n",
       "     'DIVERSITY_GINI': 0.4376721,\n",
       "     'DIVERSITY_MEAN_INTER_LIST': 0.9922036},\n",
       "    20: {'PRECISION': 0.1097084,\n",
       "     'RECALL': 0.3497156,\n",
       "     'NDCG': 0.267364,\n",
       "     'MAP': 0.1546445,\n",
       "     'COVERAGE_ITEM': 0.9907957,\n",
       "     'DIVERSITY_GINI': 0.5225588,\n",
       "     'DIVERSITY_MEAN_INTER_LIST': 0.9883416},\n",
       "    50: {'PRECISION': 0.0687708,\n",
       "     'RECALL': 0.5026667,\n",
       "     'NDCG': 0.3235143,\n",
       "     'MAP': 0.1679201,\n",
       "     'COVERAGE_ITEM': 1.0,\n",
       "     'DIVERSITY_GINI': 0.6451576,\n",
       "     'DIVERSITY_MEAN_INTER_LIST': 0.9784781}}}},\n",
       " {'path': '/mnt/bulky2/nsukhorukov/CQFS/results/CiteULike_a/ICM_title_abstract/random_s0/p080/ItemKNNCBFRecommender/ItemKNNCBFRecommender_ICM_title_abstract_cosine_SearchBayesianSkopt.txt',\n",
       "  'name': 'random 80%',\n",
       "  'metrics': {'validation': {'PRECISION': 0.1254074,\n",
       "    'RECALL': 0.3543026,\n",
       "    'NDCG': 0.2757171,\n",
       "    'MAP': 0.1931353,\n",
       "    'COVERAGE_ITEM': 0.3259009,\n",
       "    'DIVERSITY_GINI': 0.1731833,\n",
       "    'DIVERSITY_MEAN_INTER_LIST': 0.9885648},\n",
       "   'test': {5: {'PRECISION': 0.1923219,\n",
       "     'RECALL': 0.1774991,\n",
       "     'NDCG': 0.1872831,\n",
       "     'MAP': 0.1638954,\n",
       "     'COVERAGE_ITEM': 0.8298694,\n",
       "     'DIVERSITY_GINI': 0.3667834,\n",
       "     'DIVERSITY_MEAN_INTER_LIST': 0.9950608},\n",
       "    10: {'PRECISION': 0.153876,\n",
       "     'RECALL': 0.2652379,\n",
       "     'NDCG': 0.2360615,\n",
       "     'MAP': 0.1587859,\n",
       "     'COVERAGE_ITEM': 0.9370546,\n",
       "     'DIVERSITY_GINI': 0.4446742,\n",
       "     'DIVERSITY_MEAN_INTER_LIST': 0.992547},\n",
       "    20: {'PRECISION': 0.1165467,\n",
       "     'RECALL': 0.3707343,\n",
       "     'NDCG': 0.2840949,\n",
       "     'MAP': 0.1675224,\n",
       "     'COVERAGE_ITEM': 0.9913895,\n",
       "     'DIVERSITY_GINI': 0.5309482,\n",
       "     'DIVERSITY_MEAN_INTER_LIST': 0.9886829},\n",
       "    50: {'PRECISION': 0.0721447,\n",
       "     'RECALL': 0.5326067,\n",
       "     'NDCG': 0.3428223,\n",
       "     'MAP': 0.1810449,\n",
       "     'COVERAGE_ITEM': 0.9997031,\n",
       "     'DIVERSITY_GINI': 0.647684,\n",
       "     'DIVERSITY_MEAN_INTER_LIST': 0.9786259}}}},\n",
       " {'path': '/mnt/bulky2/nsukhorukov/CQFS/results/CiteULike_a/ICM_title_abstract/random_s0/p095/ItemKNNCBFRecommender/ItemKNNCBFRecommender_ICM_title_abstract_cosine_SearchBayesianSkopt.txt',\n",
       "  'name': 'random 95%',\n",
       "  'metrics': {'validation': {'PRECISION': 0.133201,\n",
       "    'RECALL': 0.3745947,\n",
       "    'NDCG': 0.2982542,\n",
       "    'MAP': 0.2148125,\n",
       "    'COVERAGE_ITEM': 0.3294844,\n",
       "    'DIVERSITY_GINI': 0.1995544,\n",
       "    'DIVERSITY_MEAN_INTER_LIST': 0.990519},\n",
       "   'test': {5: {'PRECISION': 0.2116279,\n",
       "     'RECALL': 0.1934855,\n",
       "     'NDCG': 0.2044237,\n",
       "     'MAP': 0.1836652,\n",
       "     'COVERAGE_ITEM': 0.8732185,\n",
       "     'DIVERSITY_GINI': 0.4370159,\n",
       "     'DIVERSITY_MEAN_INTER_LIST': 0.9965064},\n",
       "    10: {'PRECISION': 0.166759,\n",
       "     'RECALL': 0.2854281,\n",
       "     'NDCG': 0.2558031,\n",
       "     'MAP': 0.177522,\n",
       "     'COVERAGE_ITEM': 0.9655582,\n",
       "     'DIVERSITY_GINI': 0.5297766,\n",
       "     'DIVERSITY_MEAN_INTER_LIST': 0.9945018},\n",
       "    20: {'PRECISION': 0.1227759,\n",
       "     'RECALL': 0.3870127,\n",
       "     'NDCG': 0.3025115,\n",
       "     'MAP': 0.183503,\n",
       "     'COVERAGE_ITEM': 0.9958432,\n",
       "     'DIVERSITY_GINI': 0.608799,\n",
       "     'DIVERSITY_MEAN_INTER_LIST': 0.9907539},\n",
       "    50: {'PRECISION': 0.0731635,\n",
       "     'RECALL': 0.5295471,\n",
       "     'NDCG': 0.3557745,\n",
       "     'MAP': 0.1959738,\n",
       "     'COVERAGE_ITEM': 1.0,\n",
       "     'DIVERSITY_GINI': 0.7061424,\n",
       "     'DIVERSITY_MEAN_INTER_LIST': 0.9807254}}}}]"
      ]
     },
     "execution_count": 29,
     "metadata": {},
     "output_type": "execute_result"
    }
   ],
   "source": [
    "cite_baselines"
   ]
  },
  {
   "cell_type": "code",
   "execution_count": 30,
   "metadata": {},
   "outputs": [
    {
     "data": {
      "text/plain": [
       "8"
      ]
     },
     "execution_count": 30,
     "metadata": {},
     "output_type": "execute_result"
    }
   ],
   "source": [
    "len(cite_baselines_artyom)"
   ]
  },
  {
   "cell_type": "code",
   "execution_count": 37,
   "metadata": {},
   "outputs": [
    {
     "data": {
      "text/plain": [
       "{'path': '/mnt/bulky2/nsukhorukov/CQFS/results/CiteULike_a/ICM_title_abstract/random_s0/p040/ItemKNNCBFRecommender/ItemKNNCBFRecommender_ICM_title_abstract_cosine_SearchBayesianSkopt.txt',\n",
       " 'name': 'random 40%',\n",
       " 'metrics': {'validation': {'PRECISION': 0.1006268,\n",
       "   'RECALL': 0.2768023,\n",
       "   'NDCG': 0.2128156,\n",
       "   'MAP': 0.1423997,\n",
       "   'COVERAGE_ITEM': 0.3237109,\n",
       "   'DIVERSITY_GINI': 0.1559972,\n",
       "   'DIVERSITY_MEAN_INTER_LIST': 0.9867776},\n",
       "  'test': {5: {'PRECISION': 0.1545958,\n",
       "    'RECALL': 0.1374889,\n",
       "    'NDCG': 0.1451903,\n",
       "    'MAP': 0.1237805,\n",
       "    'COVERAGE_ITEM': 0.7811758,\n",
       "    'DIVERSITY_GINI': 0.323503,\n",
       "    'DIVERSITY_MEAN_INTER_LIST': 0.9943174},\n",
       "   10: {'PRECISION': 0.1263381,\n",
       "    'RECALL': 0.2121832,\n",
       "    'NDCG': 0.1866683,\n",
       "    'MAP': 0.1195884,\n",
       "    'COVERAGE_ITEM': 0.9118171,\n",
       "    'DIVERSITY_GINI': 0.3973434,\n",
       "    'DIVERSITY_MEAN_INTER_LIST': 0.9915396},\n",
       "   20: {'PRECISION': 0.0966131,\n",
       "    'RECALL': 0.3033097,\n",
       "    'NDCG': 0.2276502,\n",
       "    'MAP': 0.1250831,\n",
       "    'COVERAGE_ITEM': 0.9833729,\n",
       "    'DIVERSITY_GINI': 0.4809633,\n",
       "    'DIVERSITY_MEAN_INTER_LIST': 0.9872633},\n",
       "   50: {'PRECISION': 0.0612182,\n",
       "    'RECALL': 0.447122,\n",
       "    'NDCG': 0.2797142,\n",
       "    'MAP': 0.1363527,\n",
       "    'COVERAGE_ITEM': 1.0,\n",
       "    'DIVERSITY_GINI': 0.6012597,\n",
       "    'DIVERSITY_MEAN_INTER_LIST': 0.9768129}}}}"
      ]
     },
     "execution_count": 37,
     "metadata": {},
     "output_type": "execute_result"
    }
   ],
   "source": [
    "cite_baselines[6]"
   ]
  },
  {
   "cell_type": "code",
   "execution_count": 31,
   "metadata": {},
   "outputs": [
    {
     "data": {
      "text/plain": [
       "10"
      ]
     },
     "execution_count": 31,
     "metadata": {},
     "output_type": "execute_result"
    }
   ],
   "source": [
    "len(cite_baselines)"
   ]
  },
  {
   "cell_type": "code",
   "execution_count": 32,
   "metadata": {},
   "outputs": [
    {
     "data": {
      "text/plain": [
       "[{'path': '/mnt/bulky/anikitin/Developer/CQFS/results/CiteULike_a/ICM_title_abstract/ItemKNNCBFRecommender/ItemKNNCBFRecommender_ICM_title_abstract_cosine_SearchBayesianSkopt.txt',\n",
       "  'name': 'ItemKNN CBF',\n",
       "  'metrics': {'validation': {'PRECISION': 0.1281095,\n",
       "    'RECALL': 0.3638505,\n",
       "    'NDCG': 0.2816181,\n",
       "    'MAP': 0.1972879,\n",
       "    'COVERAGE_ITEM': 0.3363799,\n",
       "    'DIVERSITY_GINI': 0.1868928,\n",
       "    'DIVERSITY_MEAN_INTER_LIST': 0.989447},\n",
       "   'test': {5: {'PRECISION': 0.2053525,\n",
       "     'RECALL': 0.1855613,\n",
       "     'NDCG': 0.1976089,\n",
       "     'MAP': 0.1794579,\n",
       "     'COVERAGE_ITEM': 0.8425008,\n",
       "     'DIVERSITY_GINI': 0.3959207,\n",
       "     'DIVERSITY_MEAN_INTER_LIST': 0.995404},\n",
       "    10: {'PRECISION': 0.1634367,\n",
       "     'RECALL': 0.2793788,\n",
       "     'NDCG': 0.2492682,\n",
       "     'MAP': 0.1725762,\n",
       "     'COVERAGE_ITEM': 0.9576195,\n",
       "     'DIVERSITY_GINI': 0.4835576,\n",
       "     'DIVERSITY_MEAN_INTER_LIST': 0.9932751},\n",
       "    20: {'PRECISION': 0.1231082,\n",
       "     'RECALL': 0.3906961,\n",
       "     'NDCG': 0.2997592,\n",
       "     'MAP': 0.1795838,\n",
       "     'COVERAGE_ITEM': 0.9927863,\n",
       "     'DIVERSITY_GINI': 0.5767181,\n",
       "     'DIVERSITY_MEAN_INTER_LIST': 0.989607},\n",
       "    50: {'PRECISION': 0.0749834,\n",
       "     'RECALL': 0.551748,\n",
       "     'NDCG': 0.3584356,\n",
       "     'MAP': 0.1939237,\n",
       "     'COVERAGE_ITEM': 1.0,\n",
       "     'DIVERSITY_GINI': 0.6927124,\n",
       "     'DIVERSITY_MEAN_INTER_LIST': 0.979817}}}},\n",
       " {'path': '/mnt/bulky/anikitin/Developer/CQFS/results/CiteULike_a/ICM_title_abstract/TFIDF/p040/ItemKNNCBFRecommender/ItemKNNCBFRecommender_ICM_title_abstract_cosine_SearchBayesianSkopt.txt',\n",
       "  'name': 'TFIDF 40%',\n",
       "  'metrics': {'validation': {'PRECISION': 0.0683872,\n",
       "    'RECALL': 0.1815877,\n",
       "    'NDCG': 0.1462038,\n",
       "    'MAP': 0.0965535,\n",
       "    'COVERAGE_ITEM': 0.3198887,\n",
       "    'DIVERSITY_GINI': 0.2005383,\n",
       "    'DIVERSITY_MEAN_INTER_LIST': 0.9905645},\n",
       "   'test': {5: {'PRECISION': 0.1150609,\n",
       "     'RECALL': 0.0980669,\n",
       "     'NDCG': 0.1063197,\n",
       "     'MAP': 0.0921719,\n",
       "     'COVERAGE_ITEM': 0.8503156,\n",
       "     'DIVERSITY_GINI': 0.4085529,\n",
       "     'DIVERSITY_MEAN_INTER_LIST': 0.9961497},\n",
       "    10: {'PRECISION': 0.0868217,\n",
       "     'RECALL': 0.1400889,\n",
       "     'NDCG': 0.1302214,\n",
       "     'MAP': 0.0826907,\n",
       "     'COVERAGE_ITEM': 0.9293658,\n",
       "     'DIVERSITY_GINI': 0.5012287,\n",
       "     'DIVERSITY_MEAN_INTER_LIST': 0.994013},\n",
       "    20: {'PRECISION': 0.0629014,\n",
       "     'RECALL': 0.190523,\n",
       "     'NDCG': 0.1532215,\n",
       "     'MAP': 0.0825207,\n",
       "     'COVERAGE_ITEM': 0.9477006,\n",
       "     'DIVERSITY_GINI': 0.5975203,\n",
       "     'DIVERSITY_MEAN_INTER_LIST': 0.9904444},\n",
       "    50: {'PRECISION': 0.0381912,\n",
       "     'RECALL': 0.2658039,\n",
       "     'NDCG': 0.181297,\n",
       "     'MAP': 0.0869732,\n",
       "     'COVERAGE_ITEM': 0.9486023,\n",
       "     'DIVERSITY_GINI': 0.6988892,\n",
       "     'DIVERSITY_MEAN_INTER_LIST': 0.98038}}}},\n",
       " {'path': '/mnt/bulky/anikitin/Developer/CQFS/results/CiteULike_a/ICM_title_abstract/TFIDF/p060/ItemKNNCBFRecommender/ItemKNNCBFRecommender_ICM_title_abstract_cosine_SearchBayesianSkopt.txt',\n",
       "  'name': 'TFIDF 60%',\n",
       "  'metrics': {'validation': {'PRECISION': 0.0891376,\n",
       "    'RECALL': 0.2444595,\n",
       "    'NDCG': 0.1913366,\n",
       "    'MAP': 0.1286397,\n",
       "    'COVERAGE_ITEM': 0.3371746,\n",
       "    'DIVERSITY_GINI': 0.1847944,\n",
       "    'DIVERSITY_MEAN_INTER_LIST': 0.9890861},\n",
       "   'test': {5: {'PRECISION': 0.1452566,\n",
       "     'RECALL': 0.1272965,\n",
       "     'NDCG': 0.1363923,\n",
       "     'MAP': 0.1189743,\n",
       "     'COVERAGE_ITEM': 0.8160505,\n",
       "     'DIVERSITY_GINI': 0.3598799,\n",
       "     'DIVERSITY_MEAN_INTER_LIST': 0.9952105},\n",
       "    10: {'PRECISION': 0.1130122,\n",
       "     'RECALL': 0.1878594,\n",
       "     'NDCG': 0.170303,\n",
       "     'MAP': 0.1105376,\n",
       "     'COVERAGE_ITEM': 0.9474001,\n",
       "     'DIVERSITY_GINI': 0.4525563,\n",
       "     'DIVERSITY_MEAN_INTER_LIST': 0.9927967},\n",
       "    20: {'PRECISION': 0.083887,\n",
       "     'RECALL': 0.2577689,\n",
       "     'NDCG': 0.2025326,\n",
       "     'MAP': 0.1124157,\n",
       "     'COVERAGE_ITEM': 0.9906823,\n",
       "     'DIVERSITY_GINI': 0.5489029,\n",
       "     'DIVERSITY_MEAN_INTER_LIST': 0.9889977},\n",
       "    50: {'PRECISION': 0.0508379,\n",
       "     'RECALL': 0.3592156,\n",
       "     'NDCG': 0.2402694,\n",
       "     'MAP': 0.1196758,\n",
       "     'COVERAGE_ITEM': 0.9954914,\n",
       "     'DIVERSITY_GINI': 0.6706517,\n",
       "     'DIVERSITY_MEAN_INTER_LIST': 0.9791514}}}},\n",
       " {'path': '/mnt/bulky/anikitin/Developer/CQFS/results/CiteULike_a/ICM_title_abstract/TFIDF/p080/ItemKNNCBFRecommender/ItemKNNCBFRecommender_ICM_title_abstract_cosine_SearchBayesianSkopt.txt',\n",
       "  'name': 'TFIDF 80%',\n",
       "  'metrics': {'validation': {'PRECISION': 0.1058665,\n",
       "    'RECALL': 0.3006246,\n",
       "    'NDCG': 0.2321309,\n",
       "    'MAP': 0.1580987,\n",
       "    'COVERAGE_ITEM': 0.3339956,\n",
       "    'DIVERSITY_GINI': 0.1736238,\n",
       "    'DIVERSITY_MEAN_INTER_LIST': 0.9884935},\n",
       "   'test': {5: {'PRECISION': 0.1670358,\n",
       "     'RECALL': 0.1510313,\n",
       "     'NDCG': 0.1588114,\n",
       "     'MAP': 0.1376714,\n",
       "     'COVERAGE_ITEM': 0.7944094,\n",
       "     'DIVERSITY_GINI': 0.3488227,\n",
       "     'DIVERSITY_MEAN_INTER_LIST': 0.9951395},\n",
       "    10: {'PRECISION': 0.1302141,\n",
       "     'RECALL': 0.2225618,\n",
       "     'NDCG': 0.1986396,\n",
       "     'MAP': 0.1300371,\n",
       "     'COVERAGE_ITEM': 0.9272618,\n",
       "     'DIVERSITY_GINI': 0.4308006,\n",
       "     'DIVERSITY_MEAN_INTER_LIST': 0.9925089},\n",
       "    20: {'PRECISION': 0.0971023,\n",
       "     'RECALL': 0.3057069,\n",
       "     'NDCG': 0.2366875,\n",
       "     'MAP': 0.1346796,\n",
       "     'COVERAGE_ITEM': 0.9870754,\n",
       "     'DIVERSITY_GINI': 0.5200936,\n",
       "     'DIVERSITY_MEAN_INTER_LIST': 0.9883356},\n",
       "    50: {'PRECISION': 0.0599077,\n",
       "     'RECALL': 0.4363667,\n",
       "     'NDCG': 0.2844136,\n",
       "     'MAP': 0.1452226,\n",
       "     'COVERAGE_ITEM': 0.9996994,\n",
       "     'DIVERSITY_GINI': 0.6386023,\n",
       "     'DIVERSITY_MEAN_INTER_LIST': 0.9779777}}}},\n",
       " {'path': '/mnt/bulky/anikitin/Developer/CQFS/results/CiteULike_a/ICM_title_abstract/TFIDF/p095/ItemKNNCBFRecommender/ItemKNNCBFRecommender_ICM_title_abstract_cosine_SearchBayesianSkopt.txt',\n",
       "  'name': 'TFIDF 95%',\n",
       "  'metrics': {'validation': {'PRECISION': 0.1198798,\n",
       "    'RECALL': 0.3388125,\n",
       "    'NDCG': 0.2649205,\n",
       "    'MAP': 0.1837705,\n",
       "    'COVERAGE_ITEM': 0.3328035,\n",
       "    'DIVERSITY_GINI': 0.1840735,\n",
       "    'DIVERSITY_MEAN_INTER_LIST': 0.989167},\n",
       "   'test': {5: {'PRECISION': 0.1967147,\n",
       "     'RECALL': 0.1758508,\n",
       "     'NDCG': 0.1867758,\n",
       "     'MAP': 0.1692253,\n",
       "     'COVERAGE_ITEM': 0.8256688,\n",
       "     'DIVERSITY_GINI': 0.3876755,\n",
       "     'DIVERSITY_MEAN_INTER_LIST': 0.9956302},\n",
       "    10: {'PRECISION': 0.1539867,\n",
       "     'RECALL': 0.2599597,\n",
       "     'NDCG': 0.2337907,\n",
       "     'MAP': 0.1611283,\n",
       "     'COVERAGE_ITEM': 0.9326721,\n",
       "     'DIVERSITY_GINI': 0.4755813,\n",
       "     'DIVERSITY_MEAN_INTER_LIST': 0.9932819},\n",
       "    20: {'PRECISION': 0.1145072,\n",
       "     'RECALL': 0.3604382,\n",
       "     'NDCG': 0.2793951,\n",
       "     'MAP': 0.1660615,\n",
       "     'COVERAGE_ITEM': 0.9867749,\n",
       "     'DIVERSITY_GINI': 0.5653147,\n",
       "     'DIVERSITY_MEAN_INTER_LIST': 0.989333},\n",
       "    50: {'PRECISION': 0.0694832,\n",
       "     'RECALL': 0.5046806,\n",
       "     'NDCG': 0.3326834,\n",
       "     'MAP': 0.1786151,\n",
       "     'COVERAGE_ITEM': 1.0,\n",
       "     'DIVERSITY_GINI': 0.6762735,\n",
       "     'DIVERSITY_MEAN_INTER_LIST': 0.9790531}}}},\n",
       " {'path': '/mnt/bulky/anikitin/Developer/CQFS/results/CiteULike_a/ICM_title_abstract/CFW_D_Similarity_Cython/ItemKNNCFRecommender/CFW_D_Similarity_Cython_ICM_title_abstract_SearchBayesianSkopt.txt',\n",
       "  'name': 'CFeCBF ItemKNN',\n",
       "  'metrics': {'validation': {'PRECISION': 0.1233002,\n",
       "    'RECALL': 0.3506071,\n",
       "    'NDCG': 0.2702842,\n",
       "    'MAP': 0.1864402,\n",
       "    'COVERAGE_ITEM': 0.3359825,\n",
       "    'DIVERSITY_GINI': 0.1810334,\n",
       "    'DIVERSITY_MEAN_INTER_LIST': 0.9888881},\n",
       "   'test': {5: {'PRECISION': 0.1905869,\n",
       "     'RECALL': 0.1699517,\n",
       "     'NDCG': 0.1811065,\n",
       "     'MAP': 0.1617157,\n",
       "     'COVERAGE_ITEM': 0.8139465,\n",
       "     'DIVERSITY_GINI': 0.3668461,\n",
       "     'DIVERSITY_MEAN_INTER_LIST': 0.995156},\n",
       "    10: {'PRECISION': 0.1521595,\n",
       "     'RECALL': 0.2592001,\n",
       "     'NDCG': 0.2303055,\n",
       "     'MAP': 0.155014,\n",
       "     'COVERAGE_ITEM': 0.9407875,\n",
       "     'DIVERSITY_GINI': 0.4575252,\n",
       "     'DIVERSITY_MEAN_INTER_LIST': 0.9928928},\n",
       "    20: {'PRECISION': 0.1166759,\n",
       "     'RECALL': 0.3688213,\n",
       "     'NDCG': 0.279819,\n",
       "     'MAP': 0.1635511,\n",
       "     'COVERAGE_ITEM': 0.98948,\n",
       "     'DIVERSITY_GINI': 0.5501268,\n",
       "     'DIVERSITY_MEAN_INTER_LIST': 0.9890115},\n",
       "    50: {'PRECISION': 0.0717534,\n",
       "     'RECALL': 0.5230295,\n",
       "     'NDCG': 0.3364291,\n",
       "     'MAP': 0.1772218,\n",
       "     'COVERAGE_ITEM': 1.0,\n",
       "     'DIVERSITY_GINI': 0.6689729,\n",
       "     'DIVERSITY_MEAN_INTER_LIST': 0.9788311}}}},\n",
       " {'path': '/mnt/bulky/anikitin/Developer/CQFS/results/CiteULike_a/ICM_title_abstract/CFW_D_Similarity_Cython/PureSVDItemRecommender/CFW_D_Similarity_Cython_ICM_title_abstract_SearchBayesianSkopt.txt',\n",
       "  'name': 'CFeCBF PureSVD',\n",
       "  'metrics': {'validation': {'PRECISION': 0.1174751,\n",
       "    'RECALL': 0.329006,\n",
       "    'NDCG': 0.251492,\n",
       "    'MAP': 0.1712265,\n",
       "    'COVERAGE_ITEM': 0.3306179,\n",
       "    'DIVERSITY_GINI': 0.1608073,\n",
       "    'DIVERSITY_MEAN_INTER_LIST': 0.9870748},\n",
       "   'test': {5: {'PRECISION': 0.1663344,\n",
       "     'RECALL': 0.1465441,\n",
       "     'NDCG': 0.1558201,\n",
       "     'MAP': 0.1362989,\n",
       "     'COVERAGE_ITEM': 0.7499249,\n",
       "     'DIVERSITY_GINI': 0.2985035,\n",
       "     'DIVERSITY_MEAN_INTER_LIST': 0.9932372},\n",
       "    10: {'PRECISION': 0.1382983,\n",
       "     'RECALL': 0.2292332,\n",
       "     'NDCG': 0.2020547,\n",
       "     'MAP': 0.1332608,\n",
       "     'COVERAGE_ITEM': 0.8966035,\n",
       "     'DIVERSITY_GINI': 0.3807715,\n",
       "     'DIVERSITY_MEAN_INTER_LIST': 0.9905796},\n",
       "    20: {'PRECISION': 0.105777,\n",
       "     'RECALL': 0.3338708,\n",
       "     'NDCG': 0.2487477,\n",
       "     'MAP': 0.1397123,\n",
       "     'COVERAGE_ITEM': 0.9774572,\n",
       "     'DIVERSITY_GINI': 0.4681145,\n",
       "     'DIVERSITY_MEAN_INTER_LIST': 0.9860658},\n",
       "    50: {'PRECISION': 0.067667,\n",
       "     'RECALL': 0.4943949,\n",
       "     'NDCG': 0.3067866,\n",
       "     'MAP': 0.1536392,\n",
       "     'COVERAGE_ITEM': 0.9993989,\n",
       "     'DIVERSITY_GINI': 0.5907137,\n",
       "     'DIVERSITY_MEAN_INTER_LIST': 0.9750827}}}},\n",
       " {'path': '/mnt/bulky/anikitin/Developer/CQFS/results/CiteULike_a/ICM_title_abstract/CFW_D_Similarity_Cython/RP3betaRecommender/CFW_D_Similarity_Cython_ICM_title_abstract_SearchBayesianSkopt.txt',\n",
       "  'name': 'CFeCBF RP3Beta',\n",
       "  'metrics': {'validation': {'PRECISION': 0.1182007,\n",
       "    'RECALL': 0.3331985,\n",
       "    'NDCG': 0.2550444,\n",
       "    'MAP': 0.1739309,\n",
       "    'COVERAGE_ITEM': 0.3332009,\n",
       "    'DIVERSITY_GINI': 0.1725581,\n",
       "    'DIVERSITY_MEAN_INTER_LIST': 0.9882946},\n",
       "   'test': {5: {'PRECISION': 0.1770395,\n",
       "     'RECALL': 0.1579681,\n",
       "     'NDCG': 0.1654627,\n",
       "     'MAP': 0.1452199,\n",
       "     'COVERAGE_ITEM': 0.7793808,\n",
       "     'DIVERSITY_GINI': 0.3378778,\n",
       "     'DIVERSITY_MEAN_INTER_LIST': 0.994281},\n",
       "    10: {'PRECISION': 0.144832,\n",
       "     'RECALL': 0.2434993,\n",
       "     'NDCG': 0.2130177,\n",
       "     'MAP': 0.1418341,\n",
       "     'COVERAGE_ITEM': 0.9227532,\n",
       "     'DIVERSITY_GINI': 0.4251353,\n",
       "     'DIVERSITY_MEAN_INTER_LIST': 0.9917822},\n",
       "    20: {'PRECISION': 0.1086471,\n",
       "     'RECALL': 0.3461668,\n",
       "     'NDCG': 0.258733,\n",
       "     'MAP': 0.1477382,\n",
       "     'COVERAGE_ITEM': 0.9837692,\n",
       "     'DIVERSITY_GINI': 0.5141713,\n",
       "     'DIVERSITY_MEAN_INTER_LIST': 0.9875288},\n",
       "    50: {'PRECISION': 0.0676523,\n",
       "     'RECALL': 0.4945005,\n",
       "     'NDCG': 0.3131837,\n",
       "     'MAP': 0.1605463,\n",
       "     'COVERAGE_ITEM': 1.0,\n",
       "     'DIVERSITY_GINI': 0.6305205,\n",
       "     'DIVERSITY_MEAN_INTER_LIST': 0.9767435}}}}]"
      ]
     },
     "execution_count": 32,
     "metadata": {},
     "output_type": "execute_result"
    }
   ],
   "source": [
    "cite_baselines_artyom"
   ]
  },
  {
   "cell_type": "code",
   "execution_count": 33,
   "metadata": {},
   "outputs": [
    {
     "data": {
      "text/plain": [
       "'/mnt/bulky2/nsukhorukov/CQFS/results/CiteULike_a/ICM_title_abstract/'"
      ]
     },
     "execution_count": 33,
     "metadata": {},
     "output_type": "execute_result"
    }
   ],
   "source": [
    "dr_cite_results"
   ]
  },
  {
   "cell_type": "code",
   "execution_count": 34,
   "metadata": {},
   "outputs": [
    {
     "name": "stdout",
     "output_type": "stream",
     "text": [
      "0.1 100 -1.0 60\n",
      "0.1 400 -1.0 80\n",
      "0.1 100 -0.4 40\n",
      "0.9 100 0.0 80\n",
      "0.1 100 0.0 95\n",
      "0.9 400 -0.5 40\n",
      "0.1 100 -0.4 60\n",
      "0.1 100 -1.5 80\n",
      "0.3 400 0.5 30\n",
      "0.3 100 -0.5 30\n",
      "0.3 200 0.5 20\n",
      "0.1 100 -0.4 95\n",
      "0.1 100 -0.7 20\n",
      "0.3 100 0.0 80\n",
      "0.9 100 -0.5 80\n",
      "0.1 100 -2.0 20\n",
      "0.1 200 -1.0 40\n",
      "0.9 100 -1.5 80\n",
      "0.5 200 0.0 30\n",
      "0.5 400 -1.5 60\n",
      "0.9 200 -0.5 80\n",
      "0.9 400 -0.5 95\n",
      "0.1 400 -1.0 40\n",
      "0.9 400 -1.5 80\n",
      "0.3 100 -0.5 60\n",
      "0.3 400 -1.5 60\n",
      "0.9 400 0.5 60\n",
      "0.1 100 -2.0 80\n",
      "0.3 400 0.0 20\n",
      "0.3 100 -0.5 80\n",
      "0.3 400 -0.5 80\n",
      "0.1 400 0.0 80\n",
      "0.3 200 -1.5 30\n",
      "0.1 400 -0.7 40\n",
      "0.1 200 0.0 20\n",
      "0.9 400 -0.5 30\n",
      "0.3 400 0.0 40\n",
      "0.9 100 -0.5 95\n",
      "0.9 200 -0.5 60\n",
      "0.9 400 0.0 95\n",
      "0.1 200 0.0 30\n",
      "0.1 200 -0.4 60\n",
      "0.1 400 0.0 20\n",
      "0.3 400 -0.5 95\n",
      "0.1 200 -2.0 40\n",
      "0.3 400 -1.5 30\n",
      "0.3 200 0.5 95\n",
      "0.9 100 0.5 95\n",
      "0.3 400 -1.5 20\n",
      "0.1 400 0.5 95\n",
      "0.1 200 -1.5 30\n",
      "0.3 400 0.0 80\n",
      "0.1 400 -2.0 20\n",
      "0.3 100 -1.5 40\n",
      "0.1 100 0.0 60\n",
      "0.5 400 0.5 30\n",
      "0.9 100 -0.5 60\n",
      "0.5 200 0.5 40\n",
      "0.5 100 -1.5 30\n",
      "0.3 100 -1.5 95\n",
      "0.3 100 -0.5 95\n",
      "0.9 200 -1.5 40\n",
      "0.3 200 0.5 30\n",
      "0.1 100 -0.7 80\n",
      "0.5 200 -1.5 95\n",
      "0.1 400 -2.0 95\n",
      "0.3 400 0.5 95\n",
      "0.5 100 -0.5 95\n",
      "0.5 200 0.5 95\n",
      "0.9 200 0.5 30\n",
      "0.5 400 -1.5 95\n",
      "0.1 200 -2.0 20\n",
      "0.5 100 -0.5 30\n",
      "0.3 100 0.5 95\n",
      "0.9 200 0.5 80\n",
      "0.5 200 0.0 80\n",
      "0.5 200 0.5 60\n",
      "0.3 400 0.5 20\n",
      "0.1 100 -0.4 20\n",
      "0.3 200 -0.5 20\n",
      "0.9 400 0.0 20\n",
      "0.3 200 0.5 60\n",
      "0.5 400 0.0 30\n",
      "0.1 200 -2.0 95\n",
      "0.5 400 0.0 60\n",
      "0.1 400 0.5 20\n",
      "0.9 400 -0.5 80\n",
      "0.9 200 0.0 20\n",
      "0.5 200 0.5 80\n",
      "0.1 200 -0.4 40\n",
      "0.3 100 0.5 20\n",
      "0.3 400 -0.5 40\n",
      "0.9 100 -1.5 95\n",
      "0.9 200 0.0 30\n",
      "0.3 400 0.5 60\n",
      "0.1 100 -1.5 30\n",
      "0.3 100 0.0 30\n",
      "0.1 200 0.5 20\n",
      "0.3 100 -0.5 20\n",
      "0.3 100 0.0 20\n",
      "0.1 200 -1.0 20\n",
      "0.1 400 0.5 30\n",
      "0.5 200 -0.5 40\n",
      "0.1 400 0.5 80\n",
      "0.1 400 -1.5 60\n",
      "0.5 400 -1.5 20\n",
      "0.3 100 -0.5 40\n",
      "0.1 400 -2.0 60\n",
      "0.9 400 -1.5 30\n",
      "0.3 200 -1.5 80\n",
      "0.5 100 -1.5 80\n",
      "0.1 200 -0.4 80\n",
      "0.5 400 0.5 20\n",
      "0.3 400 0.0 95\n",
      "0.5 400 0.5 40\n",
      "0.5 200 0.5 20\n",
      "0.5 100 -1.5 20\n",
      "0.9 200 0.0 60\n",
      "0.3 400 0.5 80\n",
      "0.9 400 0.0 40\n",
      "0.1 200 -1.0 60\n",
      "0.5 200 0.0 40\n",
      "0.1 100 0.0 20\n",
      "0.1 400 0.0 95\n",
      "0.1 200 -1.0 30\n",
      "0.1 100 0.5 60\n",
      "0.5 100 0.0 20\n",
      "0.5 400 -0.5 40\n",
      "0.9 400 -1.5 20\n",
      "0.1 200 -1.5 60\n",
      "0.1 400 -1.0 95\n",
      "0.1 100 0.5 95\n",
      "0.3 400 -1.5 80\n",
      "0.5 200 -0.5 30\n",
      "0.9 200 0.5 40\n",
      "0.1 400 -1.5 80\n",
      "0.9 100 -1.5 20\n",
      "0.9 400 0.0 60\n",
      "0.3 100 -1.5 80\n",
      "0.9 400 -1.5 60\n",
      "0.1 400 0.5 40\n",
      "0.1 200 -0.4 30\n",
      "0.5 400 -0.5 80\n",
      "0.9 400 -0.5 60\n",
      "0.1 200 -0.7 20\n",
      "0.1 400 -0.4 95\n",
      "0.5 200 -0.5 95\n",
      "0.9 200 -0.5 40\n",
      "0.1 100 0.0 30\n",
      "0.1 200 0.0 95\n",
      "0.9 100 0.0 20\n",
      "0.1 200 -2.0 30\n",
      "0.1 100 0.0 40\n",
      "0.1 100 -0.7 40\n",
      "0.1 400 -1.5 20\n",
      "0.1 100 -2.0 40\n",
      "0.1 400 0.5 60\n",
      "0.1 400 -0.4 80\n",
      "0.3 400 0.0 60\n",
      "0.1 100 -1.5 60\n",
      "0.9 200 -1.5 60\n",
      "0.9 400 0.0 80\n",
      "0.1 100 -2.0 95\n",
      "0.1 100 -0.4 30\n",
      "0.9 200 0.5 20\n",
      "0.5 200 -0.5 20\n",
      "0.9 400 0.5 95\n",
      "0.9 400 0.5 40\n",
      "0.3 400 -1.5 40\n",
      "0.3 100 0.5 30\n",
      "0.3 200 -1.5 60\n",
      "0.5 200 -0.5 60\n",
      "0.5 100 -0.5 80\n",
      "0.9 200 0.0 80\n",
      "0.3 200 -0.5 30\n",
      "0.1 200 0.5 40\n",
      "0.9 100 0.0 60\n",
      "0.3 200 0.0 20\n",
      "0.5 400 0.0 95\n",
      "0.1 100 -0.7 95\n",
      "0.1 200 -1.0 95\n",
      "0.1 100 0.0 80\n",
      "0.1 100 -0.7 60\n",
      "0.1 200 0.5 60\n",
      "0.5 400 0.0 40\n",
      "0.5 200 -1.5 20\n",
      "0.5 400 -1.5 80\n",
      "0.3 100 0.5 80\n",
      "0.3 200 -0.5 80\n",
      "0.3 400 -0.5 20\n",
      "0.5 400 -0.5 60\n",
      "0.3 400 -0.5 60\n",
      "0.1 100 -1.5 40\n",
      "0.1 400 -0.7 95\n",
      "0.9 200 0.5 95\n",
      "0.9 100 0.0 95\n",
      "0.1 200 -1.5 80\n",
      "0.1 400 -2.0 80\n",
      "0.5 200 0.5 30\n",
      "0.9 200 0.5 60\n",
      "0.1 200 -1.5 20\n",
      "0.3 200 -1.5 40\n",
      "0.9 100 -1.5 30\n",
      "0.5 200 -0.5 80\n",
      "0.3 200 0.5 40\n",
      "0.1 200 0.5 95\n",
      "0.5 100 0.0 30\n",
      "0.9 100 -0.5 40\n",
      "0.3 100 0.0 95\n",
      "0.1 400 -0.7 60\n",
      "0.5 400 -1.5 30\n",
      "0.5 100 0.0 95\n",
      "0.1 100 0.5 20\n",
      "0.9 200 -1.5 80\n",
      "0.5 100 0.0 60\n",
      "0.3 400 0.5 40\n",
      "0.1 200 0.0 60\n",
      "0.1 400 -0.7 80\n",
      "0.5 100 -0.5 60\n",
      "0.5 100 -1.5 40\n",
      "0.1 400 0.0 40\n",
      "0.1 200 -1.5 95\n",
      "0.1 100 -1.0 95\n",
      "0.9 100 0.5 60\n",
      "0.1 100 -1.5 20\n",
      "0.1 400 -1.0 30\n",
      "0.1 100 -1.5 95\n",
      "0.9 200 -0.5 95\n",
      "0.1 200 -0.7 30\n",
      "0.1 400 -2.0 40\n",
      "0.9 400 0.5 20\n",
      "0.1 200 -2.0 80\n",
      "0.5 400 -1.5 40\n",
      "0.1 400 0.0 30\n",
      "0.5 100 0.5 80\n",
      "0.5 200 -1.5 60\n",
      "0.5 400 0.5 60\n",
      "0.9 100 0.5 20\n",
      "0.1 100 0.5 80\n",
      "0.1 100 -2.0 60\n",
      "0.1 400 0.0 60\n",
      "0.3 200 0.0 80\n",
      "0.3 200 -0.5 95\n",
      "0.9 100 0.5 30\n",
      "0.9 100 -1.5 60\n",
      "0.5 400 0.5 95\n",
      "0.9 200 0.0 95\n",
      "0.3 100 0.0 40\n",
      "0.5 100 -1.5 60\n",
      "0.9 100 0.5 40\n",
      "0.3 200 -1.5 95\n",
      "0.1 400 -1.0 60\n",
      "0.5 200 -1.5 40\n",
      "0.3 100 0.5 40\n",
      "0.3 200 0.0 30\n",
      "0.9 100 -1.5 40\n",
      "0.9 400 -1.5 95\n",
      "0.9 100 -0.5 20\n",
      "0.5 400 -0.5 95\n",
      "0.5 100 -1.5 95\n",
      "0.1 200 0.0 40\n",
      "0.1 200 -2.0 60\n",
      "0.5 100 0.0 80\n",
      "0.1 100 0.5 40\n",
      "0.9 400 -0.5 20\n",
      "0.1 200 -1.5 40\n",
      "0.5 100 0.5 20\n",
      "0.5 200 -1.5 30\n",
      "0.9 400 0.5 80\n",
      "0.9 200 0.0 40\n",
      "0.3 100 -1.5 30\n",
      "0.1 400 -1.5 95\n",
      "0.9 400 0.0 30\n",
      "0.5 400 -0.5 20\n",
      "0.9 100 0.0 30\n",
      "0.1 200 -0.4 20\n",
      "0.3 400 -1.5 95\n",
      "0.1 100 -1.0 30\n",
      "0.5 400 -0.5 30\n",
      "0.1 200 -0.7 40\n",
      "0.1 400 -1.0 20\n",
      "0.5 100 0.5 30\n",
      "0.1 400 -0.7 20\n",
      "0.5 400 0.0 20\n",
      "0.1 400 -0.4 20\n",
      "0.1 100 0.5 30\n",
      "0.9 100 -0.5 30\n",
      "0.3 400 0.0 30\n",
      "0.3 200 -1.5 20\n",
      "0.5 100 0.5 95\n",
      "0.1 100 -1.0 80\n",
      "0.5 400 0.5 80\n",
      "0.3 400 -0.5 30\n",
      "0.9 100 0.5 80\n",
      "0.9 400 0.5 30\n",
      "0.1 100 -1.0 40\n",
      "0.1 200 0.5 30\n",
      "0.5 200 0.0 95\n",
      "0.1 100 -0.4 80\n",
      "0.5 100 -0.5 40\n",
      "0.1 400 -0.4 30\n",
      "0.9 200 -1.5 30\n",
      "0.1 100 -1.0 20\n",
      "0.5 100 0.5 40\n",
      "0.3 200 -0.5 60\n",
      "0.5 100 0.5 60\n",
      "0.1 400 -1.5 30\n",
      "0.9 200 -1.5 20\n",
      "0.5 400 0.0 80\n",
      "0.1 400 -2.0 30\n",
      "0.1 100 -2.0 30\n",
      "0.5 200 0.0 20\n",
      "0.1 200 0.5 80\n",
      "0.1 200 -0.4 95\n",
      "0.3 100 -1.5 60\n",
      "0.3 200 0.0 60\n",
      "0.9 200 -1.5 95\n",
      "0.9 200 -0.5 30\n",
      "0.5 200 -1.5 80\n",
      "0.1 200 -0.7 80\n",
      "0.3 200 0.0 40\n",
      "0.3 100 0.5 60\n",
      "0.3 100 0.0 60\n",
      "0.1 400 -1.5 40\n",
      "0.5 200 0.0 60\n",
      "0.3 100 -1.5 20\n",
      "0.9 400 -1.5 40\n",
      "0.1 200 -0.7 95\n",
      "0.9 100 0.0 40\n",
      "0.5 100 -0.5 20\n",
      "0.1 400 -0.4 60\n",
      "0.5 100 0.0 40\n",
      "0.1 400 -0.4 40\n",
      "0.1 200 0.0 80\n",
      "0.1 200 -1.0 80\n",
      "0.3 200 0.0 95\n",
      "0.3 200 -0.5 40\n",
      "0.1 100 -0.7 30\n",
      "0.1 200 -0.7 60\n",
      "0.3 200 0.5 80\n",
      "0.9 200 -0.5 20\n",
      "0.1 400 -0.7 30\n"
     ]
    }
   ],
   "source": [
    "# cite_experiments_knn = get_experiment_results(\n",
    "#     dr_cite_results, ICM_name='ICM_title_abstract',\n",
    "#     recommender='ItemKNNCFRecommender'\n",
    "# )\n",
    "cite_experiments_svd = get_experiment_results(\n",
    "    dr_cite_results, ICM_name='ICM_title_abstract',\n",
    "    recommender='PureSVDItemRecommender'\n",
    ")\n",
    "# cite_experiments_rp3b = get_experiment_results(\n",
    "#     dr_cite_results, ICM_name='ICM_title_abstract',\n",
    "#     recommender='RP3betaRecommender'\n",
    "# )"
   ]
  },
  {
   "cell_type": "code",
   "execution_count": 35,
   "metadata": {},
   "outputs": [
    {
     "data": {
      "text/plain": [
       "[{'path': '/mnt/bulky2/nsukhorukov/CQFS/results/CiteULike_a/ICM_title_abstract/popular/p020/ItemKNNCBFRecommender/ItemKNNCBFRecommender_ICM_title_abstract_cosine_SearchBayesianSkopt.txt',\n",
       "  'name': 'popular 20%',\n",
       "  'metrics': {'validation': {'PRECISION': 0.1134768,\n",
       "    'RECALL': 0.3096767,\n",
       "    'NDCG': 0.2372417,\n",
       "    'MAP': 0.1613923,\n",
       "    'COVERAGE_ITEM': 0.3219192,\n",
       "    'DIVERSITY_GINI': 0.1700835,\n",
       "    'DIVERSITY_MEAN_INTER_LIST': 0.9885168},\n",
       "   'test': {5: {'PRECISION': 0.1706534,\n",
       "     'RECALL': 0.1522832,\n",
       "     'NDCG': 0.1596466,\n",
       "     'MAP': 0.1387608,\n",
       "     'COVERAGE_ITEM': 0.7832542,\n",
       "     'DIVERSITY_GINI': 0.3452774,\n",
       "     'DIVERSITY_MEAN_INTER_LIST': 0.9949173},\n",
       "    10: {'PRECISION': 0.1387228,\n",
       "     'RECALL': 0.234395,\n",
       "     'NDCG': 0.2048676,\n",
       "     'MAP': 0.1332815,\n",
       "     'COVERAGE_ITEM': 0.9207245,\n",
       "     'DIVERSITY_GINI': 0.4310629,\n",
       "     'DIVERSITY_MEAN_INTER_LIST': 0.9925847},\n",
       "    20: {'PRECISION': 0.1065707,\n",
       "     'RECALL': 0.3357168,\n",
       "     'NDCG': 0.250566,\n",
       "     'MAP': 0.1397936,\n",
       "     'COVERAGE_ITEM': 0.983076,\n",
       "     'DIVERSITY_GINI': 0.5225938,\n",
       "     'DIVERSITY_MEAN_INTER_LIST': 0.9888186},\n",
       "    50: {'PRECISION': 0.0685419,\n",
       "     'RECALL': 0.5056286,\n",
       "     'NDCG': 0.3115313,\n",
       "     'MAP': 0.153835,\n",
       "     'COVERAGE_ITEM': 0.9994062,\n",
       "     'DIVERSITY_GINI': 0.653699,\n",
       "     'DIVERSITY_MEAN_INTER_LIST': 0.9791871}}}},\n",
       " {'path': '/mnt/bulky2/nsukhorukov/CQFS/results/CiteULike_a/ICM_title_abstract/popular/p040/ItemKNNCBFRecommender/ItemKNNCBFRecommender_ICM_title_abstract_cosine_SearchBayesianSkopt.txt',\n",
       "  'name': 'popular 40%',\n",
       "  'metrics': {'validation': {'PRECISION': 0.1242583,\n",
       "    'RECALL': 0.3448752,\n",
       "    'NDCG': 0.2649606,\n",
       "    'MAP': 0.1839516,\n",
       "    'COVERAGE_ITEM': 0.3251045,\n",
       "    'DIVERSITY_GINI': 0.1782989,\n",
       "    'DIVERSITY_MEAN_INTER_LIST': 0.9892405},\n",
       "   'test': {5: {'PRECISION': 0.1910668,\n",
       "     'RECALL': 0.1724494,\n",
       "     'NDCG': 0.1832607,\n",
       "     'MAP': 0.1636159,\n",
       "     'COVERAGE_ITEM': 0.8064133,\n",
       "     'DIVERSITY_GINI': 0.3677699,\n",
       "     'DIVERSITY_MEAN_INTER_LIST': 0.9953172},\n",
       "    10: {'PRECISION': 0.1530085,\n",
       "     'RECALL': 0.2588862,\n",
       "     'NDCG': 0.2315144,\n",
       "     'MAP': 0.15763,\n",
       "     'COVERAGE_ITEM': 0.9343824,\n",
       "     'DIVERSITY_GINI': 0.4595216,\n",
       "     'DIVERSITY_MEAN_INTER_LIST': 0.9930969},\n",
       "    20: {'PRECISION': 0.1151901,\n",
       "     'RECALL': 0.3652393,\n",
       "     'NDCG': 0.2793694,\n",
       "     'MAP': 0.164134,\n",
       "     'COVERAGE_ITEM': 0.9910926,\n",
       "     'DIVERSITY_GINI': 0.5493034,\n",
       "     'DIVERSITY_MEAN_INTER_LIST': 0.9894146},\n",
       "    50: {'PRECISION': 0.0720819,\n",
       "     'RECALL': 0.5310745,\n",
       "     'NDCG': 0.3395119,\n",
       "     'MAP': 0.1779867,\n",
       "     'COVERAGE_ITEM': 1.0,\n",
       "     'DIVERSITY_GINI': 0.6716879,\n",
       "     'DIVERSITY_MEAN_INTER_LIST': 0.9796889}}}},\n",
       " {'path': '/mnt/bulky2/nsukhorukov/CQFS/results/CiteULike_a/ICM_title_abstract/popular/p060/ItemKNNCBFRecommender/ItemKNNCBFRecommender_ICM_title_abstract_cosine_SearchBayesianSkopt.txt',\n",
       "  'name': 'popular 60%',\n",
       "  'metrics': {'validation': {'PRECISION': 0.1286669,\n",
       "    'RECALL': 0.3582064,\n",
       "    'NDCG': 0.2785856,\n",
       "    'MAP': 0.1961297,\n",
       "    'COVERAGE_ITEM': 0.3257018,\n",
       "    'DIVERSITY_GINI': 0.184655,\n",
       "    'DIVERSITY_MEAN_INTER_LIST': 0.9896689},\n",
       "   'test': {5: {'PRECISION': 0.1984496,\n",
       "     'RECALL': 0.18124,\n",
       "     'NDCG': 0.1900964,\n",
       "     'MAP': 0.168179,\n",
       "     'COVERAGE_ITEM': 0.8316508,\n",
       "     'DIVERSITY_GINI': 0.3858536,\n",
       "     'DIVERSITY_MEAN_INTER_LIST': 0.9956196},\n",
       "    10: {'PRECISION': 0.1591178,\n",
       "     'RECALL': 0.2722977,\n",
       "     'NDCG': 0.2405618,\n",
       "     'MAP': 0.1637488,\n",
       "     'COVERAGE_ITEM': 0.9513064,\n",
       "     'DIVERSITY_GINI': 0.4783331,\n",
       "     'DIVERSITY_MEAN_INTER_LIST': 0.9934937},\n",
       "    20: {'PRECISION': 0.1192783,\n",
       "     'RECALL': 0.3808405,\n",
       "     'NDCG': 0.2895577,\n",
       "     'MAP': 0.1709964,\n",
       "     'COVERAGE_ITEM': 0.9928741,\n",
       "     'DIVERSITY_GINI': 0.5669944,\n",
       "     'DIVERSITY_MEAN_INTER_LIST': 0.9898204},\n",
       "    50: {'PRECISION': 0.0738575,\n",
       "     'RECALL': 0.5445653,\n",
       "     'NDCG': 0.349245,\n",
       "     'MAP': 0.1852117,\n",
       "     'COVERAGE_ITEM': 1.0,\n",
       "     'DIVERSITY_GINI': 0.6869581,\n",
       "     'DIVERSITY_MEAN_INTER_LIST': 0.9801542}}}},\n",
       " {'path': '/mnt/bulky2/nsukhorukov/CQFS/results/CiteULike_a/ICM_title_abstract/popular/p080/ItemKNNCBFRecommender/ItemKNNCBFRecommender_ICM_title_abstract_cosine_SearchBayesianSkopt.txt',\n",
       "  'name': 'popular 80%',\n",
       "  'metrics': {'validation': {'PRECISION': 0.1305683,\n",
       "    'RECALL': 0.3679888,\n",
       "    'NDCG': 0.2867073,\n",
       "    'MAP': 0.2028658,\n",
       "    'COVERAGE_ITEM': 0.3251045,\n",
       "    'DIVERSITY_GINI': 0.180891,\n",
       "    'DIVERSITY_MEAN_INTER_LIST': 0.9893794},\n",
       "   'test': {5: {'PRECISION': 0.2020303,\n",
       "     'RECALL': 0.1860266,\n",
       "     'NDCG': 0.1947111,\n",
       "     'MAP': 0.1726773,\n",
       "     'COVERAGE_ITEM': 0.8245249,\n",
       "     'DIVERSITY_GINI': 0.3785684,\n",
       "     'DIVERSITY_MEAN_INTER_LIST': 0.9954192},\n",
       "    10: {'PRECISION': 0.1619601,\n",
       "     'RECALL': 0.278648,\n",
       "     'NDCG': 0.2462192,\n",
       "     'MAP': 0.1676556,\n",
       "     'COVERAGE_ITEM': 0.9447743,\n",
       "     'DIVERSITY_GINI': 0.468894,\n",
       "     'DIVERSITY_MEAN_INTER_LIST': 0.9932039},\n",
       "    20: {'PRECISION': 0.1213363,\n",
       "     'RECALL': 0.3888178,\n",
       "     'NDCG': 0.2959155,\n",
       "     'MAP': 0.1756771,\n",
       "     'COVERAGE_ITEM': 0.9928741,\n",
       "     'DIVERSITY_GINI': 0.5568792,\n",
       "     'DIVERSITY_MEAN_INTER_LIST': 0.9895285},\n",
       "    50: {'PRECISION': 0.0745995,\n",
       "     'RECALL': 0.5510762,\n",
       "     'NDCG': 0.3553852,\n",
       "     'MAP': 0.1898539,\n",
       "     'COVERAGE_ITEM': 0.9997031,\n",
       "     'DIVERSITY_GINI': 0.6756462,\n",
       "     'DIVERSITY_MEAN_INTER_LIST': 0.979785}}}},\n",
       " {'path': '/mnt/bulky2/nsukhorukov/CQFS/results/CiteULike_a/ICM_title_abstract/popular/p095/ItemKNNCBFRecommender/ItemKNNCBFRecommender_ICM_title_abstract_cosine_SearchBayesianSkopt.txt',\n",
       "  'name': 'popular 95%',\n",
       "  'metrics': {'validation': {'PRECISION': 0.1326786,\n",
       "    'RECALL': 0.3723647,\n",
       "    'NDCG': 0.2916759,\n",
       "    'MAP': 0.2072524,\n",
       "    'COVERAGE_ITEM': 0.3278917,\n",
       "    'DIVERSITY_GINI': 0.1926928,\n",
       "    'DIVERSITY_MEAN_INTER_LIST': 0.9901102},\n",
       "   'test': {5: {'PRECISION': 0.2077519,\n",
       "     'RECALL': 0.1920306,\n",
       "     'NDCG': 0.2011898,\n",
       "     'MAP': 0.1790202,\n",
       "     'COVERAGE_ITEM': 0.8568884,\n",
       "     'DIVERSITY_GINI': 0.4112278,\n",
       "     'DIVERSITY_MEAN_INTER_LIST': 0.9961362},\n",
       "    10: {'PRECISION': 0.1654854,\n",
       "     'RECALL': 0.2867859,\n",
       "     'NDCG': 0.2538794,\n",
       "     'MAP': 0.1729509,\n",
       "     'COVERAGE_ITEM': 0.9587292,\n",
       "     'DIVERSITY_GINI': 0.5039972,\n",
       "     'DIVERSITY_MEAN_INTER_LIST': 0.9940482},\n",
       "    20: {'PRECISION': 0.1238464,\n",
       "     'RECALL': 0.3941194,\n",
       "     'NDCG': 0.3031833,\n",
       "     'MAP': 0.1817664,\n",
       "     'COVERAGE_ITEM': 0.9958432,\n",
       "     'DIVERSITY_GINI': 0.5943726,\n",
       "     'DIVERSITY_MEAN_INTER_LIST': 0.9903914},\n",
       "    50: {'PRECISION': 0.0745995,\n",
       "     'RECALL': 0.5479029,\n",
       "     'NDCG': 0.359706,\n",
       "     'MAP': 0.1952591,\n",
       "     'COVERAGE_ITEM': 1.0,\n",
       "     'DIVERSITY_GINI': 0.7027946,\n",
       "     'DIVERSITY_MEAN_INTER_LIST': 0.9806174}}}},\n",
       " {'path': '/mnt/bulky2/nsukhorukov/CQFS/results/CiteULike_a/ICM_title_abstract/random_s0/p020/ItemKNNCBFRecommender/ItemKNNCBFRecommender_ICM_title_abstract_cosine_SearchBayesianSkopt.txt',\n",
       "  'name': 'random 20%',\n",
       "  'metrics': {'validation': {'PRECISION': 0.0799624,\n",
       "    'RECALL': 0.213924,\n",
       "    'NDCG': 0.1647272,\n",
       "    'MAP': 0.1072236,\n",
       "    'COVERAGE_ITEM': 0.3089787,\n",
       "    'DIVERSITY_GINI': 0.139072,\n",
       "    'DIVERSITY_MEAN_INTER_LIST': 0.9842635},\n",
       "   'test': {5: {'PRECISION': 0.1173496,\n",
       "     'RECALL': 0.0987194,\n",
       "     'NDCG': 0.1069603,\n",
       "     'MAP': 0.0906872,\n",
       "     'COVERAGE_ITEM': 0.6677553,\n",
       "     'DIVERSITY_GINI': 0.2619495,\n",
       "     'DIVERSITY_MEAN_INTER_LIST': 0.9929784},\n",
       "    10: {'PRECISION': 0.0949797,\n",
       "     'RECALL': 0.1502573,\n",
       "     'NDCG': 0.1361225,\n",
       "     'MAP': 0.0851457,\n",
       "     'COVERAGE_ITEM': 0.8212589,\n",
       "     'DIVERSITY_GINI': 0.331777,\n",
       "     'DIVERSITY_MEAN_INTER_LIST': 0.9894836},\n",
       "    20: {'PRECISION': 0.0718715,\n",
       "     'RECALL': 0.2170803,\n",
       "     'NDCG': 0.1661582,\n",
       "     'MAP': 0.0870419,\n",
       "     'COVERAGE_ITEM': 0.9320071,\n",
       "     'DIVERSITY_GINI': 0.4151699,\n",
       "     'DIVERSITY_MEAN_INTER_LIST': 0.984702},\n",
       "    50: {'PRECISION': 0.047811,\n",
       "     'RECALL': 0.3326189,\n",
       "     'NDCG': 0.2086771,\n",
       "     'MAP': 0.0954724,\n",
       "     'COVERAGE_ITEM': 0.9925772,\n",
       "     'DIVERSITY_GINI': 0.5443932,\n",
       "     'DIVERSITY_MEAN_INTER_LIST': 0.9737539}}}},\n",
       " {'path': '/mnt/bulky2/nsukhorukov/CQFS/results/CiteULike_a/ICM_title_abstract/random_s0/p040/ItemKNNCBFRecommender/ItemKNNCBFRecommender_ICM_title_abstract_cosine_SearchBayesianSkopt.txt',\n",
       "  'name': 'random 40%',\n",
       "  'metrics': {'validation': {'PRECISION': 0.1006268,\n",
       "    'RECALL': 0.2768023,\n",
       "    'NDCG': 0.2128156,\n",
       "    'MAP': 0.1423997,\n",
       "    'COVERAGE_ITEM': 0.3237109,\n",
       "    'DIVERSITY_GINI': 0.1559972,\n",
       "    'DIVERSITY_MEAN_INTER_LIST': 0.9867776},\n",
       "   'test': {5: {'PRECISION': 0.1545958,\n",
       "     'RECALL': 0.1374889,\n",
       "     'NDCG': 0.1451903,\n",
       "     'MAP': 0.1237805,\n",
       "     'COVERAGE_ITEM': 0.7811758,\n",
       "     'DIVERSITY_GINI': 0.323503,\n",
       "     'DIVERSITY_MEAN_INTER_LIST': 0.9943174},\n",
       "    10: {'PRECISION': 0.1263381,\n",
       "     'RECALL': 0.2121832,\n",
       "     'NDCG': 0.1866683,\n",
       "     'MAP': 0.1195884,\n",
       "     'COVERAGE_ITEM': 0.9118171,\n",
       "     'DIVERSITY_GINI': 0.3973434,\n",
       "     'DIVERSITY_MEAN_INTER_LIST': 0.9915396},\n",
       "    20: {'PRECISION': 0.0966131,\n",
       "     'RECALL': 0.3033097,\n",
       "     'NDCG': 0.2276502,\n",
       "     'MAP': 0.1250831,\n",
       "     'COVERAGE_ITEM': 0.9833729,\n",
       "     'DIVERSITY_GINI': 0.4809633,\n",
       "     'DIVERSITY_MEAN_INTER_LIST': 0.9872633},\n",
       "    50: {'PRECISION': 0.0612182,\n",
       "     'RECALL': 0.447122,\n",
       "     'NDCG': 0.2797142,\n",
       "     'MAP': 0.1363527,\n",
       "     'COVERAGE_ITEM': 1.0,\n",
       "     'DIVERSITY_GINI': 0.6012597,\n",
       "     'DIVERSITY_MEAN_INTER_LIST': 0.9768129}}}},\n",
       " {'path': '/mnt/bulky2/nsukhorukov/CQFS/results/CiteULike_a/ICM_title_abstract/random_s0/p060/ItemKNNCBFRecommender/ItemKNNCBFRecommender_ICM_title_abstract_cosine_SearchBayesianSkopt.txt',\n",
       "  'name': 'random 60%',\n",
       "  'metrics': {'validation': {'PRECISION': 0.1170288,\n",
       "    'RECALL': 0.3297264,\n",
       "    'NDCG': 0.2522913,\n",
       "    'MAP': 0.1735858,\n",
       "    'COVERAGE_ITEM': 0.3260999,\n",
       "    'DIVERSITY_GINI': 0.1689974,\n",
       "    'DIVERSITY_MEAN_INTER_LIST': 0.9881365},\n",
       "   'test': {5: {'PRECISION': 0.1830934,\n",
       "     'RECALL': 0.1672107,\n",
       "     'NDCG': 0.1767093,\n",
       "     'MAP': 0.1545604,\n",
       "     'COVERAGE_ITEM': 0.817696,\n",
       "     'DIVERSITY_GINI': 0.3600015,\n",
       "     'DIVERSITY_MEAN_INTER_LIST': 0.9948739},\n",
       "    10: {'PRECISION': 0.1442599,\n",
       "     'RECALL': 0.2470615,\n",
       "     'NDCG': 0.221014,\n",
       "     'MAP': 0.1474019,\n",
       "     'COVERAGE_ITEM': 0.9331948,\n",
       "     'DIVERSITY_GINI': 0.4376721,\n",
       "     'DIVERSITY_MEAN_INTER_LIST': 0.9922036},\n",
       "    20: {'PRECISION': 0.1097084,\n",
       "     'RECALL': 0.3497156,\n",
       "     'NDCG': 0.267364,\n",
       "     'MAP': 0.1546445,\n",
       "     'COVERAGE_ITEM': 0.9907957,\n",
       "     'DIVERSITY_GINI': 0.5225588,\n",
       "     'DIVERSITY_MEAN_INTER_LIST': 0.9883416},\n",
       "    50: {'PRECISION': 0.0687708,\n",
       "     'RECALL': 0.5026667,\n",
       "     'NDCG': 0.3235143,\n",
       "     'MAP': 0.1679201,\n",
       "     'COVERAGE_ITEM': 1.0,\n",
       "     'DIVERSITY_GINI': 0.6451576,\n",
       "     'DIVERSITY_MEAN_INTER_LIST': 0.9784781}}}},\n",
       " {'path': '/mnt/bulky2/nsukhorukov/CQFS/results/CiteULike_a/ICM_title_abstract/random_s0/p080/ItemKNNCBFRecommender/ItemKNNCBFRecommender_ICM_title_abstract_cosine_SearchBayesianSkopt.txt',\n",
       "  'name': 'random 80%',\n",
       "  'metrics': {'validation': {'PRECISION': 0.1254074,\n",
       "    'RECALL': 0.3543026,\n",
       "    'NDCG': 0.2757171,\n",
       "    'MAP': 0.1931353,\n",
       "    'COVERAGE_ITEM': 0.3259009,\n",
       "    'DIVERSITY_GINI': 0.1731833,\n",
       "    'DIVERSITY_MEAN_INTER_LIST': 0.9885648},\n",
       "   'test': {5: {'PRECISION': 0.1923219,\n",
       "     'RECALL': 0.1774991,\n",
       "     'NDCG': 0.1872831,\n",
       "     'MAP': 0.1638954,\n",
       "     'COVERAGE_ITEM': 0.8298694,\n",
       "     'DIVERSITY_GINI': 0.3667834,\n",
       "     'DIVERSITY_MEAN_INTER_LIST': 0.9950608},\n",
       "    10: {'PRECISION': 0.153876,\n",
       "     'RECALL': 0.2652379,\n",
       "     'NDCG': 0.2360615,\n",
       "     'MAP': 0.1587859,\n",
       "     'COVERAGE_ITEM': 0.9370546,\n",
       "     'DIVERSITY_GINI': 0.4446742,\n",
       "     'DIVERSITY_MEAN_INTER_LIST': 0.992547},\n",
       "    20: {'PRECISION': 0.1165467,\n",
       "     'RECALL': 0.3707343,\n",
       "     'NDCG': 0.2840949,\n",
       "     'MAP': 0.1675224,\n",
       "     'COVERAGE_ITEM': 0.9913895,\n",
       "     'DIVERSITY_GINI': 0.5309482,\n",
       "     'DIVERSITY_MEAN_INTER_LIST': 0.9886829},\n",
       "    50: {'PRECISION': 0.0721447,\n",
       "     'RECALL': 0.5326067,\n",
       "     'NDCG': 0.3428223,\n",
       "     'MAP': 0.1810449,\n",
       "     'COVERAGE_ITEM': 0.9997031,\n",
       "     'DIVERSITY_GINI': 0.647684,\n",
       "     'DIVERSITY_MEAN_INTER_LIST': 0.9786259}}}},\n",
       " {'path': '/mnt/bulky2/nsukhorukov/CQFS/results/CiteULike_a/ICM_title_abstract/random_s0/p095/ItemKNNCBFRecommender/ItemKNNCBFRecommender_ICM_title_abstract_cosine_SearchBayesianSkopt.txt',\n",
       "  'name': 'random 95%',\n",
       "  'metrics': {'validation': {'PRECISION': 0.133201,\n",
       "    'RECALL': 0.3745947,\n",
       "    'NDCG': 0.2982542,\n",
       "    'MAP': 0.2148125,\n",
       "    'COVERAGE_ITEM': 0.3294844,\n",
       "    'DIVERSITY_GINI': 0.1995544,\n",
       "    'DIVERSITY_MEAN_INTER_LIST': 0.990519},\n",
       "   'test': {5: {'PRECISION': 0.2116279,\n",
       "     'RECALL': 0.1934855,\n",
       "     'NDCG': 0.2044237,\n",
       "     'MAP': 0.1836652,\n",
       "     'COVERAGE_ITEM': 0.8732185,\n",
       "     'DIVERSITY_GINI': 0.4370159,\n",
       "     'DIVERSITY_MEAN_INTER_LIST': 0.9965064},\n",
       "    10: {'PRECISION': 0.166759,\n",
       "     'RECALL': 0.2854281,\n",
       "     'NDCG': 0.2558031,\n",
       "     'MAP': 0.177522,\n",
       "     'COVERAGE_ITEM': 0.9655582,\n",
       "     'DIVERSITY_GINI': 0.5297766,\n",
       "     'DIVERSITY_MEAN_INTER_LIST': 0.9945018},\n",
       "    20: {'PRECISION': 0.1227759,\n",
       "     'RECALL': 0.3870127,\n",
       "     'NDCG': 0.3025115,\n",
       "     'MAP': 0.183503,\n",
       "     'COVERAGE_ITEM': 0.9958432,\n",
       "     'DIVERSITY_GINI': 0.608799,\n",
       "     'DIVERSITY_MEAN_INTER_LIST': 0.9907539},\n",
       "    50: {'PRECISION': 0.0731635,\n",
       "     'RECALL': 0.5295471,\n",
       "     'NDCG': 0.3557745,\n",
       "     'MAP': 0.1959738,\n",
       "     'COVERAGE_ITEM': 1.0,\n",
       "     'DIVERSITY_GINI': 0.7061424,\n",
       "     'DIVERSITY_MEAN_INTER_LIST': 0.9807254}}}}]"
      ]
     },
     "execution_count": 35,
     "metadata": {},
     "output_type": "execute_result"
    }
   ],
   "source": [
    "cite_baselines"
   ]
  },
  {
   "cell_type": "code",
   "execution_count": 36,
   "metadata": {
    "collapsed": false,
    "deletable": true,
    "editable": true
   },
   "outputs": [],
   "source": [
    "import json, os\n",
    "results_json = {\n",
    "    'cite': {\n",
    "        'baseline': cite_baselines + cite_baselines_artyom,\n",
    "        # 'knn': cite_experiments_knn,\n",
    "        'svd': cite_experiments_svd,\n",
    "        # 'rp3b': cite_experiments_rp3b,\n",
    "    }\n",
    "}\n",
    "with open('results_wpopular.json', 'w') as fout:\n",
    "    json.dump(results_json, fout)"
   ]
  },
  {
   "cell_type": "code",
   "execution_count": null,
   "metadata": {},
   "outputs": [],
   "source": [
    "results_json"
   ]
  },
  {
   "cell_type": "code",
   "execution_count": null,
   "metadata": {
    "collapsed": false,
    "deletable": true,
    "editable": true
   },
   "outputs": [],
   "source": []
  },
  {
   "cell_type": "code",
   "execution_count": null,
   "metadata": {
    "collapsed": true,
    "deletable": true,
    "editable": true
   },
   "outputs": [],
   "source": [
    "def style_negative(v, props=''):\n",
    "    return 'color:red;' if v < 0 else 'color:green'"
   ]
  },
  {
   "cell_type": "code",
   "execution_count": null,
   "metadata": {
    "collapsed": false,
    "deletable": true,
    "editable": true
   },
   "outputs": [],
   "source": [
    "df_xing_paper_orig = pd.read_csv('xing_paper.csv', index_col=0)\n",
    "df_xing_paper = df_xing_paper_orig.copy()\n",
    "df_xing_paper.loc[df_xing_paper.index[1]:, metrics] = (\n",
    "    df_xing_paper.loc[df_xing_paper.index[1]:, metrics] / df_xing_paper.loc['ItemKNN CBF', metrics] - 1\n",
    ")\n",
    "df_xing_paper_base = df_xing_paper.iloc[:1, :-2]\n",
    "df_xing_paper_base.insert(0, 'Source', 'Reported')\n",
    "display(df_xing_paper_base)\n",
    "df_xing_paper = df_xing_paper.iloc[1:]\n",
    "df_xing_paper[metrics] = (df_xing_paper[metrics] * 100).astype(float).round(1)\n",
    "df_xing_paper = df_xing_paper.rename(columns=dict(zip(metrics, metrics_rel)))\n",
    "df_xing_paper.insert(0, 'Selected, %', '-')\n",
    "df_xing_paper.insert(0, 'Source', 'Reported')\n",
    "df_xing_paper.loc[['CQFS ItemKNN 40%', 'CQFS ItemKNN 60%', 'CQFS ItemKNN 80%', 'CQFS ItemKNN 95%'], 'Selected, %'] = [\n",
    "    int(np.round(np.mean(xing_selections_from_authors['a1b0001s1000p040']) * 100)),\n",
    "    int(np.round(np.mean(xing_selections_from_authors['a1b00001s10p060']) * 100)),\n",
    "    int(np.round(np.mean(xing_selections_from_authors['a1b0001s100p080']) * 100)),\n",
    "    int(np.round(np.mean(xing_selections_from_authors['a1b00001s1000p095']) * 100)),\n",
    "]\n",
    "display(df_xing_paper)\n",
    "\n",
    "\n",
    "df_xing_paper_all = df_xing_paper_orig.copy()\n",
    "df_xing_paper_all.insert(0, 'Selected, %', '-')\n",
    "df_xing_paper_all.insert(0, 'Source', 'Reported')\n",
    "df_xing_paper_all.loc[['CQFS ItemKNN 40%', 'CQFS ItemKNN 60%', 'CQFS ItemKNN 80%', 'CQFS ItemKNN 95%'], 'Selected, %'] = [\n",
    "    int(np.round(np.mean(xing_selections_from_authors['a1b0001s1000p040']) * 100)),\n",
    "    int(np.round(np.mean(xing_selections_from_authors['a1b00001s10p060']) * 100)),\n",
    "    int(np.round(np.mean(xing_selections_from_authors['a1b0001s100p080']) * 100)),\n",
    "    int(np.round(np.mean(xing_selections_from_authors['a1b00001s1000p095']) * 100)),\n",
    "]\n",
    "df_xing_paper_all"
   ]
  },
  {
   "cell_type": "code",
   "execution_count": null,
   "metadata": {
    "collapsed": false,
    "deletable": true,
    "editable": true
   },
   "outputs": [],
   "source": [
    "df_xing_baseline_test = parse_test_results(xing_baselines)\n",
    "df_xing_cqfstt_test = parse_test_results(xing_experiments_knn)\n",
    "df_xing_test = pd.concat([\n",
    "    df_xing_baseline_test[df_xing_baseline_test['@n'] == 10],\n",
    "    df_xing_cqfstt_test[df_xing_cqfstt_test['@n'] == 10],\n",
    "]).drop(columns=['@n', 'a'])\n",
    "df_xing_test.loc[df_xing_test.index[1]:, metrics] = (\n",
    "    df_xing_test.loc[df_xing_test.index[1]:, metrics] / df_xing_test.loc['ItemKNN CBF', metrics] - 1\n",
    ")\n",
    "display(df_xing_test)\n",
    "# df_xing_test_base = df_xing_test.iloc[:1, 1:-2]\n",
    "# df_xing_test_base.insert(0, 'Source', 'Replicated')\n",
    "# display(df_xing_test_base)\n",
    "# df_xing_test = df_xing_test.iloc[1:]\n",
    "# df_xing_test[metrics] = (df_xing_test[metrics] * 100).astype(float).round(1)\n",
    "# df_xing_test = df_xing_test.rename(columns={metric: metric + ', %' for metric in metrics})\n",
    "# df_xing_test.insert(0, 'Source', 'Replicated')\n",
    "# display(df_xing_test)\n",
    "# df_xing_test.to_csv('xing_test_paper_params.csv')\n",
    "\n",
    "df_xing_baseline_test_all = parse_test_results(xing_baselines)\n",
    "df_xing_cqfstt_test_all = parse_test_results(xing_experiments_knn)\n",
    "df_xing_test_all = pd.concat([\n",
    "    df_xing_baseline_test_all[df_xing_baseline_test_all['@n'] == 10],\n",
    "    df_xing_cqfstt_test_all[df_xing_cqfstt_test_all['@n'] == 10],\n",
    "]).drop(columns=['@n', 'a'])\n",
    "df_xing_test_all.insert(0, 'Source', 'Reproduced')\n",
    "df_xing_test_all"
   ]
  },
  {
   "cell_type": "code",
   "execution_count": null,
   "metadata": {
    "collapsed": true,
    "deletable": true,
    "editable": true
   },
   "outputs": [],
   "source": [
    "df_xing_baseline_test = parse_test_results(xing_baselines)\n",
    "df_xing_cqfstt_knn_validation = parse_validation_results(xing_experiments_knn)\n",
    "df_xing_cqfstt_svd_validation = parse_validation_results(xing_experiments_svd)\n",
    "df_xing_cqfstt_rp3b_validation = parse_validation_results(xing_experiments_rp3b)\n",
    "df_xing_cqfstt_knn_test = parse_test_results(xing_experiments_knn)\n",
    "df_xing_cqfstt_svd_test = parse_test_results(xing_experiments_svd)\n",
    "df_xing_cqfstt_rp3b_test = parse_test_results(xing_experiments_rp3b)"
   ]
  },
  {
   "cell_type": "code",
   "execution_count": null,
   "metadata": {
    "collapsed": false,
    "deletable": true,
    "editable": true
   },
   "outputs": [],
   "source": [
    "df_xing_test_orig"
   ]
  },
  {
   "cell_type": "code",
   "execution_count": null,
   "metadata": {
    "collapsed": false,
    "deletable": true,
    "editable": true
   },
   "outputs": [],
   "source": [
    "df_xing_test_orig.sort_values(by='Precision', ascending=False)"
   ]
  },
  {
   "cell_type": "code",
   "execution_count": null,
   "metadata": {
    "collapsed": false,
    "deletable": true,
    "editable": true
   },
   "outputs": [],
   "source": [
    "df_xing_baseline_test = parse_test_results(xing_baselines)\n",
    "df_xing_cqfstt_knn_validation = parse_validation_results(xing_experiments_knn)\n",
    "df_xing_cqfstt_svd_validation = parse_validation_results(xing_experiments_svd)\n",
    "df_xing_cqfstt_rp3b_validation = parse_validation_results(xing_experiments_rp3b)\n",
    "df_xing_cqfstt_knn_test = parse_test_results(xing_experiments_knn)\n",
    "df_xing_cqfstt_svd_test = parse_test_results(xing_experiments_svd)\n",
    "df_xing_cqfstt_rp3b_test = parse_test_results(xing_experiments_rp3b)\n",
    "df_xing_test_orig = pd.concat([\n",
    "    df_xing_baseline_test[df_xing_baseline_test['@n'] == 10],\n",
    "    df_xing_cqfstt_knn_test[df_xing_cqfstt_knn_test['@n'] == 10],\n",
    "    df_xing_cqfstt_svd_test[df_xing_cqfstt_svd_test['@n'] == 10],\n",
    "    df_xing_cqfstt_rp3b_test[df_xing_cqfstt_rp3b_test['@n'] == 10],\n",
    "]).drop(columns=['@n', 'a'])\n",
    "df_xing_test = df_xing_test_orig.copy()\n",
    "df_xing_test.loc[df_xing_test.index[1]:, metrics] = (\n",
    "    df_xing_test.loc[df_xing_test.index[1]:, metrics] / df_xing_test.loc['ItemKNN CBF', metrics] - 1\n",
    ")\n",
    "df_xing_test_base = df_xing_test.iloc[:1, 1:-2]\n",
    "df_xing_test_base.insert(0, 'Source', 'Replicated')\n",
    "display(df_xing_test_base)\n",
    "df_xing_test = df_xing_test.iloc[1:]\n",
    "df_xing_test[metrics] = (df_xing_test[metrics] * 100).astype(float).round(1)\n",
    "df_xing_test = df_xing_test.rename(columns={metric: metric + ', %' for metric in metrics})\n",
    "df_xing_test[['beta', 's']] = df_xing_test[['beta', 's']].astype(str)\n",
    "df_xing_test.insert(0, 'Source', 'Replicated')\n",
    "display(df_xing_test)\n",
    "# df_xing_test.to_csv('xing_test_paper_params.csv')\n",
    "\n",
    "\n",
    "df_xing_baseline_test_all = parse_test_results(xing_baselines)\n",
    "df_xing_cqfstt_knn_test_all = parse_test_results(xing_experiments_knn)\n",
    "df_xing_cqfstt_svd_test_all = parse_test_results(xing_experiments_svd)\n",
    "df_xing_cqfstt_rp3b_test_all = parse_test_results(xing_experiments_rp3b)\n",
    "\n",
    "df_xing_test_all = pd.concat([\n",
    "    df_xing_baseline_test_all[df_xing_baseline_test_all['@n'] == 10],\n",
    "    df_xing_cqfstt_knn_test_all[df_xing_cqfstt_knn_test_all['@n'] == 10],\n",
    "    df_xing_cqfstt_svd_test_all[df_xing_cqfstt_svd_test_all['@n'] == 10],\n",
    "    df_xing_cqfstt_rp3b_test_all[df_xing_cqfstt_rp3b_test_all['@n'] == 10],\n",
    "]).drop(columns=['@n', 'a'])\n",
    "df_xing_test_all.insert(0, 'Source', 'Reproduced')\n",
    "df_xing_test_all"
   ]
  },
  {
   "cell_type": "code",
   "execution_count": null,
   "metadata": {
    "collapsed": false,
    "deletable": true,
    "editable": true,
    "scrolled": false
   },
   "outputs": [],
   "source": [
    "df_xing_cqfstt_knn_validation_best = get_validation_best(df_xing_cqfstt_knn_validation, metric='Precision')\n",
    "df_xing_cqfstt_svd_validation_best = get_validation_best(df_xing_cqfstt_svd_validation, metric='Precision')\n",
    "df_xing_cqfstt_rp3b_validation_best = get_validation_best(df_xing_cqfstt_rp3b_validation, metric='Precision')\n",
    "\n",
    "df_xing_cqfstt_knn_test_best = join_test_validation(\n",
    "    df_xing_cqfstt_knn_validation_best,\n",
    "    df_xing_test,\n",
    ")\n",
    "df_xing_cqfstt_svd_test_best = join_test_validation(\n",
    "    df_xing_cqfstt_svd_validation_best,\n",
    "    df_xing_test,\n",
    ")\n",
    "df_xing_cqfstt_rp3b_test_best = join_test_validation(\n",
    "    df_xing_cqfstt_rp3b_validation_best,\n",
    "    df_xing_test,\n",
    ")\n",
    "pd.concat([df_xing_cqfstt_knn_test_best, df_xing_cqfstt_svd_test_best, df_xing_cqfstt_rp3b_test_best])"
   ]
  },
  {
   "cell_type": "code",
   "execution_count": null,
   "metadata": {
    "collapsed": false,
    "deletable": true,
    "editable": true
   },
   "outputs": [],
   "source": [
    "df = pd.concat([\n",
    "    df_xing_paper_all.set_index(['beta', 's', 'Source'], append=True),\n",
    "    df_xing_test_all.set_index(['beta', 's', 'Source'], append=True),\n",
    "]).sort_index(ascending=[False, False, False, True])\n",
    "display(df)\n",
    "df.to_csv('xing_complete.csv')"
   ]
  },
  {
   "cell_type": "code",
   "execution_count": null,
   "metadata": {
    "collapsed": true,
    "deletable": true,
    "editable": true
   },
   "outputs": [],
   "source": [
    "display(\n",
    "    pd.concat([\n",
    "        df_xing_paper_base,\n",
    "        df_xing_test_base,\n",
    "    ]).set_index(['Source'], append=True)\n",
    ")\n",
    "\n",
    "df_xing_paper_test_merged = pd.concat([\n",
    "    df_xing_paper.set_index(['beta', 's', 'Source'], append=True),\n",
    "    df_xing_test.set_index(['beta', 's', 'Source'], append=True),\n",
    "])\n",
    "df_xing_paper_test_merged = df_xing_paper_test_merged.sort_index().sort_index(ascending=[True, False, False, False])\n",
    "df_xing_paper_test_merged"
   ]
  },
  {
   "cell_type": "code",
   "execution_count": null,
   "metadata": {
    "collapsed": false,
    "deletable": true,
    "editable": true,
    "scrolled": false
   },
   "outputs": [],
   "source": [
    "display(\n",
    "    pd.concat([\n",
    "        df_xing_paper_base,\n",
    "        df_xing_test_base,\n",
    "    ]).set_index(['Source'], append=True)\n",
    ")\n",
    "\n",
    "df_xing_paper_test_merged = pd.concat([\n",
    "    df_xing_paper.set_index(['beta', 's', 'Source'], append=True),\n",
    "    df_xing_test.set_index(['beta', 's', 'Source'], append=True),\n",
    "])\n",
    "df_xing_paper_test_merged = df_xing_paper_test_merged.sort_index().sort_index(ascending=[True, False, False, False])\n",
    "df_xing_paper_test_merged"
   ]
  },
  {
   "cell_type": "code",
   "execution_count": null,
   "metadata": {
    "collapsed": false,
    "deletable": true,
    "editable": true
   },
   "outputs": [],
   "source": [
    "df_tmd_paper_orig = pd.read_csv('tmd_paper.csv', index_col=0)\n",
    "df_tmd_paper = df_tmd_paper_orig.copy()\n",
    "df_tmd_paper.loc[df_tmd_paper.index[1]:, metrics] = (\n",
    "    df_tmd_paper.loc[df_tmd_paper.index[1]:, metrics] / df_tmd_paper.loc['ItemKNN CBF', metrics] - 1\n",
    ")\n",
    "df_tmd_paper_base = df_tmd_paper.iloc[:1, :-2]\n",
    "df_tmd_paper_base.insert(0, 'Source', 'Reported')\n",
    "display(df_tmd_paper_base)\n",
    "df_tmd_paper = df_tmd_paper.iloc[1:]\n",
    "df_tmd_paper[metrics] = (df_tmd_paper[metrics] * 100).astype(float).round(1)\n",
    "df_tmd_paper = df_tmd_paper.rename(columns=dict(zip(metrics, metrics_rel)))\n",
    "df_tmd_paper.insert(0, 'Selected, %', '-')\n",
    "df_tmd_paper.insert(0, 'Source', 'Reported')\n",
    "df_tmd_paper.loc[\n",
    "    [\n",
    "        'CQFS ItemKNN 20%', 'CQFS ItemKNN 30%', 'CQFS ItemKNN 40%', 'CQFS ItemKNN 60%', 'CQFS ItemKNN 80%', 'CQFS ItemKNN 95%',\n",
    "        'CQFS PureSVD 20%', 'CQFS PureSVD 30%', 'CQFS PureSVD 40%', 'CQFS PureSVD 60%', 'CQFS PureSVD 80%', 'CQFS PureSVD 95%',\n",
    "        'CQFS RP3Beta 20%', 'CQFS RP3Beta 30%', 'CQFS RP3Beta 40%', 'CQFS RP3Beta 60%', 'CQFS RP3Beta 80%', 'CQFS RP3Beta 95%',\n",
    "    ],\n",
    "    'Selected, %'\n",
    "] = '-'\n",
    "# ] = [\n",
    "#     int(np.round(np.mean(tmd_selections_from_authors['a1b0001s1000p040']) * 100)),\n",
    "#     int(np.round(np.mean(tmd_selections_from_authors['a1b00001s10p060']) * 100)),\n",
    "#     int(np.round(np.mean(tmd_selections_from_authors['a1b0001s100p080']) * 100)),\n",
    "#     int(np.round(np.mean(tmd_selections_from_authors['a1b00001s1000p095']) * 100)),\n",
    "#     int(np.round(np.mean(tmd_selections_from_authors['a1b0001s1000p040']) * 100)),\n",
    "#     int(np.round(np.mean(tmd_selections_from_authors['a1b00001s10p060']) * 100)),\n",
    "#     int(np.round(np.mean(tmd_selections_from_authors['a1b0001s100p080']) * 100)),\n",
    "#     int(np.round(np.mean(tmd_selections_from_authors['a1b00001s1000p095']) * 100)),\n",
    "#     int(np.round(np.mean(tmd_selections_from_authors['a1b0001s1000p040']) * 100)),\n",
    "#     int(np.round(np.mean(tmd_selections_from_authors['a1b00001s10p060']) * 100)),\n",
    "#     int(np.round(np.mean(tmd_selections_from_authors['a1b0001s100p080']) * 100)),\n",
    "#     int(np.round(np.mean(tmd_selections_from_authors['a1b00001s1000p095']) * 100)),\n",
    "# ]\n",
    "display(df_tmd_paper)\n",
    "\n",
    "\n",
    "df_tmd_paper_all = df_tmd_paper_orig.copy()\n",
    "df_tmd_paper_all.insert(0, 'Selected, %', '-')\n",
    "df_tmd_paper_all.insert(0, 'Source', 'Reported')\n",
    "df_tmd_paper_all.loc[\n",
    "    [\n",
    "        'CQFS ItemKNN 20%', 'CQFS ItemKNN 30%', 'CQFS ItemKNN 40%', 'CQFS ItemKNN 60%', 'CQFS ItemKNN 80%', 'CQFS ItemKNN 95%',\n",
    "        'CQFS PureSVD 20%', 'CQFS PureSVD 30%', 'CQFS PureSVD 40%', 'CQFS PureSVD 60%', 'CQFS PureSVD 80%', 'CQFS PureSVD 95%',\n",
    "        'CQFS RP3Beta 20%', 'CQFS RP3Beta 30%', 'CQFS RP3Beta 40%', 'CQFS RP3Beta 60%', 'CQFS RP3Beta 80%', 'CQFS RP3Beta 95%',\n",
    "    ],\n",
    "    'Selected, %'\n",
    "] = '-'\n",
    "# df_tmd_paper_all"
   ]
  },
  {
   "cell_type": "code",
   "execution_count": null,
   "metadata": {
    "collapsed": false,
    "deletable": true,
    "editable": true
   },
   "outputs": [],
   "source": [
    "df_tmd_baseline_test = parse_test_results(tmd_baselines)\n",
    "df_tmd_cqfstt_knn_validation = parse_validation_results(tmd_experiments_knn)\n",
    "df_tmd_cqfstt_svd_validation = parse_validation_results(tmd_experiments_svd)\n",
    "df_tmd_cqfstt_rp3b_validation = parse_validation_results(tmd_experiments_rp3b)\n",
    "df_tmd_cqfstt_knn_test = parse_test_results(tmd_experiments_knn)\n",
    "df_tmd_cqfstt_svd_test = parse_test_results(tmd_experiments_svd)\n",
    "df_tmd_cqfstt_rp3b_test = parse_test_results(tmd_experiments_rp3b)\n",
    "df_tmd_test_orig = pd.concat([\n",
    "    df_tmd_baseline_test[df_tmd_baseline_test['@n'] == 10],\n",
    "    df_tmd_cqfstt_knn_test[df_tmd_cqfstt_knn_test['@n'] == 10],\n",
    "    df_tmd_cqfstt_svd_test[df_tmd_cqfstt_svd_test['@n'] == 10],\n",
    "    df_tmd_cqfstt_rp3b_test[df_tmd_cqfstt_rp3b_test['@n'] == 10],\n",
    "]).drop(columns=['@n', 'a'])\n",
    "df_tmd_test = df_tmd_test_orig.copy()\n",
    "df_tmd_test.loc[df_tmd_test.index[1]:, metrics] = (\n",
    "    df_tmd_test.loc[df_tmd_test.index[1]:, metrics] / df_tmd_test.loc['ItemKNN CBF', metrics] - 1\n",
    ")\n",
    "df_tmd_test_base = df_tmd_test.iloc[:1, 1:-2]\n",
    "df_tmd_test_base.insert(0, 'Source', 'Replicated')\n",
    "display(df_tmd_test_base)\n",
    "df_tmd_test = df_tmd_test.iloc[1:]\n",
    "df_tmd_test[metrics] = (df_tmd_test[metrics] * 100).astype(float).round(1)\n",
    "df_tmd_test = df_tmd_test.rename(columns={metric: metric + ', %' for metric in metrics})\n",
    "df_tmd_test[['beta', 's']] = df_tmd_test[['beta', 's']].astype(str)\n",
    "df_tmd_test.insert(0, 'Source', 'Replicated')\n",
    "display(df_tmd_test)\n",
    "# df_tmd_test.to_csv('tmd_test_paper_params.csv')\n",
    "\n",
    "\n",
    "df_tmd_baseline_test_all = parse_test_results(tmd_baselines)\n",
    "df_tmd_cqfstt_knn_test_all = parse_test_results(tmd_experiments_knn)\n",
    "df_tmd_cqfstt_svd_test_all = parse_test_results(tmd_experiments_svd)\n",
    "df_tmd_cqfstt_rp3b_test_all = parse_test_results(tmd_experiments_rp3b)\n",
    "\n",
    "df_tmd_test_all = pd.concat([\n",
    "    df_tmd_baseline_test_all[df_tmd_baseline_test_all['@n'] == 10],\n",
    "    df_tmd_cqfstt_knn_test_all[df_tmd_cqfstt_knn_test_all['@n'] == 10],\n",
    "    df_tmd_cqfstt_svd_test_all[df_tmd_cqfstt_svd_test_all['@n'] == 10],\n",
    "    df_tmd_cqfstt_rp3b_test_all[df_tmd_cqfstt_rp3b_test_all['@n'] == 10],\n",
    "]).drop(columns=['@n', 'a'])\n",
    "df_tmd_test_all.insert(0, 'Source', 'Reproduced')\n",
    "df_tmd_test_all"
   ]
  },
  {
   "cell_type": "code",
   "execution_count": null,
   "metadata": {
    "collapsed": false,
    "deletable": true,
    "editable": true
   },
   "outputs": [],
   "source": [
    "df_tmd_cqfstt_knn_validation_best = get_validation_best(df_tmd_cqfstt_knn_validation, metric='Precision')\n",
    "df_tmd_cqfstt_svd_validation_best = get_validation_best(df_tmd_cqfstt_svd_validation, metric='Precision')\n",
    "df_tmd_cqfstt_rp3b_validation_best = get_validation_best(df_tmd_cqfstt_rp3b_validation, metric='Precision')\n",
    "\n",
    "df_tmd_cqfstt_knn_test_best = join_test_validation(\n",
    "    df_tmd_cqfstt_knn_validation_best,\n",
    "    df_tmd_test,\n",
    ")\n",
    "df_tmd_cqfstt_svd_test_best = join_test_validation(\n",
    "    df_tmd_cqfstt_svd_validation_best,\n",
    "    df_tmd_test,\n",
    ")\n",
    "df_tmd_cqfstt_rp3b_test_best = join_test_validation(\n",
    "    df_tmd_cqfstt_rp3b_validation_best,\n",
    "    df_tmd_test,\n",
    ")\n",
    "pd.concat([df_tmd_cqfstt_knn_test_best, df_tmd_cqfstt_svd_test_best, df_tmd_cqfstt_rp3b_test_best])"
   ]
  },
  {
   "cell_type": "code",
   "execution_count": null,
   "metadata": {
    "collapsed": false,
    "deletable": true,
    "editable": true
   },
   "outputs": [],
   "source": [
    "df = pd.concat([\n",
    "    df_tmd_paper_all.set_index(['beta', 's', 'Source'], append=True),\n",
    "    df_tmd_test_all.set_index(['beta', 's', 'Source'], append=True),\n",
    "]).sort_index(ascending=[False, False, False, True])\n",
    "display(df)\n",
    "df.to_csv('tmd_complete.csv')"
   ]
  },
  {
   "cell_type": "code",
   "execution_count": null,
   "metadata": {
    "collapsed": false,
    "deletable": true,
    "editable": true
   },
   "outputs": [],
   "source": [
    "display(\n",
    "    pd.concat([\n",
    "        df_tmd_paper_base,\n",
    "        df_tmd_test_base,\n",
    "    ]).set_index(['Source'], append=True)\n",
    ")\n",
    "\n",
    "df_tmd_paper_test_merged = pd.concat([\n",
    "    df_tmd_paper.set_index(['beta', 's', 'Source'], append=True),\n",
    "    df_tmd_test.set_index(['beta', 's', 'Source'], append=True),\n",
    "])\n",
    "# df_tmd_paper_test_merged.sort_index().iloc[25:].index\n",
    "df_tmd_paper_test_merged = df_tmd_paper_test_merged.sort_index(ascending=[True, False, False, False])\n",
    "df_tmd_paper_test_merged"
   ]
  },
  {
   "cell_type": "code",
   "execution_count": null,
   "metadata": {
    "collapsed": false,
    "deletable": true,
    "editable": true
   },
   "outputs": [],
   "source": [
    "df_cite_paper_orig = pd.read_csv('cite_paper.csv', index_col=0)\n",
    "df_cite_paper = df_cite_paper_orig.copy()\n",
    "df_cite_paper.loc[df_cite_paper.index[1]:, metrics] = (\n",
    "    df_cite_paper.loc[df_cite_paper.index[1]:, metrics] / df_cite_paper.loc['ItemKNN CBF', metrics] - 1\n",
    ")\n",
    "df_cite_paper_base = df_cite_paper.iloc[:1, :-2]\n",
    "df_cite_paper_base.insert(0, 'Source', 'Reported')\n",
    "display(df_cite_paper_base)\n",
    "df_cite_paper = df_cite_paper.iloc[1:]\n",
    "df_cite_paper[metrics] = (df_cite_paper[metrics] * 100).astype(float).round(1)\n",
    "df_cite_paper = df_cite_paper.rename(columns=dict(zip(metrics, metrics_rel)))\n",
    "df_cite_paper.insert(0, 'Selected, %', '-')\n",
    "df_cite_paper.insert(0, 'Source', 'Reported')\n",
    "df_cite_paper.loc[\n",
    "    ['CQFS ItemKNN 40%', 'CQFS ItemKNN 60%', 'CQFS ItemKNN 80%', 'CQFS ItemKNN 95%'],\n",
    "    'Selected, %'\n",
    "] = '-'\n",
    "# ] = [\n",
    "#     int(np.round(np.mean(cite_selections_from_authors['a1b0001s1000p040']) * 100)),\n",
    "#     int(np.round(np.mean(cite_selections_from_authors['a1b00001s10p060']) * 100)),\n",
    "#     int(np.round(np.mean(cite_selections_from_authors['a1b0001s100p080']) * 100)),\n",
    "#     int(np.round(np.mean(cite_selections_from_authors['a1b00001s1000p095']) * 100)),\n",
    "# ]\n",
    "display(df_cite_paper)\n",
    "\n",
    "\n",
    "df_cite_paper_all = df_cite_paper_orig.copy()\n",
    "df_cite_paper_all.insert(0, 'Selected, %', '-')\n",
    "df_cite_paper_all.insert(0, 'Source', 'Reported')\n",
    "df_cite_paper_all.loc[\n",
    "    ['CQFS ItemKNN 40%', 'CQFS ItemKNN 60%', 'CQFS ItemKNN 80%', 'CQFS ItemKNN 95%'],\n",
    "    'Selected, %'\n",
    "] = '-'\n",
    "df_cite_paper_all"
   ]
  },
  {
   "cell_type": "code",
   "execution_count": null,
   "metadata": {
    "collapsed": true,
    "deletable": true,
    "editable": true
   },
   "outputs": [],
   "source": [
    "df_cite_baseline_test = parse_test_results(cite_baselines)\n",
    "df_cite_cqfstt_test_knn = parse_test_results(cite_experiments_knn)\n",
    "df_cite_cqfstt_test_svd = parse_test_results(cite_experiments_svd)\n",
    "df_cite_cqfstt_test_rp3b = parse_test_results(cite_experiments_rp3b)"
   ]
  },
  {
   "cell_type": "code",
   "execution_count": null,
   "metadata": {
    "collapsed": true,
    "deletable": true,
    "editable": true
   },
   "outputs": [],
   "source": [
    "pd.set_option('display.max_rows', None)"
   ]
  },
  {
   "cell_type": "code",
   "execution_count": null,
   "metadata": {
    "collapsed": false,
    "deletable": true,
    "editable": true
   },
   "outputs": [],
   "source": [
    "def get_validation_best(df_cqfstt, metric):\n",
    "    return df_cqfstt[df_cqfstt.groupby(df_cqfstt.index)[metric].transform(max) == df_cqfstt[metric]]\n",
    "\n",
    "def join_test_validation(df_vali, df_test):\n",
    "    df_vali = df_vali.copy()\n",
    "    df_test = df_test.copy()\n",
    "    df_vali['alg'] = df_vali.index\n",
    "    df_test['alg'] = df_test.index\n",
    "    df_vali = df_vali.reset_index(drop=True)\n",
    "    df_test = df_test.reset_index(drop=True)\n",
    "    df_test.loc[df_test['beta'] == '-', 'beta'] = 0\n",
    "    df_test.loc[:, 'beta'] = df_test['beta'].astype(np.float64)\n",
    "    df_test.loc[df_test['s'] == '-', 's'] = 0\n",
    "    df_test.loc[:, 's'] = df_test['s'].astype(np.int64)\n",
    "    tmp = pd.merge(df_test, df_vali, on=['alg', 'beta', 's'], suffixes=('', '_vali'))\n",
    "    tmp = tmp[df_test.columns]\n",
    "    tmp.index = list(tmp['alg'])\n",
    "    tmp = tmp.loc[:, [col for col in df_test.columns if col != 'alg']]\n",
    "    return tmp"
   ]
  },
  {
   "cell_type": "code",
   "execution_count": null,
   "metadata": {
    "collapsed": false,
    "deletable": true,
    "editable": true,
    "scrolled": true
   },
   "outputs": [],
   "source": [
    "df_cite_baseline_test = parse_test_results(cite_baselines)\n",
    "df_cite_cqfstt_knn_test = parse_test_results(cite_experiments_knn)\n",
    "df_cite_cqfstt_svd_test = parse_test_results(cite_experiments_svd)\n",
    "df_cite_cqfstt_rp3b_test = parse_test_results(cite_experiments_rp3b)\n",
    "df_cite_cqfstt_knn_validation = parse_validation_results(cite_experiments_knn)\n",
    "df_cite_cqfstt_svd_validation = parse_validation_results(cite_experiments_svd)\n",
    "df_cite_cqfstt_rp3b_validation = parse_validation_results(cite_experiments_rp3b)\n",
    "\n",
    "df_cite_test_orig = pd.concat([\n",
    "    df_cite_baseline_test[df_cite_baseline_test['@n'] == 10],\n",
    "    df_cite_cqfstt_knn_test[df_cite_cqfstt_knn_test['@n'] == 10],\n",
    "    df_cite_cqfstt_svd_test[df_cite_cqfstt_svd_test['@n'] == 10],\n",
    "    df_cite_cqfstt_rp3b_test[df_cite_cqfstt_rp3b_test['@n'] == 10],\n",
    "]).drop(columns=['@n', 'a'])\n",
    "df_cite_test = df_cite_test_orig.copy()\n",
    "df_cite_test.loc[df_cite_test.index[1]:, metrics] = (\n",
    "    df_cite_test.loc[df_cite_test.index[1]:, metrics] / df_cite_test.loc['ItemKNN CBF', metrics] - 1\n",
    ")\n",
    "df_cite_test_base = df_cite_test.iloc[:1, 1:-2]\n",
    "df_cite_test_base.insert(0, 'Source', 'Replicated')\n",
    "display(df_cite_test_base)\n",
    "df_cite_test = df_cite_test.iloc[1:]\n",
    "df_cite_test[metrics] = (df_cite_test[metrics] * 100).astype(float).round(1)\n",
    "df_cite_test = df_cite_test.rename(columns={metric: metric + ', %' for metric in metrics})\n",
    "df_cite_test.insert(0, 'Source', 'Replicated')\n",
    "display(df_cite_test)\n",
    "# df_cite_test.to_csv('cite_test_paper_params.csv')\n",
    "\n",
    "\n",
    "df_cite_baseline_test_all = parse_test_results(cite_baselines)\n",
    "df_cite_cqfstt_knn_test_all = parse_test_results(cite_experiments_knn)\n",
    "df_cite_cqfstt_svd_test_all = parse_test_results(cite_experiments_svd)\n",
    "df_cite_cqfstt_rp3b_test_all = parse_test_results(cite_experiments_rp3b)\n",
    "\n",
    "df_cite_test_all = pd.concat([\n",
    "    df_cite_baseline_test_all[df_cite_baseline_test_all['@n'] == 10],\n",
    "    df_cite_cqfstt_knn_test_all[df_cite_cqfstt_knn_test_all['@n'] == 10],\n",
    "    df_cite_cqfstt_svd_test_all[df_cite_cqfstt_svd_test_all['@n'] == 10],\n",
    "    df_cite_cqfstt_rp3b_test_all[df_cite_cqfstt_rp3b_test_all['@n'] == 10],\n",
    "]).drop(columns=['@n', 'a'])\n",
    "df_cite_test_all.insert(0, 'Source', 'Reproduced')\n",
    "df_cite_test_all"
   ]
  },
  {
   "cell_type": "code",
   "execution_count": null,
   "metadata": {
    "collapsed": false,
    "deletable": true,
    "editable": true
   },
   "outputs": [],
   "source": [
    "df_cite_cqfstt_knn_validation_best = get_validation_best(df_cite_cqfstt_knn_validation, metric='Precision')\n",
    "df_cite_cqfstt_svd_validation_best = get_validation_best(df_cite_cqfstt_svd_validation, metric='Precision')\n",
    "df_cite_cqfstt_rp3b_validation_best = get_validation_best(df_cite_cqfstt_rp3b_validation, metric='Precision')\n",
    "\n",
    "df_cite_cqfstt_knn_test_best = join_test_validation(\n",
    "    df_cite_cqfstt_knn_validation_best,\n",
    "    df_cite_test,\n",
    ")\n",
    "df_cite_cqfstt_svd_test_best = join_test_validation(\n",
    "    df_cite_cqfstt_svd_validation_best,\n",
    "    df_cite_test,\n",
    ")\n",
    "df_cite_cqfstt_rp3b_test_best = join_test_validation(\n",
    "    df_cite_cqfstt_rp3b_validation_best,\n",
    "    df_cite_test,\n",
    ")\n",
    "pd.concat([df_cite_cqfstt_knn_test_best, df_cite_cqfstt_svd_test_best, df_cite_cqfstt_rp3b_test_best])"
   ]
  },
  {
   "cell_type": "code",
   "execution_count": null,
   "metadata": {
    "collapsed": false,
    "deletable": true,
    "editable": true
   },
   "outputs": [],
   "source": [
    "df.groupby(by=list(set(df.columns).difference(['beta', 's'])))"
   ]
  },
  {
   "cell_type": "code",
   "execution_count": null,
   "metadata": {
    "collapsed": false,
    "deletable": true,
    "editable": true
   },
   "outputs": [],
   "source": [
    "df = pd.concat([\n",
    "    df_cite_paper_all.set_index(['beta', 's', 'Source'], append=True),\n",
    "    df_cite_test_all.set_index(['beta', 's', 'Source'], append=True),\n",
    "]).sort_index(ascending=[False, False, False, True])\n",
    "display(df)\n",
    "df.to_csv('cite_complete.csv')"
   ]
  },
  {
   "cell_type": "code",
   "execution_count": null,
   "metadata": {
    "collapsed": false,
    "deletable": true,
    "editable": true
   },
   "outputs": [],
   "source": [
    "display(\n",
    "    pd.concat([\n",
    "        df_cite_paper_base,\n",
    "        df_cite_test_base,\n",
    "    ]).set_index(['Source'], append=True)\n",
    ")\n",
    "\n",
    "df_cite_paper_test_merged = pd.concat([\n",
    "    df_cite_paper.set_index(['beta', 's', 'Source'], append=True),\n",
    "    df_cite_test.set_index(['beta', 's', 'Source'], append=True),\n",
    "])\n",
    "df_cite_paper_test_merged.sort_index().sort_index(ascending=[True, False, False, False])"
   ]
  },
  {
   "cell_type": "code",
   "execution_count": null,
   "metadata": {
    "collapsed": false,
    "deletable": true,
    "editable": true
   },
   "outputs": [],
   "source": [
    "import pandas as pd\n",
    "\n",
    "def parse_test_results(experiments):\n",
    "    dfs = []\n",
    "    \n",
    "    map_columns = {\n",
    "        'PRECISION': 'Precision',\n",
    "        'RECALL': 'Recall',\n",
    "        'NDCG': 'NDCG',\n",
    "        'MAP': 'MAP',\n",
    "        'COVERAGE_ITEM': 'I. Cov.',\n",
    "        'DIVERSITY_GINI': 'Gini',\n",
    "        'DIVERSITY_MEAN_INTER_LIST': 'MIL',\n",
    "    }\n",
    "    metrics = list(map_columns.values())\n",
    "    \n",
    "    for experiment in experiments:\n",
    "        df = pd.DataFrame(experiment['metrics']['test'].values())\n",
    "        df.index = [experiment['name']] * len(df)\n",
    "        df['@n'] = experiment['metrics']['test'].keys()\n",
    "        df['a'] = experiment.get('alpha', '-')\n",
    "        df['beta'] = experiment.get('beta', '-')\n",
    "        df['s'] = experiment.get('s', '-')\n",
    "        df['Selected, %'] = experiment.get('%', '-')\n",
    "        columns = list(df.columns[-1:]) + list(df.columns[:-1])\n",
    "        df = df[columns]\n",
    "        df = df.rename(columns=map_columns)\n",
    "        dfs.append(df)\n",
    "    \n",
    "    df = pd.concat(dfs)\n",
    "    df[metrics] = df[metrics].astype(float)\n",
    "    return df\n",
    "\n",
    "def parse_validation_results(experiments):\n",
    "    dfs = []\n",
    "    \n",
    "    map_columns = {\n",
    "        'PRECISION': 'Precision',\n",
    "        'RECALL': 'Recall',\n",
    "        'NDCG': 'NDCG',\n",
    "        'MAP': 'MAP',\n",
    "        'COVERAGE_ITEM': 'I. Cov.',\n",
    "        'DIVERSITY_GINI': 'Gini',\n",
    "        'DIVERSITY_MEAN_INTER_LIST': 'MIL',\n",
    "    }\n",
    "    metrics = list(map_columns.values())\n",
    "    \n",
    "    for experiment in experiments:\n",
    "        df = pd.DataFrame([experiment['metrics']['validation']])\n",
    "        df['a'] = experiment.get('alpha', '-')\n",
    "        df['beta'] = experiment.get('beta', '-')\n",
    "        df['s'] = experiment.get('s', '-')\n",
    "        df['Selected, %'] = experiment.get('%', '-')\n",
    "        columns = list(df.columns[-1:]) + list(df.columns[:-1])\n",
    "        df = df[columns]\n",
    "        df.index = [experiment['name']] * len(df)\n",
    "        map_columns = {\n",
    "            'PRECISION': 'Precision',\n",
    "            'RECALL': 'Recall',\n",
    "            'NDCG': 'NDCG',\n",
    "            'MAP': 'MAP',\n",
    "            'COVERAGE_ITEM': 'I. Cov.',\n",
    "            'DIVERSITY_GINI': 'Gini',\n",
    "            'DIVERSITY_MEAN_INTER_LIST': 'MIL',\n",
    "        }\n",
    "        metrics = list(map_columns.values())\n",
    "        df = df.rename(columns=map_columns)\n",
    "        df[metrics] = df[metrics].astype(float)\n",
    "        dfs.append(df)\n",
    "    \n",
    "    df = pd.concat(dfs)\n",
    "    df[metrics] = df[metrics].astype(float)\n",
    "    return df"
   ]
  },
  {
   "cell_type": "code",
   "execution_count": null,
   "metadata": {
    "collapsed": true,
    "deletable": true,
    "editable": true
   },
   "outputs": [],
   "source": [
    "metrics = ['Precision', 'Recall', 'NDCG', 'MAP', 'I. Cov.', 'Gini', 'MIL']\n",
    "metrics_rel = [metric + ', %' for metric in metrics]"
   ]
  },
  {
   "cell_type": "code",
   "execution_count": null,
   "metadata": {
    "collapsed": false,
    "deletable": true,
    "editable": true
   },
   "outputs": [],
   "source": [
    "parse_validation_results(cite_experiments)"
   ]
  },
  {
   "cell_type": "code",
   "execution_count": null,
   "metadata": {
    "collapsed": false,
    "deletable": true,
    "editable": true
   },
   "outputs": [],
   "source": [
    "df_test = parse_test_results(cite_experiments)"
   ]
  },
  {
   "cell_type": "code",
   "execution_count": null,
   "metadata": {
    "collapsed": false,
    "deletable": true,
    "editable": true
   },
   "outputs": [],
   "source": [
    "df_test"
   ]
  },
  {
   "cell_type": "code",
   "execution_count": null,
   "metadata": {
    "collapsed": false,
    "deletable": true,
    "editable": true
   },
   "outputs": [],
   "source": [
    "df_validation = parse_validation_results(experiments)"
   ]
  },
  {
   "cell_type": "code",
   "execution_count": null,
   "metadata": {
    "collapsed": false,
    "deletable": true,
    "editable": true
   },
   "outputs": [],
   "source": [
    "df_validation.astype(str)"
   ]
  },
  {
   "cell_type": "code",
   "execution_count": null,
   "metadata": {
    "collapsed": false,
    "deletable": true,
    "editable": true
   },
   "outputs": [],
   "source": [
    "df_test[df_test['@n'] == 10].drop(columns=['@n'])"
   ]
  },
  {
   "cell_type": "code",
   "execution_count": null,
   "metadata": {
    "collapsed": false,
    "deletable": true,
    "editable": true
   },
   "outputs": [],
   "source": [
    "df_validation.loc[['ItemKNN CBF', 'CQFSTT 65%', 'Random 65%']]"
   ]
  },
  {
   "cell_type": "code",
   "execution_count": null,
   "metadata": {
    "collapsed": false,
    "deletable": true,
    "editable": true
   },
   "outputs": [],
   "source": [
    "df_test[df_test['@n']==10].loc[['ItemKNN CBF', 'CQFSTT 65%', 'Random 65%']].drop(columns='@n')"
   ]
  },
  {
   "cell_type": "code",
   "execution_count": null,
   "metadata": {
    "collapsed": false,
    "deletable": true,
    "editable": true
   },
   "outputs": [],
   "source": [
    "df_test[df_test['@n'] == 10]"
   ]
  },
  {
   "cell_type": "code",
   "execution_count": null,
   "metadata": {
    "collapsed": false,
    "deletable": true,
    "editable": true
   },
   "outputs": [],
   "source": [
    "np.round(10**np.linspace(-3, -2, 5, endpoint=False)[1:], 5)"
   ]
  },
  {
   "cell_type": "code",
   "execution_count": null,
   "metadata": {
    "collapsed": true,
    "deletable": true,
    "editable": true
   },
   "outputs": [],
   "source": [
    "import scipy as sp\n",
    "import numpy as np\n",
    "from scipy.stats import ortho_group"
   ]
  },
  {
   "cell_type": "code",
   "execution_count": null,
   "metadata": {
    "collapsed": false,
    "deletable": true,
    "editable": true
   },
   "outputs": [],
   "source": [
    "A = np.array([[2,0, 0], [0, 2, 0], [0, 0, -1]])\n",
    "e = np.zeros(3)\n",
    "e[0] = 1.0\n",
    "\n",
    "vals = []\n",
    "for i in range(10000):\n",
    "    er = ortho_group.rvs(3) @ e\n",
    "    vals.append(er.T @ A @ er)"
   ]
  },
  {
   "cell_type": "code",
   "execution_count": null,
   "metadata": {
    "collapsed": false,
    "deletable": true,
    "editable": true
   },
   "outputs": [],
   "source": [
    "import re\n",
    "from ipypb import track\n",
    "import scipy as sp\n",
    "import scipy.sparse\n",
    "from zipfile import ZipFile\n",
    "\n",
    "def get_fpms(dr): \n",
    "    files = [\n",
    "        file\n",
    "        for file in os.listdir(dr)\n",
    "        if re.match('^a\\d+b\\d+$', file)\n",
    "    ]\n",
    "    return {\n",
    "        file: np.load(os.path.join(dr, file, 'FPM.zip'))['FPM']\n",
    "        for file in files\n",
    "    }\n",
    "\n",
    "\n",
    "def get_fpms_ke(dr): \n",
    "    data = []\n",
    "    for file in os.listdir(dr):\n",
    "        match = re.match('^a\\d+b(0*)(\\d+)', file)\n",
    "        if not match:\n",
    "            continue\n",
    "        data.append([file, float(match.group(2)) * 10 ** len(match.group(1))])\n",
    "\n",
    "    dataIO = DataIO(dr)\n",
    "    FPM_K = dataIO.load_data('FPM_K.zip')['FPM_K'].astype(np.float64)\n",
    "    FPM_E = dataIO.load_data('FPM_E.zip')['FPM_E'].astype(np.float64)\n",
    "\n",
    "    return {\n",
    "        file: FPM_K + FPM_E * beta\n",
    "        for file, beta in data\n",
    "    }\n",
    "\n",
    "\n",
    "def get_selections(dr): \n",
    "    files = [\n",
    "        file\n",
    "        for file in os.listdir(dr)\n",
    "        if re.match('^a\\d+b\\d+s\\d+p\\d+$', file)\n",
    "    ]\n",
    "    return {\n",
    "        file: np.load(os.path.join(dr, file, 'cqfs_tt', 'cqfs_tt.zip'))['selection']\n",
    "        for file in files\n",
    "    }\n",
    "\n",
    "\n",
    "def get_selections_from_authors(dr, topology='qpu_pegasus'): \n",
    "    files = [\n",
    "        file\n",
    "        for file in os.listdir(dr)\n",
    "        if re.match('^a\\d+b\\d+s\\d+p\\d+$', file)\n",
    "    ]\n",
    "    return {\n",
    "        file: np.load(os.path.join(dr, file, topology, f'{ topology }.zip'))['selection']\n",
    "        for file in files\n",
    "    }\n",
    "\n",
    "\n",
    "def get_timings(dr): \n",
    "    files = [\n",
    "        file\n",
    "        for file in os.listdir(dr)\n",
    "        if re.match('^a\\d+b\\d+s\\d+p\\d+$', file)\n",
    "    ]\n",
    "    return {\n",
    "        file: float(np.load(os.path.join(dr, file, 'cqfs_tt', 'timings.zip'))['response_time.json'])\n",
    "        for file in files\n",
    "    }\n",
    "\n",
    "\n",
    "def get_bqms_from_authors(dr): \n",
    "    files = [\n",
    "        file\n",
    "        for file in os.listdir(dr)\n",
    "        if re.match('^a\\d+b\\d+s\\d+p\\d+$', file)\n",
    "    ]\n",
    "    return {\n",
    "        file: np.load(os.path.join(dr, file, 'BQM.zip'))['BQM']\n",
    "        for file in files\n",
    "    }\n",
    "\n",
    "\n",
    "def get_fpms_from_authors(dr): \n",
    "    files = [\n",
    "        file\n",
    "        for file in os.listdir(dr)\n",
    "        if re.match('^a\\d+b\\d+s\\d+p\\d+$', file)\n",
    "    ]\n",
    "    ret = {}\n",
    "    for file in files:\n",
    "        path = os.path.join(dr, file, 'FPM.zip')\n",
    "        with ZipFile(path) as fzip:\n",
    "            with fzip.open('FPM.npz') as fin:\n",
    "                ret[file] = sp.sparse.load_npz(fin).todense()\n",
    "    return ret    "
   ]
  },
  {
   "cell_type": "code",
   "execution_count": null,
   "metadata": {
    "collapsed": false,
    "deletable": true,
    "editable": true
   },
   "outputs": [],
   "source": [
    "np.mean(list(get_timings('/mnt/bulky/anikitin/Developer/CQFS/results/XingChallenge2017/ICM_all/ItemKNNCFRecommender/').values()))"
   ]
  },
  {
   "cell_type": "code",
   "execution_count": null,
   "metadata": {
    "collapsed": true,
    "deletable": true,
    "editable": true
   },
   "outputs": [],
   "source": [
    "xing_timings_knn = get_timings(os.path.join(dr_xing_results, 'ItemKNNCFRecommender'))\n",
    "tmd_timings_knn = get_timings(os.path.join(dr_tmd_results, 'ItemKNNCFRecommender'))\n",
    "cite_timings_knn = get_timings(os.path.join(dr_cite_results, 'ItemKNNCFRecommender'))"
   ]
  },
  {
   "cell_type": "code",
   "execution_count": null,
   "metadata": {
    "collapsed": false,
    "deletable": true,
    "editable": true
   },
   "outputs": [],
   "source": [
    "# dr_fpm_knn = os.path.join(dr_results, 'ItemKNNCFRecommender/')\n",
    "# dr_tmd_results_knn = os.path.join(dr_tmd_results, 'ItemKNNCFRecommender/')\n",
    "dr_cite_results_knn = os.path.join(dr_cite_results, 'ItemKNNCFRecommender/')"
   ]
  },
  {
   "cell_type": "code",
   "execution_count": null,
   "metadata": {
    "collapsed": false,
    "deletable": true,
    "editable": true
   },
   "outputs": [],
   "source": []
  },
  {
   "cell_type": "code",
   "execution_count": null,
   "metadata": {
    "collapsed": false,
    "deletable": true,
    "editable": true
   },
   "outputs": [],
   "source": [
    "import tqdm"
   ]
  },
  {
   "cell_type": "code",
   "execution_count": null,
   "metadata": {
    "collapsed": false,
    "deletable": true,
    "editable": true
   },
   "outputs": [],
   "source": [
    "frac_pos = []\n",
    "a = 1\n",
    "bs = np.linspace(0, -6, 100)\n",
    "for val in tqdm.tqdm(bs):\n",
    "    FPM = a * FPM_K + 10 ** val * FPM_E\n",
    "    frac_pos.append(np.sum(FPM[FPM > 0]) / np.sum(np.abs(FPM)))\n",
    "frac_pos = np.array(frac_pos)"
   ]
  },
  {
   "cell_type": "code",
   "execution_count": null,
   "metadata": {
    "collapsed": false,
    "deletable": true,
    "editable": true
   },
   "outputs": [],
   "source": [
    "FPM = a * FPM_K + 0 * FPM_E"
   ]
  },
  {
   "cell_type": "code",
   "execution_count": null,
   "metadata": {
    "collapsed": false,
    "deletable": true,
    "editable": true
   },
   "outputs": [],
   "source": [
    "np.sum(FPM > 0) / np.sum(FPM != 0), np.sum(FPM < 0) / np.sum(FPM != 0), "
   ]
  },
  {
   "cell_type": "code",
   "execution_count": null,
   "metadata": {
    "collapsed": false,
    "deletable": true,
    "editable": true
   },
   "outputs": [],
   "source": [
    "plt.plot(10**bs, frac_pos)\n",
    "plt.title('IPM = K + bE', fontsize=14)\n",
    "plt.ylabel('sum(pos) / sum(abs(all))', fontsize=14)\n",
    "plt.xlabel('b', fontsize=14)\n",
    "plt.xscale('log')\n",
    "plt.show()"
   ]
  },
  {
   "cell_type": "code",
   "execution_count": null,
   "metadata": {
    "collapsed": true,
    "deletable": true,
    "editable": true
   },
   "outputs": [],
   "source": [
    "dr_authors = os.path.join(dr_results, '../from_authors')"
   ]
  },
  {
   "cell_type": "code",
   "execution_count": null,
   "metadata": {
    "collapsed": false,
    "deletable": true,
    "editable": true
   },
   "outputs": [],
   "source": [
    "bqms_from_authors = get_bqms_from_authors(dr_authors)\n",
    "selections_from_authors = get_selections_from_authors(dr_authors)"
   ]
  },
  {
   "cell_type": "code",
   "execution_count": null,
   "metadata": {
    "collapsed": false,
    "deletable": true,
    "editable": true
   },
   "outputs": [],
   "source": [
    "np.sum(fpms_knn['a1b0001'] > 0) / len(fpms_knn['a1b0001'])**2"
   ]
  },
  {
   "cell_type": "code",
   "execution_count": null,
   "metadata": {
    "collapsed": true,
    "deletable": true,
    "editable": true
   },
   "outputs": [],
   "source": [
    "bqm_authors_k = bqms_from_authors['a1b0001s1000p040']\n",
    "fpm_ours = fpms_knn['a1b0001']"
   ]
  },
  {
   "cell_type": "code",
   "execution_count": null,
   "metadata": {
    "collapsed": true,
    "deletable": true,
    "editable": true
   },
   "outputs": [],
   "source": [
    "def reldiffnorm(x1, x2):\n",
    "    return np.linalg.norm(x1-x2) / np.linalg.norm(x1)\n",
    "\n",
    "def bqm_from_fpm(fpm, *, k, s):\n",
    "    F = len(fpm)\n",
    "    fpm_diag = np.diag(np.diag(fpm))\n",
    "    fpm_other = fpm - fpm_diag\n",
    "    bqm = fpm_diag + np.triu(fpm_other + fpm_other.T)\n",
    "    bqm = bqm - 2 * k * s * np.eye(F) + s * (2 * np.triu(np.ones((F, F))) - np.eye(F))\n",
    "    inv_scalar = max(-bqm.min(), bqm.max())\n",
    "    bqm /= inv_scalar\n",
    "    return bqm"
   ]
  },
  {
   "cell_type": "code",
   "execution_count": null,
   "metadata": {
    "collapsed": false,
    "deletable": true,
    "editable": true
   },
   "outputs": [],
   "source": [
    "import dimod\n",
    "p = 0.4\n",
    "s = 1000\n",
    "vartype = 'BINARY'\n",
    "\n",
    "fpm = fpms_knn['a1b0001']\n",
    "F = len(fpm)\n",
    "k = p * F\n",
    "\n",
    "fpm_dimod = dimod.as_bqm(fpm, vartype)\n",
    "bqm_dimod = dimod.generators.combinations(F, k=k, strength=s, vartype=vartype)\n",
    "bqm_dimod = dimod.AdjVectorBQM(bqm_dimod)\n",
    "bqm_dimod.update(fpm_dimod)\n",
    "bqm_dimod.normalize()\n",
    "\n",
    "bqm = bqm_from_fpm(fpm, k=k, s=s)\n",
    "\n",
    "assert np.isclose(bqm, bqm_dimod.to_numpy_matrix()).all()"
   ]
  },
  {
   "cell_type": "code",
   "execution_count": null,
   "metadata": {
    "collapsed": false,
    "deletable": true,
    "editable": true
   },
   "outputs": [],
   "source": [
    "np.linalg.norm(fpms_knn['a1b0001']), np.linalg.norm(fpms_from_authors['a1b0001s1000p040'])"
   ]
  },
  {
   "cell_type": "code",
   "execution_count": null,
   "metadata": {
    "collapsed": false,
    "deletable": true,
    "editable": true
   },
   "outputs": [],
   "source": [
    "{\n",
    "    k: np.sum(v > 0) / (len(v) ** 2) * 100\n",
    "    for k,v in bqms_from_authors.items()\n",
    "}"
   ]
  },
  {
   "cell_type": "code",
   "execution_count": null,
   "metadata": {
    "collapsed": false,
    "deletable": true,
    "editable": true
   },
   "outputs": [],
   "source": [
    "np.sum(fpms_from_authors['a1b0001s1000p040'] > 0) / fpms_from_authors['a1b0001s1000p040'].shape[0] ** 2"
   ]
  },
  {
   "cell_type": "code",
   "execution_count": null,
   "metadata": {
    "collapsed": true,
    "deletable": true,
    "editable": true
   },
   "outputs": [],
   "source": [
    "np.sum(fpms_from_authors['a1b0001s1000p040'] > 0) / fpms_from_authors['a1b0001s1000p040'].shape[0] ** 2"
   ]
  },
  {
   "cell_type": "code",
   "execution_count": null,
   "metadata": {
    "collapsed": false,
    "deletable": true,
    "editable": true
   },
   "outputs": [],
   "source": [
    "fpms_from_authors"
   ]
  },
  {
   "cell_type": "code",
   "execution_count": null,
   "metadata": {
    "collapsed": false,
    "deletable": true,
    "editable": true
   },
   "outputs": [],
   "source": [
    "{\n",
    "    k: int((sum(v) / len(v)) * 100)\n",
    "    for k,v in selections_from_authors.items()\n",
    "}"
   ]
  },
  {
   "cell_type": "code",
   "execution_count": null,
   "metadata": {
    "collapsed": false,
    "deletable": true,
    "editable": true
   },
   "outputs": [],
   "source": [
    "dr_fpm_knn = os.path.join(dr_results, 'ItemKNNCFRecommender/')\n",
    "dr_tmd_results_knn = os.path.join(dr_tmd_results, 'ItemKNNCFRecommender/')"
   ]
  },
  {
   "cell_type": "code",
   "execution_count": null,
   "metadata": {
    "collapsed": false,
    "deletable": true,
    "editable": true
   },
   "outputs": [],
   "source": [
    "dr_tmd_results_knn"
   ]
  },
  {
   "cell_type": "code",
   "execution_count": null,
   "metadata": {
    "collapsed": false,
    "deletable": true,
    "editable": true
   },
   "outputs": [],
   "source": [
    "fpms_knn = get_fpms(dr_fpm_knn)"
   ]
  },
  {
   "cell_type": "code",
   "execution_count": null,
   "metadata": {
    "collapsed": false,
    "deletable": true,
    "editable": true
   },
   "outputs": [],
   "source": [
    "pos_real = []\n",
    "neg_real = []\n",
    "pos_imag = []\n",
    "neg_imag =[]\n",
    "for fpm in fpms_knn:\n",
    "    eigs = np.linalg.eigvals(fpm)\n",
    "\n",
    "    signs = np.sign(eigs.real)\n",
    "    pos_real.append(np.sum(signs[signs == 1]))\n",
    "    neg_real.append(-np.sum(signs[signs == -1]))\n",
    "\n",
    "    signs = np.sign(eigs.imag)\n",
    "    pos_imag.append(np.sum(signs[signs == 1]))\n",
    "    neg_imag.append(-np.sum(signs[signs == -1]))\n",
    "\n",
    "plt.plot(pos_real, '-o', color='orange')\n",
    "plt.plot(neg_real, '-o', color='blue')\n",
    "plt.show()"
   ]
  },
  {
   "cell_type": "code",
   "execution_count": null,
   "metadata": {
    "collapsed": true,
    "deletable": true,
    "editable": true
   },
   "outputs": [],
   "source": [
    "df_paper = pd.read_csv('paper.csv', index_col=0)"
   ]
  },
  {
   "cell_type": "code",
   "execution_count": null,
   "metadata": {
    "collapsed": false,
    "deletable": true,
    "editable": true,
    "scrolled": true
   },
   "outputs": [],
   "source": [
    "df_paper"
   ]
  },
  {
   "cell_type": "code",
   "execution_count": null,
   "metadata": {
    "collapsed": false,
    "deletable": true,
    "editable": true
   },
   "outputs": [],
   "source": [
    "df_validation"
   ]
  },
  {
   "cell_type": "code",
   "execution_count": null,
   "metadata": {
    "collapsed": false,
    "deletable": true,
    "editable": true
   },
   "outputs": [],
   "source": [
    "df_test[df_test['@n'] == 10]"
   ]
  },
  {
   "cell_type": "code",
   "execution_count": null,
   "metadata": {
    "collapsed": false,
    "deletable": true,
    "editable": true
   },
   "outputs": [],
   "source": [
    "df_test[df_test['@n'] == 10][metrics] - df_paper"
   ]
  },
  {
   "cell_type": "code",
   "execution_count": null,
   "metadata": {
    "collapsed": false,
    "deletable": true,
    "editable": true
   },
   "outputs": [],
   "source": [
    "selections['a1b000206s0p000']"
   ]
  },
  {
   "cell_type": "code",
   "execution_count": null,
   "metadata": {
    "collapsed": false,
    "deletable": true,
    "editable": true
   },
   "outputs": [],
   "source": [
    "f'{12:03d}'"
   ]
  },
  {
   "cell_type": "code",
   "execution_count": null,
   "metadata": {
    "collapsed": false,
    "deletable": true,
    "editable": true
   },
   "outputs": [],
   "source": []
  },
  {
   "cell_type": "code",
   "execution_count": null,
   "metadata": {
    "collapsed": false,
    "deletable": true,
    "editable": true
   },
   "outputs": [],
   "source": [
    "selections = get_selections(dr_fpm_knn)\n",
    "\n",
    "for beta in [0.00206, 0.00231, 0.00292, 0.00334]:\n",
    "    beta = str(beta).replace('.', '')\n",
    "    count = sum(selections[f'a1b{beta}s0p000'])\n",
    "    p = int(np.round(count * 100 / len(FPM)))\n",
    "    selection_data_io = DataIO(\n",
    "        os.path.join(dr_fpm_knn, f'a1b{beta}s0p{p:03d}', 'cqfs_tt/')\n",
    "    )\n",
    "    \n",
    "    selection_random = np.zeros(len(FPM), dtype=bool)\n",
    "    selection_random[np.random.choice(len(FPM), count, replace=False)] = True\n",
    "    selection_data_io.save_data('cqfs_tt', {'selection': selection_random})\n",
    "\n",
    "    new_selections = get_selections(dr_fpm_knn)\n",
    "    assert all(new_selections[f'a1b{beta}s0p{p:03d}'] == selection_random)"
   ]
  },
  {
   "cell_type": "code",
   "execution_count": null,
   "metadata": {
    "collapsed": false,
    "deletable": true,
    "editable": true
   },
   "outputs": [],
   "source": [
    "sum(selections_knn['a1b000251s0p065'])"
   ]
  },
  {
   "cell_type": "code",
   "execution_count": null,
   "metadata": {
    "collapsed": false,
    "deletable": true,
    "editable": true
   },
   "outputs": [],
   "source": [
    "sum(selections_knn['a1b000251s0p000']) / len(FPM) * 100"
   ]
  },
  {
   "cell_type": "code",
   "execution_count": null,
   "metadata": {
    "collapsed": false,
    "deletable": true,
    "editable": true
   },
   "outputs": [],
   "source": [
    "import tntorch as tn\n",
    "import torch\n",
    "import operator\n",
    "torch.set_default_dtype(torch.float64)\n",
    "DTYPE = torch.float64\n",
    "DEVICE = torch.device('cpu')\n",
    "\n",
    "\n",
    "class CQFSTTSampler:\n",
    "    _tol: float\n",
    "\n",
    "    def __init__(self, tol: float = 1e-4):\n",
    "        self._tol = tol\n",
    "\n",
    "    def _optimize(self, W, s, k, eps=1e-6):\n",
    "        N = W.shape[0]\n",
    "        assert W.shape[1] == N\n",
    "\n",
    "        # First term: x @ W @ x^T\n",
    "        ts = []\n",
    "        for n in range(N):\n",
    "            c = torch.zeros([1, 2, 1], dtype=DTYPE)\n",
    "            c[0, 1, 0] = 1\n",
    "            t = tn.Tensor([c])[:, None]\n",
    "            t.cores[1] = t.cores[1].repeat(1, N, 1)\n",
    "            t.cores[1][:, :n, :] = 0\n",
    "            t.cores[1][:, n + 1:, :] = 0\n",
    "            t = tn.unsqueeze(t, list(range(n)) + list(range(n + 1, N)))\n",
    "            t = t.repeat(*[2] * n, 1, *[2] * (N - n - 1), 1)\n",
    "            ts.append(t)\n",
    "        t = sum(ts)\n",
    "        ts = []\n",
    "        for n in range(N):\n",
    "            trow = t.clone()\n",
    "            trow.cores[-1] = torch.einsum('ijl,jk->ikl', trow.cores[-1], W[:, n:n + 1])\n",
    "            ts.append(trow)\n",
    "        term1 = tn.reduce(ts, operator.add, eps=eps)[..., 0]\n",
    "\n",
    "        # Second term\n",
    "        c = torch.eye(2, 2, dtype=DTYPE)[:, None, :].repeat(1, 2, 1)\n",
    "        c[1, 0, 0] = (-k) ** 2\n",
    "        c[1, 1, 0] = (1 - k) ** 2\n",
    "        xs = tn.Tensor([c[-1:, :, :]] + [c] * (N - 2) + [c[:, :, 0:1]])\n",
    "        term2 = s * tn.round_tt(xs, eps=eps)\n",
    "\n",
    "        # Minimize tensor\n",
    "        target = tn.round_tt(term1 + term2, eps=eps)\n",
    "        return tn.argmin(target, rmax=40, max_iter=10, verbose=True)\n",
    "\n",
    "    def sample(self, *, FPM, s, k):\n",
    "        FPM = torch.tensor(FPM, dtype=DTYPE)\n",
    "        f = self._optimize(FPM, s, k)\n",
    "        return {\n",
    "            i: f[i]\n",
    "            for i in range(len(f))\n",
    "        }"
   ]
  },
  {
   "cell_type": "code",
   "execution_count": null,
   "metadata": {
    "collapsed": true,
    "deletable": true,
    "editable": true
   },
   "outputs": [],
   "source": [
    "sampler = CQFSTTSampler()"
   ]
  },
  {
   "cell_type": "code",
   "execution_count": null,
   "metadata": {
    "collapsed": true,
    "deletable": true,
    "editable": true
   },
   "outputs": [],
   "source": [
    "percentages = [40, 60, 80, 95]\n",
    "alphas = [1]\n",
    "# betas = [1, 1e-1, 1e-2, 1e-3, 1e-4]\n",
    "betas = [0.00257]\n",
    "combination_strengths = [1, 10, 100, 1000, 10000]"
   ]
  },
  {
   "cell_type": "code",
   "execution_count": null,
   "metadata": {
    "collapsed": true,
    "deletable": true,
    "editable": true
   },
   "outputs": [],
   "source": [
    "selection = {0: 1, 1: 1, 2: 0, 3: 1, 4: 0, 5: 1, 6: 1, 7: 1, 8: 1, 9: 1, 10: 0, 11: 0, 12: 0, 13: 0, 14: 1, 15: 1, 16: 1, 17: 0, 18: 1, 19: 1, 20: 0, 21: 0, 22: 1, 23: 1, 24: 0, 25: 1, 26: 0, 27: 1, 28: 1, 29: 0, 30: 1, 31: 1, 32: 1, 33: 1, 34: 0, 35: 1, 36: 1, 37: 0, 38: 1, 39: 1, 40: 1, 41: 0, 42: 1, 43: 0, 44: 0, 45: 1, 46: 1, 47: 1, 48: 1, 49: 0, 50: 1, 51: 0, 52: 1, 53: 0, 54: 0, 55: 0, 56: 0, 57: 1, 58: 0, 59: 0, 60: 0, 61: 1, 62: 0, 63: 1, 64: 1, 65: 1, 66: 1, 67: 0, 68: 0, 69: 1, 70: 1, 71: 1, 72: 0, 73: 0, 74: 1, 75: 1, 76: 1, 77: 1, 78: 1}"
   ]
  },
  {
   "cell_type": "code",
   "execution_count": null,
   "metadata": {
    "collapsed": false,
    "deletable": true,
    "editable": true
   },
   "outputs": [],
   "source": [
    "from itertools import product\n",
    "\n",
    "results = {}\n",
    "for p, a, b, s in product(percentages, alphas, betas, combination_strengths):\n",
    "    k = p * len(fpm) / 100\n",
    "    key = 'a%sb%s' % (a, str(b).replace('.', ''))\n",
    "    FPM = a * FPM_K + b * FPM_E\n",
    "#     FPM = fpms_knn[key]\n",
    "    selection = sampler.sample(FPM=FPM, s=s, k=k)\n",
    "    results[(p, a, b, s)] = selection\n",
    "    print(selection)"
   ]
  },
  {
   "cell_type": "code",
   "execution_count": null,
   "metadata": {
    "collapsed": false,
    "deletable": true,
    "editable": true
   },
   "outputs": [],
   "source": [
    "np.linalg.eig(fpms_knn['a1b1'])"
   ]
  },
  {
   "cell_type": "code",
   "execution_count": null,
   "metadata": {
    "collapsed": false,
    "deletable": true,
    "editable": true
   },
   "outputs": [],
   "source": [
    "r = np.random.randint(0, 2, size=len(fpms_knn['a1b1']))\n",
    "r.T.dot(fpms_knn['a1b1']).dot(r)"
   ]
  },
  {
   "cell_type": "code",
   "execution_count": null,
   "metadata": {
    "collapsed": false,
    "deletable": true,
    "editable": true
   },
   "outputs": [],
   "source": [
    "eigs = np.linalg.eig(fpms_knn['a1b1'])[0]"
   ]
  },
  {
   "cell_type": "code",
   "execution_count": null,
   "metadata": {
    "collapsed": false,
    "deletable": true,
    "editable": true
   },
   "outputs": [],
   "source": [
    "plt.plot(np.linalg.svd(fpms_knn['a1b1'])[1])"
   ]
  },
  {
   "cell_type": "code",
   "execution_count": null,
   "metadata": {
    "collapsed": false,
    "deletable": true,
    "editable": true
   },
   "outputs": [],
   "source": [
    "eigs.real.round(3)"
   ]
  },
  {
   "cell_type": "code",
   "execution_count": null,
   "metadata": {
    "collapsed": false,
    "deletable": true,
    "editable": true
   },
   "outputs": [],
   "source": [
    "plt.plot(np.linalg.eig(fpms_knn['a1b1'])[0])"
   ]
  },
  {
   "cell_type": "code",
   "execution_count": null,
   "metadata": {
    "collapsed": false,
    "deletable": true,
    "editable": true
   },
   "outputs": [],
   "source": [
    "sampler.sample(FPM=fpms_knn['a1b1'], s=0, k=0)"
   ]
  },
  {
   "cell_type": "code",
   "execution_count": null,
   "metadata": {
    "collapsed": false,
    "deletable": true,
    "editable": true
   },
   "outputs": [],
   "source": [
    "import tntorch as tn\n",
    "import torch\n",
    "import operator\n",
    "torch.set_default_dtype(torch.float64)\n",
    "DTYPE = torch.float64"
   ]
  },
  {
   "cell_type": "code",
   "execution_count": null,
   "metadata": {
    "collapsed": true,
    "deletable": true,
    "editable": true
   },
   "outputs": [],
   "source": [
    "def optimize(W, eps=1e-6):\n",
    "    N = W.shape[0]\n",
    "    assert W.shape[1] == N\n",
    "\n",
    "    # First term: x @ W @ x^T\n",
    "    ts = []\n",
    "    for n in range(N):\n",
    "        c = torch.zeros([1, 2, 1])\n",
    "        c[0, 1, 0] = 1\n",
    "        t = tn.Tensor([c])[:, None]\n",
    "        t.cores[1] = t.cores[1].repeat(1, N, 1)\n",
    "        t.cores[1][:, :n, :] = 0\n",
    "        t.cores[1][:, n + 1:, :] = 0\n",
    "        t = tn.unsqueeze(t, list(range(n)) + list(range(n + 1, N)))\n",
    "        t = t.repeat(*[2] * n, 1, *[2] * (N - n - 1), 1)\n",
    "        ts.append(t)\n",
    "    t = sum(ts)\n",
    "    ts = []\n",
    "    for n in range(N):\n",
    "        trow = t.clone()\n",
    "        trow.cores[-1] = torch.einsum('ijl,jk->ikl', trow.cores[-1], W[:, n:n+1])\n",
    "        ts.append(trow)\n",
    "    term1 = tn.reduce(ts, operator.add, eps=eps)[..., 0]\n",
    "    \n",
    "    # Minimize tensor\n",
    "    target = tn.round_tt(term1, eps=eps)\n",
    "    return tn.argmin(target, rmax=100, verbose=True)"
   ]
  },
  {
   "cell_type": "code",
   "execution_count": null,
   "metadata": {
    "collapsed": false,
    "deletable": true,
    "editable": true
   },
   "outputs": [],
   "source": [
    "FPM = FPM_K + 1e-4 * FPM_E\n",
    "BQM = bqm_from_fpm(FPM, k=0.6 * len(FPM), s=1e2)"
   ]
  },
  {
   "cell_type": "code",
   "execution_count": null,
   "metadata": {
    "collapsed": false,
    "deletable": true,
    "editable": true
   },
   "outputs": [],
   "source": [
    "plt.plot(s_E)\n",
    "plt.yscale('log')\n",
    "plt.show()"
   ]
  },
  {
   "cell_type": "code",
   "execution_count": null,
   "metadata": {
    "collapsed": false,
    "deletable": true,
    "editable": true
   },
   "outputs": [],
   "source": [
    "plt.plot(s_K)\n",
    "plt.yscale('log')\n",
    "plt.show()"
   ]
  },
  {
   "cell_type": "code",
   "execution_count": null,
   "metadata": {
    "collapsed": false,
    "deletable": true,
    "editable": true
   },
   "outputs": [],
   "source": [
    "s[0]/s[-10]"
   ]
  },
  {
   "cell_type": "code",
   "execution_count": null,
   "metadata": {
    "collapsed": false,
    "deletable": true,
    "editable": true
   },
   "outputs": [],
   "source": [
    "plt.plot(s)\n",
    "# plt.xlim([-10, 100])\n",
    "plt.show()"
   ]
  },
  {
   "cell_type": "code",
   "execution_count": null,
   "metadata": {
    "collapsed": false,
    "deletable": true,
    "editable": true
   },
   "outputs": [],
   "source": [
    "selection = optimize(torch.Tensor(BQM))"
   ]
  },
  {
   "cell_type": "code",
   "execution_count": null,
   "metadata": {
    "collapsed": false,
    "deletable": true,
    "editable": true
   },
   "outputs": [],
   "source": [
    "t.to(device=DEVICE).cores"
   ]
  },
  {
   "cell_type": "code",
   "execution_count": null,
   "metadata": {
    "collapsed": true,
    "deletable": true,
    "editable": true
   },
   "outputs": [],
   "source": [
    "ns = [10, 20, 30, 50, 100, 150, 200, 250, 300, 350, 400, 450, 500]\n",
    "A = torch.randn(ns[-1], ns[-1])"
   ]
  },
  {
   "cell_type": "code",
   "execution_count": null,
   "metadata": {
    "collapsed": false,
    "deletable": true,
    "editable": true
   },
   "outputs": [],
   "source": [
    "from time import monotonic\n",
    "\n",
    "times = []\n",
    "for n in track(ns):\n",
    "    t = -monotonic()\n",
    "    optimize(A[:n, :n], 0, 0)\n",
    "    t += monotonic()\n",
    "    print(f'{n}: {t/60:.2f} minutes elapsed' )\n",
    "    times.append(t)"
   ]
  },
  {
   "cell_type": "code",
   "execution_count": null,
   "metadata": {
    "collapsed": true,
    "deletable": true,
    "editable": true
   },
   "outputs": [],
   "source": [
    "r1 = np.random.randn(20)\n",
    "r2 = np.random.randn(20)\n",
    "r1[0] = 1e5\n",
    "r2[0] = 1e5\n",
    "A = np.outer(r1, r2) + 1e-3 * np.random.randn(20, 20)"
   ]
  },
  {
   "cell_type": "code",
   "execution_count": null,
   "metadata": {
    "collapsed": false,
    "deletable": true,
    "editable": true
   },
   "outputs": [],
   "source": [
    "A = torch.tensor(A, dtype=torch.float64)"
   ]
  },
  {
   "cell_type": "code",
   "execution_count": null,
   "metadata": {
    "collapsed": false,
    "deletable": true,
    "editable": true
   },
   "outputs": [],
   "source": [
    "optimize(A, 0, 0)"
   ]
  },
  {
   "cell_type": "code",
   "execution_count": null,
   "metadata": {
    "collapsed": false,
    "deletable": true,
    "editable": true
   },
   "outputs": [],
   "source": [
    "for key, fpm in sorted(fpms_knn.items(), key=lambda x: x[0], reverse=True):\n",
    "    print(key + ':', np.sum(fpm > 0) / fpm.size)"
   ]
  },
  {
   "cell_type": "code",
   "execution_count": null,
   "metadata": {
    "collapsed": false,
    "deletable": true,
    "editable": true
   },
   "outputs": [],
   "source": [
    "from data.DataLoader import TheMoviesDatasetLoader, TheMoviesDatasetReader, CiteULike_aLoader, CiteULike_aReader\n",
    "from recsys.Data_manager.DataSplitter_Cold_items import DataSplitter_Cold_items\n",
    "from recsys.Base.DataIO import DataIO\n",
    "\n",
    "data_loader = CiteULike_aLoader()\n",
    "data_loader.load_data()\n",
    "\n",
    "ICM_cite = data_loader.get_ICM_train_from_name('ICM_title_abstract')"
   ]
  },
  {
   "cell_type": "code",
   "execution_count": null,
   "metadata": {
    "collapsed": false,
    "deletable": true,
    "editable": true
   },
   "outputs": [],
   "source": [
    "dataIO = DataIO(dr_cite_results_from_authors + '/')\n",
    "K_cite = dataIO.load_data('K.zip')['K'].astype(np.float64)\n",
    "E_cite = dataIO.load_data('E.zip')['E'].astype(np.float64)"
   ]
  },
  {
   "cell_type": "code",
   "execution_count": null,
   "metadata": {
    "collapsed": true,
    "deletable": true,
    "editable": true
   },
   "outputs": [],
   "source": [
    "FPM_K_cite = ICM.T @ K_cite @ ICM\n",
    "FPM_E_cite = ICM.T @ E_cite @ ICM"
   ]
  },
  {
   "cell_type": "code",
   "execution_count": null,
   "metadata": {
    "collapsed": true,
    "deletable": true,
    "editable": true
   },
   "outputs": [],
   "source": [
    "dataIO.save_data('FPM_K', {'FPM_K': FPM_K_cite.todense()})\n",
    "dataIO.save_data('FPM_E', {'FPM_E': FPM_E_cite.todense()})"
   ]
  },
  {
   "cell_type": "code",
   "execution_count": null,
   "metadata": {
    "collapsed": false,
    "deletable": true,
    "editable": true
   },
   "outputs": [],
   "source": [
    "from data.DataLoader import XingChallenge2017Loader\n",
    "data_loader = XingChallenge2017Loader()\n",
    "data_loader.load_data()\n",
    "\n",
    "ICM = data_loader.get_ICM_train_from_name('ICM_all').astype(np.float64)"
   ]
  },
  {
   "cell_type": "code",
   "execution_count": null,
   "metadata": {
    "collapsed": false,
    "deletable": true,
    "editable": true
   },
   "outputs": [],
   "source": [
    "from recsys.Base.DataIO import DataIO\n",
    "base_folder_path = \"results/XingChallenge2017/ICM_all/ItemKNNCFRecommender/\""
   ]
  },
  {
   "cell_type": "code",
   "execution_count": null,
   "metadata": {
    "collapsed": true,
    "deletable": true,
    "editable": true
   },
   "outputs": [],
   "source": [
    "\n",
    "dataIO = DataIO(base_folder_path)"
   ]
  },
  {
   "cell_type": "code",
   "execution_count": null,
   "metadata": {
    "collapsed": true,
    "deletable": true,
    "editable": true
   },
   "outputs": [],
   "source": [
    "FPM_K = dataIO.load_data('FPM_K.zip')['FPM_K'].astype(np.float64)\n",
    "FPM_E = dataIO.load_data('FPM_E.zip')['FPM_E'].astype(np.float64)"
   ]
  },
  {
   "cell_type": "code",
   "execution_count": null,
   "metadata": {
    "collapsed": false,
    "deletable": true,
    "editable": true
   },
   "outputs": [],
   "source": [
    "K = dataIO.load_data('K.zip')['K'].astype(np.float64)\n",
    "E = dataIO.load_data('E.zip')['E'].astype(np.float64)"
   ]
  },
  {
   "cell_type": "code",
   "execution_count": null,
   "metadata": {
    "collapsed": false,
    "deletable": true,
    "editable": true
   },
   "outputs": [],
   "source": [
    "K.nnz, E.nnz, K.nnz / E.nnz"
   ]
  },
  {
   "cell_type": "code",
   "execution_count": null,
   "metadata": {
    "collapsed": false,
    "deletable": true,
    "editable": true
   },
   "outputs": [],
   "source": [
    "K.dtype, E.dtype, ICM.dtype"
   ]
  },
  {
   "cell_type": "code",
   "execution_count": null,
   "metadata": {
    "collapsed": true,
    "deletable": true,
    "editable": true
   },
   "outputs": [],
   "source": [
    "a = 1\n",
    "b = np.round(K.nnz / E.nnz, 3)"
   ]
  },
  {
   "cell_type": "code",
   "execution_count": null,
   "metadata": {
    "collapsed": true,
    "deletable": true,
    "editable": true
   },
   "outputs": [],
   "source": [
    "IPM = K + E\n",
    "IPM.eliminate_zeros()\n",
    "IFPM = IPM * ICM\n",
    "FPM_paper = ICM.T * IFPM\n",
    "FPM_paper.eliminate_zeros()"
   ]
  },
  {
   "cell_type": "code",
   "execution_count": null,
   "metadata": {
    "collapsed": true,
    "deletable": true,
    "editable": true
   },
   "outputs": [],
   "source": [
    "FPM_paper_dense = np.array(FPM_paper.todense())"
   ]
  },
  {
   "cell_type": "code",
   "execution_count": null,
   "metadata": {
    "collapsed": false,
    "deletable": true,
    "editable": true
   },
   "outputs": [],
   "source": [
    "FPM_K = ICM.T @ (K @ ICM)\n",
    "FPM_E = ICM.T @ (E @ ICM)\n",
    "\n",
    "FPM_K = np.array(FPM_K.todense())\n",
    "FPM_E = np.array(FPM_E.todense())"
   ]
  },
  {
   "cell_type": "code",
   "execution_count": null,
   "metadata": {
    "collapsed": false,
    "deletable": true,
    "editable": true
   },
   "outputs": [],
   "source": [
    "K.nnz"
   ]
  },
  {
   "cell_type": "code",
   "execution_count": null,
   "metadata": {
    "collapsed": false,
    "deletable": true,
    "editable": true
   },
   "outputs": [],
   "source": [
    "E.nnz / E.shape[0]**2 * 100"
   ]
  },
  {
   "cell_type": "code",
   "execution_count": null,
   "metadata": {
    "collapsed": false,
    "deletable": true,
    "editable": true
   },
   "outputs": [],
   "source": [
    "K.nnz / K.shape[0]**2 * 100"
   ]
  },
  {
   "cell_type": "code",
   "execution_count": null,
   "metadata": {
    "collapsed": false,
    "deletable": true,
    "editable": true
   },
   "outputs": [],
   "source": [
    "E.size * 4 / 1024 / 1024 / 1024"
   ]
  },
  {
   "cell_type": "code",
   "execution_count": null,
   "metadata": {
    "collapsed": false,
    "deletable": true,
    "editable": true
   },
   "outputs": [],
   "source": [
    "FPM_KE = 1.0 * FPM_K + 1.0 * FPM_E"
   ]
  },
  {
   "cell_type": "code",
   "execution_count": null,
   "metadata": {
    "collapsed": false,
    "deletable": true,
    "editable": true
   },
   "outputs": [],
   "source": [
    "FPM = fpms_knn['a1b1']"
   ]
  },
  {
   "cell_type": "code",
   "execution_count": null,
   "metadata": {
    "collapsed": true,
    "deletable": true,
    "editable": true
   },
   "outputs": [],
   "source": [
    "FPM = a * FPM_K + b * FPM_E"
   ]
  },
  {
   "cell_type": "code",
   "execution_count": null,
   "metadata": {
    "collapsed": false,
    "deletable": true,
    "editable": true
   },
   "outputs": [],
   "source": [
    "import matplotlib.pyplot as plt"
   ]
  },
  {
   "cell_type": "code",
   "execution_count": null,
   "metadata": {
    "collapsed": false,
    "deletable": true,
    "editable": true
   },
   "outputs": [],
   "source": [
    "FPM = a * FPM_K + 10 ** bs[-1] * FPM_E"
   ]
  },
  {
   "cell_type": "code",
   "execution_count": null,
   "metadata": {
    "collapsed": false,
    "deletable": true,
    "editable": true
   },
   "outputs": [],
   "source": [
    "np.sum(FPM > 0)"
   ]
  },
  {
   "cell_type": "code",
   "execution_count": null,
   "metadata": {
    "collapsed": false,
    "deletable": true,
    "editable": true
   },
   "outputs": [],
   "source": [
    "for key, fpm in sorted(fpms_knn.items(), key=lambda x: x[0], reverse=True):\n",
    "    print(key + ':', np.sum(fpm > 0) / fpm.size)"
   ]
  },
  {
   "cell_type": "code",
   "execution_count": null,
   "metadata": {
    "collapsed": false,
    "deletable": true,
    "editable": true
   },
   "outputs": [],
   "source": [
    "np.sum(FPM_paper > 0) / FPM_paper.size"
   ]
  },
  {
   "cell_type": "code",
   "execution_count": null,
   "metadata": {
    "collapsed": false,
    "deletable": true,
    "editable": true
   },
   "outputs": [],
   "source": [
    "for b in [1, 1e-1, 1e-2, 1e-3, 1e-4]:\n",
    "    FPM = a * FPM_K + b * FPM_E\n",
    "    print(np.sum(FPM > 0) / FPM.size)"
   ]
  },
  {
   "cell_type": "code",
   "execution_count": null,
   "metadata": {
    "collapsed": true,
    "deletable": true,
    "editable": true
   },
   "outputs": [],
   "source": [
    "plt.rcParams['text.usetex'] = False"
   ]
  },
  {
   "cell_type": "code",
   "execution_count": null,
   "metadata": {
    "collapsed": false,
    "deletable": true,
    "editable": true
   },
   "outputs": [],
   "source": [
    "frac_pos = []\n",
    "a = 1\n",
    "bs = np.linspace(0, -4, 10000)\n",
    "for val in bs:\n",
    "    FPM = a * FPM_K + 10 ** val * FPM_E\n",
    "    frac_pos.append(np.sum(FPM > 0) / FPM.shape[0] / FPM.shape[1])\n",
    "frac_pos = np.array(frac_pos)\n",
    "    \n",
    "plt.plot(10**bs, frac_pos)\n",
    "plt.title('IPM = K + bE', fontsize=14)\n",
    "plt.ylabel('Fraction of positive entries', fontsize=14)\n",
    "plt.xlabel('b', fontsize=14)\n",
    "plt.xscale('log')\n",
    "plt.show()"
   ]
  },
  {
   "cell_type": "code",
   "execution_count": null,
   "metadata": {
    "collapsed": false,
    "deletable": true,
    "editable": true
   },
   "outputs": [],
   "source": [
    "betas_fraction = [\n",
    "    10**bs[np.argmin(np.abs(frac_pos - 0.3))],\n",
    "    10**bs[np.argmin(np.abs(frac_pos - 0.4))],\n",
    "#     10**bs[np.argmin(np.abs(frac_pos - 0.5))],\n",
    "    10**bs[np.argmin(np.abs(frac_pos - 0.6))],\n",
    "    10**bs[np.argmin(np.abs(frac_pos - 0.7))],\n",
    "]"
   ]
  },
  {
   "cell_type": "code",
   "execution_count": null,
   "metadata": {
    "collapsed": true,
    "deletable": true,
    "editable": true
   },
   "outputs": [],
   "source": [
    "len(selections['a1b000206s0p000'])"
   ]
  },
  {
   "cell_type": "code",
   "execution_count": null,
   "metadata": {
    "collapsed": false,
    "deletable": true,
    "editable": true
   },
   "outputs": [],
   "source": [
    "selections_knn['a1b000398s0p000']"
   ]
  },
  {
   "cell_type": "code",
   "execution_count": null,
   "metadata": {
    "collapsed": false,
    "deletable": true,
    "editable": true
   },
   "outputs": [],
   "source": [
    "np.round(betas_fraction, 5)"
   ]
  },
  {
   "cell_type": "code",
   "execution_count": null,
   "metadata": {
    "collapsed": false,
    "deletable": true,
    "editable": true
   },
   "outputs": [],
   "source": [
    "beta_02 = 10**bs[np.argmin(np.abs(frac_pos - 0.2))]\n",
    "beta_05 = 10**bs[np.argmin(np.abs(frac_pos - 0.5))]\n",
    "np.round(beta_05, 5)"
   ]
  },
  {
   "cell_type": "code",
   "execution_count": null,
   "metadata": {
    "collapsed": true,
    "deletable": true,
    "editable": true
   },
   "outputs": [],
   "source": [
    "0.00257"
   ]
  },
  {
   "cell_type": "code",
   "execution_count": null,
   "metadata": {
    "collapsed": false,
    "deletable": true,
    "editable": true
   },
   "outputs": [],
   "source": [
    "FPM = FPM_K + 1e-3 * FPM_E\n",
    "\n",
    "p = 0.8\n",
    "s = 10**2\n",
    "s * (len(FPM)*(1-0.8))**2 / 10**6, FPM.sum() / 10**6"
   ]
  },
  {
   "cell_type": "code",
   "execution_count": null,
   "metadata": {
    "collapsed": false,
    "deletable": true,
    "editable": true
   },
   "outputs": [],
   "source": []
  },
  {
   "cell_type": "code",
   "execution_count": null,
   "metadata": {
    "collapsed": true,
    "deletable": true,
    "editable": true
   },
   "outputs": [],
   "source": [
    "E_norm_col = sp.sparse.linalg.norm(E, axis=1)"
   ]
  },
  {
   "cell_type": "code",
   "execution_count": null,
   "metadata": {
    "collapsed": true,
    "deletable": true,
    "editable": true
   },
   "outputs": [],
   "source": [
    "K_norm_col = sp.sparse.linalg.norm(K, axis=1)"
   ]
  },
  {
   "cell_type": "code",
   "execution_count": null,
   "metadata": {
    "collapsed": false,
    "deletable": true,
    "editable": true
   },
   "outputs": [],
   "source": [
    "plt.hist(K_norm_col[K_norm_col != 0], bins=100)\n",
    "plt.hist(E_norm_col[E_norm_col != 0], bins=100)\n",
    "plt.show()"
   ]
  },
  {
   "cell_type": "code",
   "execution_count": null,
   "metadata": {
    "collapsed": false,
    "deletable": true,
    "editable": true
   },
   "outputs": [],
   "source": [
    "plt.hist(E_norm_col[E_norm_col != 0] - K_norm_col[K_norm_col != 0], bins=100)"
   ]
  },
  {
   "cell_type": "code",
   "execution_count": null,
   "metadata": {
    "collapsed": false,
    "deletable": true,
    "editable": true
   },
   "outputs": [],
   "source": [
    "FPM = FPM_K + 0.00253 * FPM_E"
   ]
  },
  {
   "cell_type": "code",
   "execution_count": null,
   "metadata": {
    "collapsed": false,
    "deletable": true,
    "editable": true
   },
   "outputs": [],
   "source": [
    "np.sum(FPM > 0) / FPM.size"
   ]
  },
  {
   "cell_type": "code",
   "execution_count": null,
   "metadata": {
    "collapsed": false,
    "deletable": true,
    "editable": true
   },
   "outputs": [],
   "source": [
    "FPM[FPM > 0]"
   ]
  },
  {
   "cell_type": "code",
   "execution_count": null,
   "metadata": {
    "collapsed": false,
    "deletable": true,
    "editable": true
   },
   "outputs": [],
   "source": [
    "np.linalg.norm(FPM_K[FPM_K > 0]) / np.linalg.norm(FPM_E[FPM_E > 0])"
   ]
  },
  {
   "cell_type": "code",
   "execution_count": null,
   "metadata": {
    "collapsed": false,
    "deletable": true,
    "editable": true
   },
   "outputs": [],
   "source": [
    "selections = get_selections(dr_fpm_knn)"
   ]
  },
  {
   "cell_type": "code",
   "execution_count": null,
   "metadata": {
    "collapsed": false,
    "deletable": true,
    "editable": true
   },
   "outputs": [],
   "source": [
    "np.sum(selections[f'a1b{str(bs[1]).replace(\".\",\"\")}s0p000'])"
   ]
  },
  {
   "cell_type": "code",
   "execution_count": null,
   "metadata": {
    "collapsed": true,
    "deletable": true,
    "editable": true
   },
   "outputs": [],
   "source": [
    "bs = [0.00158, 0.00251, 0.00398, 0.00631]"
   ]
  },
  {
   "cell_type": "code",
   "execution_count": null,
   "metadata": {
    "collapsed": true,
    "deletable": true,
    "editable": true
   },
   "outputs": [],
   "source": [
    "class CQFSTTSampler:\n",
    "    _tol: float\n",
    "\n",
    "    def __init__(self, tol: float = 1e-4):\n",
    "        self._tol = tol\n",
    "\n",
    "    def _optimize_fixed_k_func(self, *args, W, k):\n",
    "        x = torch.vstack(args)\n",
    "        indicator = (x.sum(axis=0, keepdim=True) == k).to(DTYPE)\n",
    "        x *= indicator\n",
    "        return (x.T @ W @ x).diag()\n",
    "\n",
    "    def _optimize_fixed_k(self, W, k, eps=1e-6):\n",
    "        return tn.argmin(\n",
    "            function=partial(self._optimize_fixed_k_func, W=W, k=k),\n",
    "            rmax=100, max_iter=10, verbose=True, device=DEVICE,\n",
    "            domain=[torch.tensor([0, 1])] * len(W),\n",
    "        )\n",
    "\n",
    "    def _optimize(self, W, eps=1e-6):\n",
    "        N = W.shape[0]\n",
    "        assert W.shape[1] == N\n",
    "\n",
    "        # First term: x @ W @ x^T\n",
    "        ts = []\n",
    "        for n in range(N):\n",
    "            c = torch.zeros([1, 2, 1])\n",
    "            c[0, 1, 0] = 1\n",
    "            t = tn.Tensor([c])[:, None]\n",
    "            t.cores[1] = t.cores[1].repeat(1, N, 1)\n",
    "            t.cores[1][:, :n, :] = 0\n",
    "            t.cores[1][:, n + 1:, :] = 0\n",
    "            t = tn.unsqueeze(t, list(range(n)) + list(range(n + 1, N)))\n",
    "            t = t.repeat(*[2] * n, 1, *[2] * (N - n - 1), 1)\n",
    "            ts.append(t)\n",
    "        t = sum(ts)\n",
    "        ts = []\n",
    "        for n in range(N):\n",
    "            trow = t.clone()\n",
    "            trow.cores[-1] = torch.einsum('ijl,jk->ikl', trow.cores[-1],\n",
    "                                          W[:, n:n + 1])\n",
    "            ts.append(trow)\n",
    "        term1 = tn.reduce(ts, operator.add, eps=eps)[..., 0]\n",
    "\n",
    "        # Testing purposes\n",
    "        # val = torch.randint(0, 2, [1000, N])\n",
    "        # yhat = term1[list(val.t())].torch()\n",
    "        # y = torch.einsum('ij,jk,ik->i', val.double(), W, val.double())\n",
    "        # print(torch.linalg.norm(y-yhat) / torch.linalg.norm(y))\n",
    "\n",
    "        # Second term\n",
    "#         c = torch.eye(2, 2)[:, None, :].repeat(1, 2, 1)\n",
    "#         c[1, 0, 0] = (-k) ** 2\n",
    "#         c[1, 1, 0] = (1 - k) ** 2\n",
    "#         xs = tn.Tensor([c[-1:, :, :]] + [c] * (N - 2) + [c[:, :, 0:1]])\n",
    "#         term2 = s * tn.round_tt(xs, eps=eps)\n",
    "\n",
    "        # Minimize tensor\n",
    "        target = tn.round_tt(term1, eps=eps)\n",
    "        return tn.argmin(target, rmax=100, max_iter=10, verbose=True)\n",
    "\n",
    "    def sample(self, *, BQM):\n",
    "        BQM = torch.tensor(BQM, dtype=DTYPE, device=DEVICE)\n",
    "        f = self._optimize(BQM)\n",
    "#         f = self._optimize_fixed_k(FPM, k)\n",
    "        return np.array(f).astype(bool)\n",
    "#         return {\n",
    "#             i: f[i]\n",
    "#             for i in range(len(f))\n",
    "#         }"
   ]
  },
  {
   "cell_type": "code",
   "execution_count": null,
   "metadata": {
    "collapsed": false,
    "deletable": true,
    "editable": true
   },
   "outputs": [],
   "source": [
    "import tntorch as tn\n",
    "import torch\n",
    "import operator\n",
    "from functools import partial\n",
    "\n",
    "torch.set_default_dtype(torch.float64)\n",
    "DTYPE = torch.float64\n",
    "DEVICE = torch.device('cpu')"
   ]
  },
  {
   "cell_type": "code",
   "execution_count": null,
   "metadata": {
    "collapsed": true,
    "deletable": true,
    "editable": true
   },
   "outputs": [],
   "source": [
    "sampler = CQFSTTSampler()"
   ]
  },
  {
   "cell_type": "code",
   "execution_count": null,
   "metadata": {
    "collapsed": false,
    "deletable": true,
    "editable": true
   },
   "outputs": [],
   "source": [
    "selections_ours = {\n",
    "    key: sampler.sample(BQM=BQM)\n",
    "    for key, BQM in bqms_from_authors.items()\n",
    "}"
   ]
  },
  {
   "cell_type": "code",
   "execution_count": null,
   "metadata": {
    "collapsed": true,
    "deletable": true,
    "editable": true
   },
   "outputs": [],
   "source": []
  },
  {
   "cell_type": "code",
   "execution_count": null,
   "metadata": {
    "collapsed": false,
    "deletable": true,
    "editable": true
   },
   "outputs": [],
   "source": [
    "for key, BQM in bqms_from_authors.items():\n",
    "    s_a = selections_from_authors[key]\n",
    "    s_o = selections_ours[key]\n",
    "    \n",
    "    print(key)\n",
    "    print('Authors: ', s_a.T @ BQM @ s_a)\n",
    "    print('Ours:    ', s_o.T @ BQM @ s_o)\n",
    "    print('----')"
   ]
  },
  {
   "cell_type": "code",
   "execution_count": null,
   "metadata": {
    "collapsed": false,
    "deletable": true,
    "editable": true
   },
   "outputs": [],
   "source": [
    "selections_ours\n"
   ]
  },
  {
   "cell_type": "code",
   "execution_count": null,
   "metadata": {
    "collapsed": false,
    "deletable": true,
    "editable": true
   },
   "outputs": [],
   "source": [
    "selections_from_authors"
   ]
  },
  {
   "cell_type": "code",
   "execution_count": null,
   "metadata": {
    "collapsed": false,
    "deletable": true,
    "editable": true
   },
   "outputs": [],
   "source": [
    "FPM = torch.randn(80, 80)"
   ]
  },
  {
   "cell_type": "code",
   "execution_count": null,
   "metadata": {
    "collapsed": false,
    "deletable": true,
    "editable": true
   },
   "outputs": [],
   "source": [
    "sampler.sample(FPM=FPM, s=0, k=10)"
   ]
  }
 ],
 "metadata": {
  "kernelspec": {
   "display_name": "base",
   "language": "python",
   "name": "python3"
  },
  "language_info": {
   "codemirror_mode": {
    "name": "ipython",
    "version": 3
   },
   "file_extension": ".py",
   "mimetype": "text/x-python",
   "name": "python",
   "nbconvert_exporter": "python",
   "pygments_lexer": "ipython3",
   "version": "3.7.12"
  }
 },
 "nbformat": 4,
 "nbformat_minor": 2
}
